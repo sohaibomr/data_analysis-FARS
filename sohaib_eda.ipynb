{
 "cells": [
  {
   "cell_type": "code",
   "execution_count": 1,
   "metadata": {
    "collapsed": true
   },
   "outputs": [],
   "source": [
    "from __future__ import division\n",
    "#import required modules\n",
    "import pandas as pd \n",
    "from IPython.display import display\n",
    "import numpy as np\n",
    "#matplotlib for additional coustomization\n",
    "from matplotlib import pyplot as plt\n",
    "%matplotlib inline\n",
    "\n",
    "#seaborn for plotting and styling\n",
    "import seaborn as sns\n",
    "sns.color_palette(\"RdBu\", n_colors=7)\n",
    "# to supress printing of exponential notation in pandas\n",
    "pd.options.display.float_format = '{:20,.2f}'.format\n",
    "\n"
   ]
  },
  {
   "cell_type": "code",
   "execution_count": 2,
   "metadata": {
    "collapsed": true
   },
   "outputs": [],
   "source": [
    "#helper functions\n",
    "def bold(text_to_bold):\n",
    "    \"\"\"\n",
    "    Bolds given string.\n",
    "    args:todo\n",
    "    returns:todo\n",
    "    \"\"\"\n",
    "    bold = \"\\033[1m\"\n",
    "    reset = \"\\033[0;0m\"\n",
    "    return bold + text_to_bold + reset\n",
    "\n",
    "def count_plot(column, axis, df, percent):\n",
    "    total_rows = df.shape[0]\n",
    "    plt.figure(figsize=(16,8))\n",
    "    if axis == 'x':\n",
    "        ax = sns.countplot(x=column, data=df)\n",
    "    elif axis == 'y':\n",
    "        ax = sns.countplot(y=column, data=df)\n",
    "    \n",
    "    if percent == 'show' and axis != 'y':\n",
    "        for p in ax.patches:\n",
    "            height=p.get_height()\n",
    "            percent = (height*100)/total_rows\n",
    "            ax.text((p.get_x() + p.get_width()/2), p.get_height()+250, '{:1.2f} %'.format(percent), ha='center')\n",
    "    \n",
    "def show_unique(column, df):\n",
    "    \n",
    "    print \"There are {} unique values in column {}\\n\".format(str(len(df[column].unique())), column)\n",
    "    \n",
    "def stacked_chart(df, x, legend, title=None, barmode='stack', xaxistitle=None, yaxistitle=None):\n",
    "    \n",
    "    title = \" \" if title is None else title\n",
    "    xaxistitle = \" \" if xaxistitle is None else xaxistitle\n",
    "    yaxistitle = \" \" if yaxistitle is None else yaxistitle\n",
    "    \n",
    "    ct = pd.crosstab(index=df[x], columns=df[legend], normalize='index').rename_axis(None, axis=1).reset_index()\n",
    "    legend_list = ct.columns[1:]\n",
    "    \n",
    "    #data for chart\n",
    "    data = [Bar(x=ct[x], y=ct[col], name=str(col)) for col in legend_list]\n",
    "    layout = Layout(title=title, barmode=barmode,\n",
    "                   xaxis=dict(title=xaxistitle,showticklabels=True, type='category'),\n",
    "                yaxis=dict(title=yaxistitle))\n",
    "    \n",
    "    fig = Figure(data=data, layout=layout)\n",
    "    \n",
    "    return fig"
   ]
  },
  {
   "cell_type": "markdown",
   "metadata": {},
   "source": [
    "## stacked graphs"
   ]
  },
  {
   "cell_type": "code",
   "execution_count": 3,
   "metadata": {},
   "outputs": [
    {
     "name": "stdout",
     "output_type": "stream",
     "text": [
      "Data shape:\n",
      "151158 Rows x 17 Columns\n"
     ]
    },
    {
     "data": {
      "text/html": [
       "<div>\n",
       "<style>\n",
       "    .dataframe thead tr:only-child th {\n",
       "        text-align: right;\n",
       "    }\n",
       "\n",
       "    .dataframe thead th {\n",
       "        text-align: left;\n",
       "    }\n",
       "\n",
       "    .dataframe tbody tr th {\n",
       "        vertical-align: top;\n",
       "    }\n",
       "</style>\n",
       "<table border=\"1\" class=\"dataframe\">\n",
       "  <thead>\n",
       "    <tr style=\"text-align: right;\">\n",
       "      <th></th>\n",
       "      <th>caseid</th>\n",
       "      <th>state</th>\n",
       "      <th>age</th>\n",
       "      <th>airbag</th>\n",
       "      <th>injury</th>\n",
       "      <th>restraint</th>\n",
       "      <th>sex</th>\n",
       "      <th>inimpact</th>\n",
       "      <th>modelyr</th>\n",
       "      <th>airbagAvail</th>\n",
       "      <th>airbagDeploy</th>\n",
       "      <th>Restraint</th>\n",
       "      <th>D_injury</th>\n",
       "      <th>D_airbagAvail</th>\n",
       "      <th>D_airbagDeploy</th>\n",
       "      <th>D_Restraint</th>\n",
       "      <th>year</th>\n",
       "    </tr>\n",
       "  </thead>\n",
       "  <tbody>\n",
       "    <tr>\n",
       "      <th>0</th>\n",
       "      <td>1:1:2</td>\n",
       "      <td>1</td>\n",
       "      <td>20</td>\n",
       "      <td>30</td>\n",
       "      <td>3</td>\n",
       "      <td>1</td>\n",
       "      <td>2</td>\n",
       "      <td>12</td>\n",
       "      <td>1991</td>\n",
       "      <td>no</td>\n",
       "      <td>no</td>\n",
       "      <td>yes</td>\n",
       "      <td>3</td>\n",
       "      <td>no</td>\n",
       "      <td>no</td>\n",
       "      <td>yes</td>\n",
       "      <td>1998</td>\n",
       "    </tr>\n",
       "    <tr>\n",
       "      <th>1</th>\n",
       "      <td>1:2:1</td>\n",
       "      <td>1</td>\n",
       "      <td>41</td>\n",
       "      <td>30</td>\n",
       "      <td>2</td>\n",
       "      <td>0</td>\n",
       "      <td>1</td>\n",
       "      <td>2</td>\n",
       "      <td>1987</td>\n",
       "      <td>no</td>\n",
       "      <td>no</td>\n",
       "      <td>no</td>\n",
       "      <td>2</td>\n",
       "      <td>no</td>\n",
       "      <td>no</td>\n",
       "      <td>no</td>\n",
       "      <td>1998</td>\n",
       "    </tr>\n",
       "    <tr>\n",
       "      <th>2</th>\n",
       "      <td>1:3:1</td>\n",
       "      <td>1</td>\n",
       "      <td>26</td>\n",
       "      <td>30</td>\n",
       "      <td>3</td>\n",
       "      <td>0</td>\n",
       "      <td>1</td>\n",
       "      <td>4</td>\n",
       "      <td>1983</td>\n",
       "      <td>no</td>\n",
       "      <td>no</td>\n",
       "      <td>no</td>\n",
       "      <td>4</td>\n",
       "      <td>no</td>\n",
       "      <td>no</td>\n",
       "      <td>no</td>\n",
       "      <td>1998</td>\n",
       "    </tr>\n",
       "    <tr>\n",
       "      <th>3</th>\n",
       "      <td>1:8:1</td>\n",
       "      <td>1</td>\n",
       "      <td>17</td>\n",
       "      <td>1</td>\n",
       "      <td>4</td>\n",
       "      <td>0</td>\n",
       "      <td>1</td>\n",
       "      <td>11</td>\n",
       "      <td>1997</td>\n",
       "      <td>yes</td>\n",
       "      <td>yes</td>\n",
       "      <td>no</td>\n",
       "      <td>4</td>\n",
       "      <td>yes</td>\n",
       "      <td>yes</td>\n",
       "      <td>no</td>\n",
       "      <td>1998</td>\n",
       "    </tr>\n",
       "    <tr>\n",
       "      <th>4</th>\n",
       "      <td>1:10:1</td>\n",
       "      <td>1</td>\n",
       "      <td>19</td>\n",
       "      <td>30</td>\n",
       "      <td>3</td>\n",
       "      <td>0</td>\n",
       "      <td>1</td>\n",
       "      <td>12</td>\n",
       "      <td>1998</td>\n",
       "      <td>no</td>\n",
       "      <td>no</td>\n",
       "      <td>no</td>\n",
       "      <td>4</td>\n",
       "      <td>yes</td>\n",
       "      <td>yes</td>\n",
       "      <td>no</td>\n",
       "      <td>1998</td>\n",
       "    </tr>\n",
       "    <tr>\n",
       "      <th>5</th>\n",
       "      <td>1:13:1</td>\n",
       "      <td>1</td>\n",
       "      <td>1</td>\n",
       "      <td>30</td>\n",
       "      <td>4</td>\n",
       "      <td>4</td>\n",
       "      <td>1</td>\n",
       "      <td>3</td>\n",
       "      <td>1991</td>\n",
       "      <td>no</td>\n",
       "      <td>no</td>\n",
       "      <td>yes</td>\n",
       "      <td>3</td>\n",
       "      <td>no</td>\n",
       "      <td>no</td>\n",
       "      <td>yes</td>\n",
       "      <td>1998</td>\n",
       "    </tr>\n",
       "    <tr>\n",
       "      <th>6</th>\n",
       "      <td>1:15:1</td>\n",
       "      <td>1</td>\n",
       "      <td>24</td>\n",
       "      <td>1</td>\n",
       "      <td>3</td>\n",
       "      <td>0</td>\n",
       "      <td>1</td>\n",
       "      <td>2</td>\n",
       "      <td>1995</td>\n",
       "      <td>yes</td>\n",
       "      <td>yes</td>\n",
       "      <td>no</td>\n",
       "      <td>3</td>\n",
       "      <td>yes</td>\n",
       "      <td>yes</td>\n",
       "      <td>yes</td>\n",
       "      <td>1998</td>\n",
       "    </tr>\n",
       "    <tr>\n",
       "      <th>7</th>\n",
       "      <td>1:19:2</td>\n",
       "      <td>1</td>\n",
       "      <td>50</td>\n",
       "      <td>30</td>\n",
       "      <td>4</td>\n",
       "      <td>3</td>\n",
       "      <td>2</td>\n",
       "      <td>3</td>\n",
       "      <td>1984</td>\n",
       "      <td>no</td>\n",
       "      <td>no</td>\n",
       "      <td>yes</td>\n",
       "      <td>3</td>\n",
       "      <td>no</td>\n",
       "      <td>no</td>\n",
       "      <td>yes</td>\n",
       "      <td>1998</td>\n",
       "    </tr>\n",
       "    <tr>\n",
       "      <th>8</th>\n",
       "      <td>1:21:1</td>\n",
       "      <td>1</td>\n",
       "      <td>16</td>\n",
       "      <td>30</td>\n",
       "      <td>4</td>\n",
       "      <td>3</td>\n",
       "      <td>2</td>\n",
       "      <td>12</td>\n",
       "      <td>1991</td>\n",
       "      <td>no</td>\n",
       "      <td>no</td>\n",
       "      <td>yes</td>\n",
       "      <td>3</td>\n",
       "      <td>yes</td>\n",
       "      <td>yes</td>\n",
       "      <td>yes</td>\n",
       "      <td>1998</td>\n",
       "    </tr>\n",
       "    <tr>\n",
       "      <th>9</th>\n",
       "      <td>1:23:1</td>\n",
       "      <td>1</td>\n",
       "      <td>53</td>\n",
       "      <td>30</td>\n",
       "      <td>4</td>\n",
       "      <td>0</td>\n",
       "      <td>1</td>\n",
       "      <td>3</td>\n",
       "      <td>1988</td>\n",
       "      <td>no</td>\n",
       "      <td>no</td>\n",
       "      <td>no</td>\n",
       "      <td>4</td>\n",
       "      <td>no</td>\n",
       "      <td>no</td>\n",
       "      <td>no</td>\n",
       "      <td>1998</td>\n",
       "    </tr>\n",
       "  </tbody>\n",
       "</table>\n",
       "</div>"
      ],
      "text/plain": [
       "   caseid  state  age  airbag  injury  restraint  sex  inimpact  modelyr  \\\n",
       "0   1:1:2      1   20      30       3          1    2        12     1991   \n",
       "1   1:2:1      1   41      30       2          0    1         2     1987   \n",
       "2   1:3:1      1   26      30       3          0    1         4     1983   \n",
       "3   1:8:1      1   17       1       4          0    1        11     1997   \n",
       "4  1:10:1      1   19      30       3          0    1        12     1998   \n",
       "5  1:13:1      1    1      30       4          4    1         3     1991   \n",
       "6  1:15:1      1   24       1       3          0    1         2     1995   \n",
       "7  1:19:2      1   50      30       4          3    2         3     1984   \n",
       "8  1:21:1      1   16      30       4          3    2        12     1991   \n",
       "9  1:23:1      1   53      30       4          0    1         3     1988   \n",
       "\n",
       "  airbagAvail airbagDeploy Restraint  D_injury D_airbagAvail D_airbagDeploy  \\\n",
       "0          no           no       yes         3            no             no   \n",
       "1          no           no        no         2            no             no   \n",
       "2          no           no        no         4            no             no   \n",
       "3         yes          yes        no         4           yes            yes   \n",
       "4          no           no        no         4           yes            yes   \n",
       "5          no           no       yes         3            no             no   \n",
       "6         yes          yes        no         3           yes            yes   \n",
       "7          no           no       yes         3            no             no   \n",
       "8          no           no       yes         3           yes            yes   \n",
       "9          no           no        no         4            no             no   \n",
       "\n",
       "  D_Restraint  year  \n",
       "0         yes  1998  \n",
       "1          no  1998  \n",
       "2          no  1998  \n",
       "3          no  1998  \n",
       "4          no  1998  \n",
       "5         yes  1998  \n",
       "6         yes  1998  \n",
       "7         yes  1998  \n",
       "8         yes  1998  \n",
       "9          no  1998  "
      ]
     },
     "execution_count": 3,
     "metadata": {},
     "output_type": "execute_result"
    }
   ],
   "source": [
    "data = pd.read_csv('data/FARS.csv')\n",
    "data = data.drop(labels=['Unnamed: 0'], axis=1)\n",
    "print \"Data shape:\"\n",
    "print \"{} Rows x {} Columns\".format(str(data.shape[0]), str(data.shape[1]))\n",
    "data.head(10)"
   ]
  },
  {
   "cell_type": "code",
   "execution_count": 4,
   "metadata": {},
   "outputs": [
    {
     "data": {
      "image/png": "[encoded data removed]",
      "text/plain": [
       "<matplotlib.figure.Figure at 0x7f0c0bcd5e50>"
      ]
     },
     "metadata": {},
     "output_type": "display_data"
    }
   ],
   "source": [
    "g = sns.FacetGrid(data, col=\"year\", col_wrap=4, sharex=False)\n",
    "g = g.map(sns.countplot, 'D_injury')"
   ]
  },
  {
   "cell_type": "code",
   "execution_count": 5,
   "metadata": {
    "scrolled": false
   },
   "outputs": [
    {
     "data": {
      "image/png": "[encoded data removed]",
      "text/plain": [
       "<matplotlib.figure.Figure at 0x7f0c0bcd5cd0>"
      ]
     },
     "metadata": {},
     "output_type": "display_data"
    }
   ],
   "source": [
    "g = sns.FacetGrid(data, col=\"year\", col_wrap=4, sharex=False)\n",
    "g = g.map(sns.countplot, 'airbag')"
   ]
  },
  {
   "cell_type": "markdown",
   "metadata": {},
   "source": [
    "### stacked bar graph type 30 vs all"
   ]
  },
  {
   "cell_type": "code",
   "execution_count": 6,
   "metadata": {
    "collapsed": true
   },
   "outputs": [],
   "source": [
    "#lazy, need to find an optimized way to do this.\n",
    "airbag_df = data[['airbag', 'year']]\n",
    "airbag_df.loc[airbag_df.airbag != 30, 'airbag'] = 'other'"
   ]
  },
  {
   "cell_type": "code",
   "execution_count": 7,
   "metadata": {},
   "outputs": [
    {
     "data": {
      "text/html": [
       "<div>\n",
       "<style>\n",
       "    .dataframe thead tr:only-child th {\n",
       "        text-align: right;\n",
       "    }\n",
       "\n",
       "    .dataframe thead th {\n",
       "        text-align: left;\n",
       "    }\n",
       "\n",
       "    .dataframe tbody tr th {\n",
       "        vertical-align: top;\n",
       "    }\n",
       "</style>\n",
       "<table border=\"1\" class=\"dataframe\">\n",
       "  <thead>\n",
       "    <tr style=\"text-align: right;\">\n",
       "      <th></th>\n",
       "      <th>airbag</th>\n",
       "      <th>year</th>\n",
       "    </tr>\n",
       "  </thead>\n",
       "  <tbody>\n",
       "    <tr>\n",
       "      <th>0</th>\n",
       "      <td>30</td>\n",
       "      <td>1998</td>\n",
       "    </tr>\n",
       "    <tr>\n",
       "      <th>1</th>\n",
       "      <td>30</td>\n",
       "      <td>1998</td>\n",
       "    </tr>\n",
       "    <tr>\n",
       "      <th>2</th>\n",
       "      <td>30</td>\n",
       "      <td>1998</td>\n",
       "    </tr>\n",
       "    <tr>\n",
       "      <th>3</th>\n",
       "      <td>other</td>\n",
       "      <td>1998</td>\n",
       "    </tr>\n",
       "    <tr>\n",
       "      <th>4</th>\n",
       "      <td>30</td>\n",
       "      <td>1998</td>\n",
       "    </tr>\n",
       "  </tbody>\n",
       "</table>\n",
       "</div>"
      ],
      "text/plain": [
       "  airbag  year\n",
       "0     30  1998\n",
       "1     30  1998\n",
       "2     30  1998\n",
       "3  other  1998\n",
       "4     30  1998"
      ]
     },
     "execution_count": 7,
     "metadata": {},
     "output_type": "execute_result"
    }
   ],
   "source": [
    "airbag_df.head()"
   ]
  },
  {
   "cell_type": "code",
   "execution_count": 8,
   "metadata": {},
   "outputs": [
    {
     "data": {
      "image/png": "[encoded data removed]",
      "text/plain": [
       "<matplotlib.figure.Figure at 0x7f0c06096c10>"
      ]
     },
     "metadata": {},
     "output_type": "display_data"
    }
   ],
   "source": [
    "plt.figure(figsize = (14,10))\n",
    "ax = sns.countplot(x='year', hue='airbag', data=airbag_df)\n",
    "total_rows = airbag_df.shape[0]"
   ]
  },
  {
   "cell_type": "markdown",
   "metadata": {},
   "source": [
    "### Fatal Injuries in  states"
   ]
  },
  {
   "cell_type": "code",
   "execution_count": 9,
   "metadata": {},
   "outputs": [
    {
     "data": {
      "image/png": "[encoded data removed]",
      "text/plain": [
       "<matplotlib.figure.Figure at 0x7f0c0ac9d390>"
      ]
     },
     "metadata": {},
     "output_type": "display_data"
    }
   ],
   "source": [
    "#states with a;; passangers deaths\n",
    "fatalp_states = data[(data.injury == 4)]\n",
    "count_plot('state', 'x', fatalp_states, 'notshow')"
   ]
  },
  {
   "cell_type": "code",
   "execution_count": 10,
   "metadata": {},
   "outputs": [
    {
     "data": {
      "image/png": "[encoded data removed]",
      "text/plain": [
       "<matplotlib.figure.Figure at 0x7f0c0a0cbb90>"
      ]
     },
     "metadata": {},
     "output_type": "display_data"
    }
   ],
   "source": [
    "#states with driver deaths\n",
    "fatald_states = data[(data.D_injury == 4)]\n",
    "count_plot('state', 'x', fatald_states, 'notshow')"
   ]
  },
  {
   "cell_type": "code",
   "execution_count": 11,
   "metadata": {
    "collapsed": true,
    "scrolled": false
   },
   "outputs": [],
   "source": [
    "#g = sns.FacetGrid(fatald_states, col=\"state\", col_wrap=4, sharex=False)\n",
    "#g = g.map(sns.countplot, 'D_injury')"
   ]
  },
  {
   "cell_type": "markdown",
   "metadata": {
    "collapsed": true
   },
   "source": [
    "### Injury over years "
   ]
  },
  {
   "cell_type": "code",
   "execution_count": 12,
   "metadata": {},
   "outputs": [
    {
     "data": {
      "text/plain": [
       "<matplotlib.axes._subplots.AxesSubplot at 0x7f0c42bfafd0>"
      ]
     },
     "execution_count": 12,
     "metadata": {},
     "output_type": "execute_result"
    },
    {
     "data": {
      "image/png": "[encoded data removed]",
      "text/plain": [
       "<matplotlib.figure.Figure at 0x7f0c0ae2f310>"
      ]
     },
     "metadata": {},
     "output_type": "display_data"
    }
   ],
   "source": [
    "plt.figure(figsize=(16,8))\n",
    "sns.countplot(x='year', hue='injury', data=data)"
   ]
  },
  {
   "cell_type": "code",
   "execution_count": 13,
   "metadata": {
    "collapsed": true
   },
   "outputs": [],
   "source": [
    "#stacked chart for passengers death\n",
    "#todo"
   ]
  },
  {
   "cell_type": "code",
   "execution_count": 14,
   "metadata": {},
   "outputs": [
    {
     "data": {
      "text/html": [
       "<div>\n",
       "<style>\n",
       "    .dataframe thead tr:only-child th {\n",
       "        text-align: right;\n",
       "    }\n",
       "\n",
       "    .dataframe thead th {\n",
       "        text-align: left;\n",
       "    }\n",
       "\n",
       "    .dataframe tbody tr th {\n",
       "        vertical-align: top;\n",
       "    }\n",
       "</style>\n",
       "<table border=\"1\" class=\"dataframe\">\n",
       "  <thead>\n",
       "    <tr style=\"text-align: right;\">\n",
       "      <th></th>\n",
       "      <th>year</th>\n",
       "      <th>injury</th>\n",
       "    </tr>\n",
       "  </thead>\n",
       "  <tbody>\n",
       "    <tr>\n",
       "      <th>0</th>\n",
       "      <td>1998</td>\n",
       "      <td>other</td>\n",
       "    </tr>\n",
       "    <tr>\n",
       "      <th>1</th>\n",
       "      <td>1998</td>\n",
       "      <td>other</td>\n",
       "    </tr>\n",
       "    <tr>\n",
       "      <th>2</th>\n",
       "      <td>1998</td>\n",
       "      <td>other</td>\n",
       "    </tr>\n",
       "    <tr>\n",
       "      <th>3</th>\n",
       "      <td>1998</td>\n",
       "      <td>4</td>\n",
       "    </tr>\n",
       "    <tr>\n",
       "      <th>4</th>\n",
       "      <td>1998</td>\n",
       "      <td>other</td>\n",
       "    </tr>\n",
       "  </tbody>\n",
       "</table>\n",
       "</div>"
      ],
      "text/plain": [
       "   year injury\n",
       "0  1998  other\n",
       "1  1998  other\n",
       "2  1998  other\n",
       "3  1998      4\n",
       "4  1998  other"
      ]
     },
     "execution_count": 14,
     "metadata": {},
     "output_type": "execute_result"
    }
   ],
   "source": [
    "#injury vs others\n",
    "injuryother = data[['year', 'injury']]\n",
    "injuryother.loc[injuryother.injury != 4, 'injury'] = 'other'\n",
    "injuryother.head()"
   ]
  },
  {
   "cell_type": "code",
   "execution_count": 15,
   "metadata": {},
   "outputs": [
    {
     "data": {
      "text/plain": [
       "<matplotlib.axes._subplots.AxesSubplot at 0x7f0c0b4cabd0>"
      ]
     },
     "execution_count": 15,
     "metadata": {},
     "output_type": "execute_result"
    },
    {
     "data": {
      "image/png": "[encoded data removed]",
      "text/plain": [
       "<matplotlib.figure.Figure at 0x7f0c0b0ad550>"
      ]
     },
     "metadata": {},
     "output_type": "display_data"
    }
   ],
   "source": [
    "plt.figure(figsize=(16,8))\n",
    "sns.countplot(x='year', hue='injury', data=injuryother)"
   ]
  },
  {
   "cell_type": "code",
   "execution_count": 16,
   "metadata": {},
   "outputs": [
    {
     "data": {
      "image/png": "[encoded data removed]",
      "text/plain": [
       "<matplotlib.figure.Figure at 0x7f0c0ae6b490>"
      ]
     },
     "metadata": {},
     "output_type": "display_data"
    }
   ],
   "source": [
    "plt.figure(figsize=(12,8))\n",
    "#stacked\n",
    "fataldf = injuryother[injuryother.injury == 4]\n",
    "otherdf = injuryother[injuryother.injury == 'other']\n",
    "years = data.year.unique()\n",
    "fatal = []\n",
    "other = []\n",
    "#for fatal\n",
    "for year in years:\n",
    "    total = len(fataldf[fataldf.year == year])\n",
    "    fatal.append(total)\n",
    "\n",
    "#for other\n",
    "for year in years:\n",
    "    total = len(otherdf[otherdf.year == year])\n",
    "    other.append(total)\n",
    "\n",
    "#arange x locations for years\n",
    "ind = np.arange(len(years))\n",
    "\n",
    "width = 1       # the width of the bars: can also be len(x) sequence\n",
    "\n",
    "#positions for xticks\n",
    "xticks_pos = [i+(width/2) for i in ind]\n",
    "\n",
    "p1 = plt.bar(ind, fatal)\n",
    "p2 = plt.bar(ind, other, bottom=fatal, color='#d62728')\n",
    "\n",
    "plt.ylabel('No. of Accidents')\n",
    "plt.xlabel('Years')\n",
    "plt.title('Deaths by Year')\n",
    "\n",
    "plt.xticks(xticks_pos, years)\n",
    "plt.yticks(np.arange(0, 15000, 500))\n",
    "plt.legend((p1[0], p2[0]), ('Fatal', 'other'), loc=0)\n",
    "plt.show()"
   ]
  },
  {
   "cell_type": "code",
   "execution_count": 17,
   "metadata": {},
   "outputs": [
    {
     "data": {
      "text/plain": [
       "<matplotlib.axes._subplots.AxesSubplot at 0x7f0c0aee9050>"
      ]
     },
     "execution_count": 17,
     "metadata": {},
     "output_type": "execute_result"
    },
    {
     "data": {
      "image/png": "[encoded data removed]",
      "text/plain": [
       "<matplotlib.figure.Figure at 0x7f0c0a5ffe90>"
      ]
     },
     "metadata": {},
     "output_type": "display_data"
    }
   ],
   "source": [
    "# lets see which years cars models were usesd most finding top 10\n",
    "modeldf = data[['airbag', 'modelyr','inimpact', 'year', 'injury', 'airbagAvail','airbagDeploy','D_injury', 'D_airbagAvail', 'D_airbagDeploy']]\n",
    "topmodels = list(modeldf.modelyr.value_counts().keys()[0:5])\n",
    "modeldf = modeldf[modeldf.modelyr.isin(topmodels)]\n",
    "plt.figure(figsize=(14,8))\n",
    "sns.countplot(x='year', hue='modelyr', data=modeldf)"
   ]
  },
  {
   "cell_type": "code",
   "execution_count": 18,
   "metadata": {},
   "outputs": [
    {
     "data": {
      "text/plain": [
       "<matplotlib.axes._subplots.AxesSubplot at 0x7f0c05bb4610>"
      ]
     },
     "execution_count": 18,
     "metadata": {},
     "output_type": "execute_result"
    },
    {
     "data": {
      "image/png": "[encoded data removed]",
      "text/plain": [
       "<matplotlib.figure.Figure at 0x7f0c0b01f110>"
      ]
     },
     "metadata": {},
     "output_type": "display_data"
    },
    {
     "data": {
      "image/png": "[encoded data removed]",
      "text/plain": [
       "<matplotlib.figure.Figure at 0x7f0c0b38f090>"
      ]
     },
     "metadata": {},
     "output_type": "display_data"
    }
   ],
   "source": [
    "bagavail = modeldf[modeldf.airbagAvail == 'yes']\n",
    "\n",
    "plt.figure(figsize=(12,8))\n",
    "sns.countplot(x='modelyr', hue='airbagDeploy', data=bagavail)\n",
    "\n",
    "bagavail = modeldf[modeldf.D_airbagAvail == 'yes']\n",
    "\n",
    "plt.figure(figsize=(12,8))\n",
    "sns.countplot(x='modelyr', hue='D_airbagDeploy', data=bagavail)"
   ]
  },
  {
   "cell_type": "code",
   "execution_count": 19,
   "metadata": {},
   "outputs": [
    {
     "data": {
      "text/plain": [
       "array([4, 3, 0, 2, 1, 5])"
      ]
     },
     "execution_count": 19,
     "metadata": {},
     "output_type": "execute_result"
    }
   ],
   "source": [
    "#lets dig deeper in what car models inimpacats airbag was not deployed for passenger\n",
    "#but first lets generalize impacts types to top front, back, left, right\n",
    "driverside = [7,8,9,10,11,62,63,61]\n",
    "passengerside = [1,2,3,4,5,82,83,81]\n",
    "modeldf.loc[modeldf.inimpact.isin(driverside), 'inimpact'] = 'D_Side'\n",
    "modeldf.loc[modeldf.inimpact.isin(passengerside), 'inimpact'] = 'P_Side'\n",
    "modeldf.D_injury.unique()"
   ]
  },
  {
   "cell_type": "code",
   "execution_count": 20,
   "metadata": {
    "collapsed": true
   },
   "outputs": [],
   "source": [
    "#inimpacts distribution in top 5 car models\n",
    "#sns.countplot(x='inimpact', hue='modelyr', data=modeldf)"
   ]
  },
  {
   "cell_type": "code",
   "execution_count": 21,
   "metadata": {},
   "outputs": [
    {
     "data": {
      "text/html": [
       "<div>\n",
       "<style>\n",
       "    .dataframe thead tr:only-child th {\n",
       "        text-align: right;\n",
       "    }\n",
       "\n",
       "    .dataframe thead th {\n",
       "        text-align: left;\n",
       "    }\n",
       "\n",
       "    .dataframe tbody tr th {\n",
       "        vertical-align: top;\n",
       "    }\n",
       "</style>\n",
       "<table border=\"1\" class=\"dataframe\">\n",
       "  <thead>\n",
       "    <tr style=\"text-align: right;\">\n",
       "      <th></th>\n",
       "      <th>inimpact</th>\n",
       "      <th>0</th>\n",
       "      <th>1</th>\n",
       "      <th>2</th>\n",
       "      <th>3</th>\n",
       "      <th>4</th>\n",
       "      <th>5</th>\n",
       "    </tr>\n",
       "  </thead>\n",
       "  <tbody>\n",
       "    <tr>\n",
       "      <th>0</th>\n",
       "      <td>0</td>\n",
       "      <td>0.04</td>\n",
       "      <td>0.07</td>\n",
       "      <td>0.21</td>\n",
       "      <td>0.22</td>\n",
       "      <td>0.45</td>\n",
       "      <td>0.00</td>\n",
       "    </tr>\n",
       "    <tr>\n",
       "      <th>1</th>\n",
       "      <td>6</td>\n",
       "      <td>0.28</td>\n",
       "      <td>0.16</td>\n",
       "      <td>0.19</td>\n",
       "      <td>0.17</td>\n",
       "      <td>0.21</td>\n",
       "      <td>0.00</td>\n",
       "    </tr>\n",
       "    <tr>\n",
       "      <th>2</th>\n",
       "      <td>12</td>\n",
       "      <td>0.21</td>\n",
       "      <td>0.10</td>\n",
       "      <td>0.19</td>\n",
       "      <td>0.21</td>\n",
       "      <td>0.28</td>\n",
       "      <td>0.00</td>\n",
       "    </tr>\n",
       "    <tr>\n",
       "      <th>3</th>\n",
       "      <td>13</td>\n",
       "      <td>0.10</td>\n",
       "      <td>0.04</td>\n",
       "      <td>0.16</td>\n",
       "      <td>0.23</td>\n",
       "      <td>0.47</td>\n",
       "      <td>0.00</td>\n",
       "    </tr>\n",
       "    <tr>\n",
       "      <th>4</th>\n",
       "      <td>14</td>\n",
       "      <td>0.25</td>\n",
       "      <td>0.05</td>\n",
       "      <td>0.16</td>\n",
       "      <td>0.17</td>\n",
       "      <td>0.37</td>\n",
       "      <td>0.00</td>\n",
       "    </tr>\n",
       "    <tr>\n",
       "      <th>5</th>\n",
       "      <td>18</td>\n",
       "      <td>0.50</td>\n",
       "      <td>0.03</td>\n",
       "      <td>0.12</td>\n",
       "      <td>0.09</td>\n",
       "      <td>0.26</td>\n",
       "      <td>0.00</td>\n",
       "    </tr>\n",
       "    <tr>\n",
       "      <th>6</th>\n",
       "      <td>98</td>\n",
       "      <td>0.00</td>\n",
       "      <td>0.18</td>\n",
       "      <td>0.36</td>\n",
       "      <td>0.09</td>\n",
       "      <td>0.36</td>\n",
       "      <td>0.00</td>\n",
       "    </tr>\n",
       "    <tr>\n",
       "      <th>7</th>\n",
       "      <td>99</td>\n",
       "      <td>0.11</td>\n",
       "      <td>0.07</td>\n",
       "      <td>0.20</td>\n",
       "      <td>0.21</td>\n",
       "      <td>0.40</td>\n",
       "      <td>0.00</td>\n",
       "    </tr>\n",
       "    <tr>\n",
       "      <th>8</th>\n",
       "      <td>D_Side</td>\n",
       "      <td>0.15</td>\n",
       "      <td>0.07</td>\n",
       "      <td>0.12</td>\n",
       "      <td>0.14</td>\n",
       "      <td>0.53</td>\n",
       "      <td>0.00</td>\n",
       "    </tr>\n",
       "    <tr>\n",
       "      <th>9</th>\n",
       "      <td>P_Side</td>\n",
       "      <td>0.15</td>\n",
       "      <td>0.11</td>\n",
       "      <td>0.23</td>\n",
       "      <td>0.26</td>\n",
       "      <td>0.26</td>\n",
       "      <td>0.00</td>\n",
       "    </tr>\n",
       "  </tbody>\n",
       "</table>\n",
       "</div>"
      ],
      "text/plain": [
       "  inimpact                    0                    1                    2  \\\n",
       "0        0                 0.04                 0.07                 0.21   \n",
       "1        6                 0.28                 0.16                 0.19   \n",
       "2       12                 0.21                 0.10                 0.19   \n",
       "3       13                 0.10                 0.04                 0.16   \n",
       "4       14                 0.25                 0.05                 0.16   \n",
       "5       18                 0.50                 0.03                 0.12   \n",
       "6       98                 0.00                 0.18                 0.36   \n",
       "7       99                 0.11                 0.07                 0.20   \n",
       "8   D_Side                 0.15                 0.07                 0.12   \n",
       "9   P_Side                 0.15                 0.11                 0.23   \n",
       "\n",
       "                     3                    4                    5  \n",
       "0                 0.22                 0.45                 0.00  \n",
       "1                 0.17                 0.21                 0.00  \n",
       "2                 0.21                 0.28                 0.00  \n",
       "3                 0.23                 0.47                 0.00  \n",
       "4                 0.17                 0.37                 0.00  \n",
       "5                 0.09                 0.26                 0.00  \n",
       "6                 0.09                 0.36                 0.00  \n",
       "7                 0.21                 0.40                 0.00  \n",
       "8                 0.14                 0.53                 0.00  \n",
       "9                 0.26                 0.26                 0.00  "
      ]
     },
     "execution_count": 21,
     "metadata": {},
     "output_type": "execute_result"
    },
    {
     "data": {
      "text/plain": [
       "<matplotlib.figure.Figure at 0x7f0c0b433810>"
      ]
     },
     "metadata": {},
     "output_type": "display_data"
    }
   ],
   "source": [
    "#fatal injuries of driver and passengers on different inimpacts\n",
    "#impact of passenger side collision on driver and passenger\n",
    "plt.figure(figsize=(14,8))\n",
    "#cluster graph\n",
    "#sns.countplot(x='inimpact', hue='D_injury', data=modeldf)\n",
    "#seems like more drivers have died when car was hit on driver side and vice versa which is normal.\n",
    "ct = pd.crosstab(modeldf['inimpact'], modeldf['D_injury'], normalize='index').rename_axis(None, axis=1).reset_index()\n",
    "#ct['inimpact'] = ct.inimpact.astype('category')\n",
    "ct"
   ]
  },
  {
   "cell_type": "code",
   "execution_count": 22,
   "metadata": {
    "collapsed": true
   },
   "outputs": [],
   "source": [
    "#todo: stacak above\n",
    "#dig into states data and see deaths behavior over the years in top states"
   ]
  },
  {
   "cell_type": "code",
   "execution_count": null,
   "metadata": {
    "collapsed": true
   },
   "outputs": [],
   "source": [
    "\n",
    "    \n",
    "    "
   ]
  },
  {
   "cell_type": "markdown",
   "metadata": {
    "collapsed": true
   },
   "source": [
    "### Stacked graph using plotly"
   ]
  },
  {
   "cell_type": "code",
   "execution_count": 23,
   "metadata": {},
   "outputs": [
    {
     "data": {
      "text/html": [
       "<script>requirejs.config({paths: { 'plotly': ['https://cdn.plot.ly/plotly-latest.min']},});if(!window.Plotly) {{require(['plotly'],function(plotly) {window.Plotly=plotly;});}}</script>"
      ],
      "text/vnd.plotly.v1+html": [
       "<script>requirejs.config({paths: { 'plotly': ['https://cdn.plot.ly/plotly-latest.min']},});if(!window.Plotly) {{require(['plotly'],function(plotly) {window.Plotly=plotly;});}}</script>"
      ]
     },
     "metadata": {},
     "output_type": "display_data"
    }
   ],
   "source": [
    "from plotly.offline import init_notebook_mode, iplot\n",
    "import plotly.figure_factory as ff\n",
    "from plotly.graph_objs import *\n",
    "init_notebook_mode(connected=True)         # initiate notebook for offline plot\n"
   ]
  },
  {
   "cell_type": "code",
   "execution_count": 24,
   "metadata": {},
   "outputs": [
    {
     "data": {
      "application/vnd.plotly.v1+json": {
       "data": [
        {
         "name": "0",
         "type": "bar",
         "x": [
          0,
          6,
          12,
          13,
          14,
          18,
          98,
          99,
          "D_Side",
          "P_Side"
         ],
         "y": [
          0.04422730779120596,
          0.28394004282655244,
          0.21155778894472363,
          0.10440835266821345,
          0.2523364485981308,
          0.5,
          0,
          0.10981912144702842,
          0.14567055549609334,
          0.14946471260783703
         ]
        },
        {
         "name": "1",
         "type": "bar",
         "x": [
          0,
          6,
          12,
          13,
          14,
          18,
          98,
          99,
          "D_Side",
          "P_Side"
         ],
         "y": [
          0.06659809719722294,
          0.15674518201284796,
          0.10236180904522613,
          0.037122969837587005,
          0.04984423676012461,
          0.029411764705882353,
          0.18181818181818182,
          0.07364341085271318,
          0.06550358557208605,
          0.10705747843259536
         ]
        },
        {
         "name": "2",
         "type": "bar",
         "x": [
          0,
          6,
          12,
          13,
          14,
          18,
          98,
          99,
          "D_Side",
          "P_Side"
         ],
         "y": [
          0.21419388017485214,
          0.1867237687366167,
          0.1899497487437186,
          0.1554524361948956,
          0.16095534787123572,
          0.11764705882352941,
          0.36363636363636365,
          0.20155038759689922,
          0.12212351493096436,
          0.22606797630183972
         ]
        },
        {
         "name": "3",
         "type": "bar",
         "x": [
          0,
          6,
          12,
          13,
          14,
          18,
          98,
          99,
          "D_Side",
          "P_Side"
         ],
         "y": [
          0.22216508099768578,
          0.1657387580299786,
          0.21,
          0.2273781902552204,
          0.16822429906542055,
          0.08823529411764706,
          0.09090909090909091,
          0.20930232558139536,
          0.13796425131114204,
          0.256210373142085
         ]
        },
        {
         "name": "4",
         "type": "bar",
         "x": [
          0,
          6,
          12,
          13,
          14,
          18,
          98,
          99,
          "D_Side",
          "P_Side"
         ],
         "y": [
          0.4510156852661353,
          0.2051391862955032,
          0.28311557788944725,
          0.4733178654292343,
          0.367601246105919,
          0.2647058823529412,
          0.36363636363636365,
          0.4018087855297158,
          0.5269185486460451,
          0.2582891591310675
         ]
        },
        {
         "name": "5",
         "type": "bar",
         "x": [
          0,
          6,
          12,
          13,
          14,
          18,
          98,
          99,
          "D_Side",
          "P_Side"
         ],
         "y": [
          0.0017999485728979173,
          0.0017130620985010706,
          0.003015075376884422,
          0.002320185614849188,
          0.0010384215991692627,
          0,
          0,
          0.003875968992248062,
          0.001819544043669057,
          0.0029103003845754078
         ]
        }
       ],
       "layout": {
        "barmode": "stack",
        "title": "Accidents By Initial Impact",
        "xaxis": {
         "showticklabels": true,
         "title": "Year",
         "type": "category"
        },
        "yaxis": {
         "title": "Injury Count"
        }
       }
      },
      "text/html": [
       "<div id=\"77f5b9ba-c490-430f-8139-8ebdd099566a\" style=\"height: 525px; width: 100%;\" class=\"plotly-graph-div\"></div><script type=\"text/javascript\">require([\"plotly\"], function(Plotly) { window.PLOTLYENV=window.PLOTLYENV || {};window.PLOTLYENV.BASE_URL=\"https://plot.ly\";Plotly.newPlot(\"77f5b9ba-c490-430f-8139-8ebdd099566a\", [{\"y\": [0.04422730779120596, 0.28394004282655244, 0.21155778894472363, 0.10440835266821345, 0.2523364485981308, 0.5, 0.0, 0.10981912144702842, 0.14567055549609334, 0.14946471260783703], \"x\": [0, 6, 12, 13, 14, 18, 98, 99, \"D_Side\", \"P_Side\"], \"type\": \"bar\", \"name\": \"0\"}, {\"y\": [0.06659809719722294, 0.15674518201284796, 0.10236180904522613, 0.037122969837587005, 0.04984423676012461, 0.029411764705882353, 0.18181818181818182, 0.07364341085271318, 0.06550358557208605, 0.10705747843259536], \"x\": [0, 6, 12, 13, 14, 18, 98, 99, \"D_Side\", \"P_Side\"], \"type\": \"bar\", \"name\": \"1\"}, {\"y\": [0.21419388017485214, 0.1867237687366167, 0.1899497487437186, 0.1554524361948956, 0.16095534787123572, 0.11764705882352941, 0.36363636363636365, 0.20155038759689922, 0.12212351493096436, 0.22606797630183972], \"x\": [0, 6, 12, 13, 14, 18, 98, 99, \"D_Side\", \"P_Side\"], \"type\": \"bar\", \"name\": \"2\"}, {\"y\": [0.22216508099768578, 0.1657387580299786, 0.21, 0.2273781902552204, 0.16822429906542055, 0.08823529411764706, 0.09090909090909091, 0.20930232558139536, 0.13796425131114204, 0.256210373142085], \"x\": [0, 6, 12, 13, 14, 18, 98, 99, \"D_Side\", \"P_Side\"], \"type\": \"bar\", \"name\": \"3\"}, {\"y\": [0.4510156852661353, 0.2051391862955032, 0.28311557788944725, 0.4733178654292343, 0.367601246105919, 0.2647058823529412, 0.36363636363636365, 0.4018087855297158, 0.5269185486460451, 0.2582891591310675], \"x\": [0, 6, 12, 13, 14, 18, 98, 99, \"D_Side\", \"P_Side\"], \"type\": \"bar\", \"name\": \"4\"}, {\"y\": [0.0017999485728979173, 0.0017130620985010706, 0.003015075376884422, 0.002320185614849188, 0.0010384215991692627, 0.0, 0.0, 0.003875968992248062, 0.001819544043669057, 0.0029103003845754078], \"x\": [0, 6, 12, 13, 14, 18, 98, 99, \"D_Side\", \"P_Side\"], \"type\": \"bar\", \"name\": \"5\"}], {\"barmode\": \"stack\", \"title\": \"Accidents By Initial Impact\", \"xaxis\": {\"showticklabels\": true, \"type\": \"category\", \"title\": \"Year\"}, \"yaxis\": {\"title\": \"Injury Count\"}}, {\"linkText\": \"Export to plot.ly\", \"showLink\": true})});</script>"
      ],
      "text/vnd.plotly.v1+html": [
       "<div id=\"77f5b9ba-c490-430f-8139-8ebdd099566a\" style=\"height: 525px; width: 100%;\" class=\"plotly-graph-div\"></div><script type=\"text/javascript\">require([\"plotly\"], function(Plotly) { window.PLOTLYENV=window.PLOTLYENV || {};window.PLOTLYENV.BASE_URL=\"https://plot.ly\";Plotly.newPlot(\"77f5b9ba-c490-430f-8139-8ebdd099566a\", [{\"y\": [0.04422730779120596, 0.28394004282655244, 0.21155778894472363, 0.10440835266821345, 0.2523364485981308, 0.5, 0.0, 0.10981912144702842, 0.14567055549609334, 0.14946471260783703], \"x\": [0, 6, 12, 13, 14, 18, 98, 99, \"D_Side\", \"P_Side\"], \"type\": \"bar\", \"name\": \"0\"}, {\"y\": [0.06659809719722294, 0.15674518201284796, 0.10236180904522613, 0.037122969837587005, 0.04984423676012461, 0.029411764705882353, 0.18181818181818182, 0.07364341085271318, 0.06550358557208605, 0.10705747843259536], \"x\": [0, 6, 12, 13, 14, 18, 98, 99, \"D_Side\", \"P_Side\"], \"type\": \"bar\", \"name\": \"1\"}, {\"y\": [0.21419388017485214, 0.1867237687366167, 0.1899497487437186, 0.1554524361948956, 0.16095534787123572, 0.11764705882352941, 0.36363636363636365, 0.20155038759689922, 0.12212351493096436, 0.22606797630183972], \"x\": [0, 6, 12, 13, 14, 18, 98, 99, \"D_Side\", \"P_Side\"], \"type\": \"bar\", \"name\": \"2\"}, {\"y\": [0.22216508099768578, 0.1657387580299786, 0.21, 0.2273781902552204, 0.16822429906542055, 0.08823529411764706, 0.09090909090909091, 0.20930232558139536, 0.13796425131114204, 0.256210373142085], \"x\": [0, 6, 12, 13, 14, 18, 98, 99, \"D_Side\", \"P_Side\"], \"type\": \"bar\", \"name\": \"3\"}, {\"y\": [0.4510156852661353, 0.2051391862955032, 0.28311557788944725, 0.4733178654292343, 0.367601246105919, 0.2647058823529412, 0.36363636363636365, 0.4018087855297158, 0.5269185486460451, 0.2582891591310675], \"x\": [0, 6, 12, 13, 14, 18, 98, 99, \"D_Side\", \"P_Side\"], \"type\": \"bar\", \"name\": \"4\"}, {\"y\": [0.0017999485728979173, 0.0017130620985010706, 0.003015075376884422, 0.002320185614849188, 0.0010384215991692627, 0.0, 0.0, 0.003875968992248062, 0.001819544043669057, 0.0029103003845754078], \"x\": [0, 6, 12, 13, 14, 18, 98, 99, \"D_Side\", \"P_Side\"], \"type\": \"bar\", \"name\": \"5\"}], {\"barmode\": \"stack\", \"title\": \"Accidents By Initial Impact\", \"xaxis\": {\"showticklabels\": true, \"type\": \"category\", \"title\": \"Year\"}, \"yaxis\": {\"title\": \"Injury Count\"}}, {\"linkText\": \"Export to plot.ly\", \"showLink\": true})});</script>"
      ]
     },
     "metadata": {},
     "output_type": "display_data"
    }
   ],
   "source": [
    "data = [\n",
    "    Bar(x=ct['inimpact'], y=ct[0], name='0'),\n",
    "    Bar(x=ct['inimpact'], y=ct[1], name='1'),\n",
    "    Bar(x=ct['inimpact'], y=ct[2], name='2'),\n",
    "    Bar(x=ct['inimpact'], y=ct[3], name='3'),\n",
    "    Bar(x=ct['inimpact'], y=ct[4], name='4'),\n",
    "    Bar(x=ct['inimpact'], y=ct[5], name='5')\n",
    "        ]\n",
    "layout = Layout(title=\"Accidents By Initial Impact\",\n",
    "                barmode='stack',\n",
    "                xaxis=dict(title='Year',showticklabels=True, type='category'),\n",
    "                yaxis=dict(title='Injury Count'))\n",
    "fig = Figure(data=data, layout=layout)\n",
    "\n",
    "iplot(fig)"
   ]
  },
  {
   "cell_type": "code",
   "execution_count": 25,
   "metadata": {
    "collapsed": true
   },
   "outputs": [],
   "source": [
    "#todo: add percentages in bars, sliders, timeseries plots, state wise death behavior over years show in grid if possible"
   ]
  },
  {
   "cell_type": "markdown",
   "metadata": {
    "collapsed": true
   },
   "source": [
    "# Let's see injury trend in top 5 states "
   ]
  },
  {
   "cell_type": "code",
   "execution_count": 26,
   "metadata": {},
   "outputs": [
    {
     "data": {
      "text/plain": [
       "array([ 6, 12, 13, 37, 48])"
      ]
     },
     "execution_count": 26,
     "metadata": {},
     "output_type": "execute_result"
    }
   ],
   "source": [
    "data = pd.read_csv('data/FARS.csv')\n",
    "data = data.drop(labels=['Unnamed: 0'], axis=1)\n",
    "injury_df = data[['year', 'state', 'injury']]\n",
    "top5states = injury_df.state.value_counts().keys()[0:5]\n",
    "top5states_df = injury_df[injury_df.state.isin(top5states)]\n",
    "top5states_df.state.unique()"
   ]
  },
  {
   "cell_type": "markdown",
   "metadata": {},
   "source": [
    "### State 6 injury trend over years"
   ]
  },
  {
   "cell_type": "code",
   "execution_count": 27,
   "metadata": {
    "collapsed": true
   },
   "outputs": [],
   "source": [
    "state6_df = top5states_df[top5states_df.state == 6]\n",
    "state12_df = top5states_df[top5states_df.state == 12]\n",
    "state13_df = top5states_df[top5states_df.state == 13]\n",
    "state37_df = top5states_df[top5states_df.state == 37]\n",
    "state48_df = top5states_df[top5states_df.state == 48]\n"
   ]
  },
  {
   "cell_type": "code",
   "execution_count": 28,
   "metadata": {
    "scrolled": false
   },
   "outputs": [
    {
     "data": {
      "application/vnd.plotly.v1+json": {
       "data": [
        {
         "name": "0",
         "type": "bar",
         "x": [
          1998,
          1999,
          2000,
          2001,
          2002,
          2003,
          2004,
          2005,
          2006,
          2007,
          2008,
          2009,
          2010
         ],
         "y": [
          0.19861830742659758,
          0.18633540372670807,
          0.22019867549668873,
          0.18277945619335348,
          0.1837638376383764,
          0.19970951343500362,
          0.2108479755538579,
          0.2013274336283186,
          0.22815158546017014,
          0.21861656703672075,
          0.2755203171456888,
          0.25164113785557984,
          0.27089337175792505
         ]
        },
        {
         "name": "1",
         "type": "bar",
         "x": [
          1998,
          1999,
          2000,
          2001,
          2002,
          2003,
          2004,
          2005,
          2006,
          2007,
          2008,
          2009,
          2010
         ],
         "y": [
          0.13126079447322972,
          0.1126885536823425,
          0.1183774834437086,
          0.13444108761329304,
          0.15129151291512916,
          0.13144517066085692,
          0.1359816653934301,
          0.13495575221238937,
          0.14153132250580047,
          0.1426131511528608,
          0.14073339940535184,
          0.1301969365426696,
          0.12103746397694524
         ]
        },
        {
         "name": "2",
         "type": "bar",
         "x": [
          1998,
          1999,
          2000,
          2001,
          2002,
          2003,
          2004,
          2005,
          2006,
          2007,
          2008,
          2009,
          2010
         ],
         "y": [
          0.18307426597582038,
          0.19343389529724933,
          0.18874172185430463,
          0.18882175226586104,
          0.1977859778597786,
          0.19753086419753085,
          0.1894576012223071,
          0.1733038348082596,
          0.17633410672853828,
          0.16481639624252775,
          0.18136769078295342,
          0.1487964989059081,
          0.15417867435158503
         ]
        },
        {
         "name": "3",
         "type": "bar",
         "x": [
          1998,
          1999,
          2000,
          2001,
          2002,
          2003,
          2004,
          2005,
          2006,
          2007,
          2008,
          2009,
          2010
         ],
         "y": [
          0.15457685664939552,
          0.15705412599822538,
          0.12665562913907286,
          0.15861027190332327,
          0.14760147601476015,
          0.13580246913580246,
          0.15355233002291827,
          0.14454277286135694,
          0.12838360402165508,
          0.1443210930828352,
          0.12388503468780972,
          0.14442013129102846,
          0.1440922190201729
         ]
        },
        {
         "name": "4",
         "type": "bar",
         "x": [
          1998,
          1999,
          2000,
          2001,
          2002,
          2003,
          2004,
          2005,
          2006,
          2007,
          2008,
          2009,
          2010
         ],
         "y": [
          0.3324697754749568,
          0.34960070984915703,
          0.34602649006622516,
          0.33534743202416917,
          0.3195571955719557,
          0.3355119825708061,
          0.3093964858670741,
          0.34587020648967554,
          0.32559938128383603,
          0.3296327924850555,
          0.27849355797819625,
          0.3238512035010941,
          0.30835734870317005
         ]
        },
        {
         "name": "5",
         "type": "bar",
         "x": [
          1998,
          1999,
          2000,
          2001,
          2002,
          2003,
          2004,
          2005,
          2006,
          2007,
          2008,
          2009,
          2010
         ],
         "y": [
          0,
          0.0008873114463176575,
          0,
          0,
          0,
          0,
          0.0007639419404125286,
          0,
          0,
          0,
          0,
          0.0010940919037199124,
          0.001440922190201729
         ]
        }
       ],
       "layout": {
        "barmode": "stack",
        "title": "Injury Count by year in State 6",
        "xaxis": {
         "showticklabels": true,
         "title": "Year",
         "type": "category"
        },
        "yaxis": {
         "title": "Injury Count"
        }
       }
      },
      "text/html": [
       "<div id=\"1a0f9784-b379-4c51-a5d7-be9eab345f7a\" style=\"height: 525px; width: 100%;\" class=\"plotly-graph-div\"></div><script type=\"text/javascript\">require([\"plotly\"], function(Plotly) { window.PLOTLYENV=window.PLOTLYENV || {};window.PLOTLYENV.BASE_URL=\"https://plot.ly\";Plotly.newPlot(\"1a0f9784-b379-4c51-a5d7-be9eab345f7a\", [{\"y\": [0.19861830742659758, 0.18633540372670807, 0.22019867549668873, 0.18277945619335348, 0.1837638376383764, 0.19970951343500362, 0.2108479755538579, 0.2013274336283186, 0.22815158546017014, 0.21861656703672075, 0.2755203171456888, 0.25164113785557984, 0.27089337175792505], \"x\": [1998, 1999, 2000, 2001, 2002, 2003, 2004, 2005, 2006, 2007, 2008, 2009, 2010], \"type\": \"bar\", \"name\": \"0\"}, {\"y\": [0.13126079447322972, 0.1126885536823425, 0.1183774834437086, 0.13444108761329304, 0.15129151291512916, 0.13144517066085692, 0.1359816653934301, 0.13495575221238937, 0.14153132250580047, 0.1426131511528608, 0.14073339940535184, 0.1301969365426696, 0.12103746397694524], \"x\": [1998, 1999, 2000, 2001, 2002, 2003, 2004, 2005, 2006, 2007, 2008, 2009, 2010], \"type\": \"bar\", \"name\": \"1\"}, {\"y\": [0.18307426597582038, 0.19343389529724933, 0.18874172185430463, 0.18882175226586104, 0.1977859778597786, 0.19753086419753085, 0.1894576012223071, 0.1733038348082596, 0.17633410672853828, 0.16481639624252775, 0.18136769078295342, 0.1487964989059081, 0.15417867435158503], \"x\": [1998, 1999, 2000, 2001, 2002, 2003, 2004, 2005, 2006, 2007, 2008, 2009, 2010], \"type\": \"bar\", \"name\": \"2\"}, {\"y\": [0.15457685664939552, 0.15705412599822538, 0.12665562913907286, 0.15861027190332327, 0.14760147601476015, 0.13580246913580246, 0.15355233002291827, 0.14454277286135694, 0.12838360402165508, 0.1443210930828352, 0.12388503468780972, 0.14442013129102846, 0.1440922190201729], \"x\": [1998, 1999, 2000, 2001, 2002, 2003, 2004, 2005, 2006, 2007, 2008, 2009, 2010], \"type\": \"bar\", \"name\": \"3\"}, {\"y\": [0.3324697754749568, 0.34960070984915703, 0.34602649006622516, 0.33534743202416917, 0.3195571955719557, 0.3355119825708061, 0.3093964858670741, 0.34587020648967554, 0.32559938128383603, 0.3296327924850555, 0.27849355797819625, 0.3238512035010941, 0.30835734870317005], \"x\": [1998, 1999, 2000, 2001, 2002, 2003, 2004, 2005, 2006, 2007, 2008, 2009, 2010], \"type\": \"bar\", \"name\": \"4\"}, {\"y\": [0.0, 0.0008873114463176575, 0.0, 0.0, 0.0, 0.0, 0.0007639419404125286, 0.0, 0.0, 0.0, 0.0, 0.0010940919037199124, 0.001440922190201729], \"x\": [1998, 1999, 2000, 2001, 2002, 2003, 2004, 2005, 2006, 2007, 2008, 2009, 2010], \"type\": \"bar\", \"name\": \"5\"}], {\"barmode\": \"stack\", \"title\": \"Injury Count by year in State 6\", \"xaxis\": {\"showticklabels\": true, \"type\": \"category\", \"title\": \"Year\"}, \"yaxis\": {\"title\": \"Injury Count\"}}, {\"linkText\": \"Export to plot.ly\", \"showLink\": true})});</script>"
      ],
      "text/vnd.plotly.v1+html": [
       "<div id=\"1a0f9784-b379-4c51-a5d7-be9eab345f7a\" style=\"height: 525px; width: 100%;\" class=\"plotly-graph-div\"></div><script type=\"text/javascript\">require([\"plotly\"], function(Plotly) { window.PLOTLYENV=window.PLOTLYENV || {};window.PLOTLYENV.BASE_URL=\"https://plot.ly\";Plotly.newPlot(\"1a0f9784-b379-4c51-a5d7-be9eab345f7a\", [{\"y\": [0.19861830742659758, 0.18633540372670807, 0.22019867549668873, 0.18277945619335348, 0.1837638376383764, 0.19970951343500362, 0.2108479755538579, 0.2013274336283186, 0.22815158546017014, 0.21861656703672075, 0.2755203171456888, 0.25164113785557984, 0.27089337175792505], \"x\": [1998, 1999, 2000, 2001, 2002, 2003, 2004, 2005, 2006, 2007, 2008, 2009, 2010], \"type\": \"bar\", \"name\": \"0\"}, {\"y\": [0.13126079447322972, 0.1126885536823425, 0.1183774834437086, 0.13444108761329304, 0.15129151291512916, 0.13144517066085692, 0.1359816653934301, 0.13495575221238937, 0.14153132250580047, 0.1426131511528608, 0.14073339940535184, 0.1301969365426696, 0.12103746397694524], \"x\": [1998, 1999, 2000, 2001, 2002, 2003, 2004, 2005, 2006, 2007, 2008, 2009, 2010], \"type\": \"bar\", \"name\": \"1\"}, {\"y\": [0.18307426597582038, 0.19343389529724933, 0.18874172185430463, 0.18882175226586104, 0.1977859778597786, 0.19753086419753085, 0.1894576012223071, 0.1733038348082596, 0.17633410672853828, 0.16481639624252775, 0.18136769078295342, 0.1487964989059081, 0.15417867435158503], \"x\": [1998, 1999, 2000, 2001, 2002, 2003, 2004, 2005, 2006, 2007, 2008, 2009, 2010], \"type\": \"bar\", \"name\": \"2\"}, {\"y\": [0.15457685664939552, 0.15705412599822538, 0.12665562913907286, 0.15861027190332327, 0.14760147601476015, 0.13580246913580246, 0.15355233002291827, 0.14454277286135694, 0.12838360402165508, 0.1443210930828352, 0.12388503468780972, 0.14442013129102846, 0.1440922190201729], \"x\": [1998, 1999, 2000, 2001, 2002, 2003, 2004, 2005, 2006, 2007, 2008, 2009, 2010], \"type\": \"bar\", \"name\": \"3\"}, {\"y\": [0.3324697754749568, 0.34960070984915703, 0.34602649006622516, 0.33534743202416917, 0.3195571955719557, 0.3355119825708061, 0.3093964858670741, 0.34587020648967554, 0.32559938128383603, 0.3296327924850555, 0.27849355797819625, 0.3238512035010941, 0.30835734870317005], \"x\": [1998, 1999, 2000, 2001, 2002, 2003, 2004, 2005, 2006, 2007, 2008, 2009, 2010], \"type\": \"bar\", \"name\": \"4\"}, {\"y\": [0.0, 0.0008873114463176575, 0.0, 0.0, 0.0, 0.0, 0.0007639419404125286, 0.0, 0.0, 0.0, 0.0, 0.0010940919037199124, 0.001440922190201729], \"x\": [1998, 1999, 2000, 2001, 2002, 2003, 2004, 2005, 2006, 2007, 2008, 2009, 2010], \"type\": \"bar\", \"name\": \"5\"}], {\"barmode\": \"stack\", \"title\": \"Injury Count by year in State 6\", \"xaxis\": {\"showticklabels\": true, \"type\": \"category\", \"title\": \"Year\"}, \"yaxis\": {\"title\": \"Injury Count\"}}, {\"linkText\": \"Export to plot.ly\", \"showLink\": true})});</script>"
      ]
     },
     "metadata": {},
     "output_type": "display_data"
    },
    {
     "data": {
      "application/vnd.plotly.v1+json": {
       "data": [
        {
         "name": "0",
         "type": "bar",
         "x": [
          1998,
          1999,
          2000,
          2001,
          2002,
          2003,
          2004,
          2005,
          2006,
          2007,
          2008,
          2009,
          2010
         ],
         "y": [
          0.2041025641025641,
          0.2123222748815166,
          0.21865284974093263,
          0.21313131313131314,
          0.21089108910891088,
          0.1997874601487779,
          0.24653148345784417,
          0.24634858812074,
          0.24119530416221985,
          0.25406032482598606,
          0.2531017369727047,
          0.2679640718562874,
          0.304635761589404
         ]
        },
        {
         "name": "1",
         "type": "bar",
         "x": [
          1998,
          1999,
          2000,
          2001,
          2002,
          2003,
          2004,
          2005,
          2006,
          2007,
          2008,
          2009,
          2010
         ],
         "y": [
          0.07179487179487179,
          0.0881516587677725,
          0.07046632124352331,
          0.0797979797979798,
          0.06633663366336634,
          0.07120085015940489,
          0.07150480256136606,
          0.08958130477117819,
          0.09178228388473852,
          0.07540603248259861,
          0.09925558312655088,
          0.0718562874251497,
          0.09437086092715231
         ]
        },
        {
         "name": "2",
         "type": "bar",
         "x": [
          1998,
          1999,
          2000,
          2001,
          2002,
          2003,
          2004,
          2005,
          2006,
          2007,
          2008,
          2009,
          2010
         ],
         "y": [
          0.1517948717948718,
          0.16113744075829384,
          0.1544041450777202,
          0.15757575757575756,
          0.1613861386138614,
          0.15834218916046758,
          0.1632870864461046,
          0.14703018500486856,
          0.16435432230522945,
          0.16589327146171692,
          0.141439205955335,
          0.15119760479041916,
          0.12417218543046357
         ]
        },
        {
         "name": "3",
         "type": "bar",
         "x": [
          1998,
          1999,
          2000,
          2001,
          2002,
          2003,
          2004,
          2005,
          2006,
          2007,
          2008,
          2009,
          2010
         ],
         "y": [
          0.23076923076923078,
          0.20568720379146918,
          0.22694300518134716,
          0.21313131313131314,
          0.2396039603960396,
          0.21253985122210414,
          0.19957310565635006,
          0.18597857838364168,
          0.20704375667022412,
          0.18677494199535963,
          0.2109181141439206,
          0.20508982035928144,
          0.20198675496688742
         ]
        },
        {
         "name": "4",
         "type": "bar",
         "x": [
          1998,
          1999,
          2000,
          2001,
          2002,
          2003,
          2004,
          2005,
          2006,
          2007,
          2008,
          2009,
          2010
         ],
         "y": [
          0.3415384615384615,
          0.33270142180094786,
          0.3295336787564767,
          0.33636363636363636,
          0.3217821782178218,
          0.35812964930924546,
          0.31910352187833513,
          0.3310613437195716,
          0.29562433297758806,
          0.31786542923433875,
          0.29528535980148884,
          0.30389221556886226,
          0.27483443708609273
         ]
        }
       ],
       "layout": {
        "barmode": "stack",
        "title": "Injury Count by year in State 12",
        "xaxis": {
         "showticklabels": true,
         "title": "Year",
         "type": "category"
        },
        "yaxis": {
         "title": "Injury Count"
        }
       }
      },
      "text/html": [
       "<div id=\"62a97b63-b845-4687-b5ec-bc9f0f04fa7e\" style=\"height: 525px; width: 100%;\" class=\"plotly-graph-div\"></div><script type=\"text/javascript\">require([\"plotly\"], function(Plotly) { window.PLOTLYENV=window.PLOTLYENV || {};window.PLOTLYENV.BASE_URL=\"https://plot.ly\";Plotly.newPlot(\"62a97b63-b845-4687-b5ec-bc9f0f04fa7e\", [{\"y\": [0.2041025641025641, 0.2123222748815166, 0.21865284974093263, 0.21313131313131314, 0.21089108910891088, 0.1997874601487779, 0.24653148345784417, 0.24634858812074, 0.24119530416221985, 0.25406032482598606, 0.2531017369727047, 0.2679640718562874, 0.304635761589404], \"x\": [1998, 1999, 2000, 2001, 2002, 2003, 2004, 2005, 2006, 2007, 2008, 2009, 2010], \"type\": \"bar\", \"name\": \"0\"}, {\"y\": [0.07179487179487179, 0.0881516587677725, 0.07046632124352331, 0.0797979797979798, 0.06633663366336634, 0.07120085015940489, 0.07150480256136606, 0.08958130477117819, 0.09178228388473852, 0.07540603248259861, 0.09925558312655088, 0.0718562874251497, 0.09437086092715231], \"x\": [1998, 1999, 2000, 2001, 2002, 2003, 2004, 2005, 2006, 2007, 2008, 2009, 2010], \"type\": \"bar\", \"name\": \"1\"}, {\"y\": [0.1517948717948718, 0.16113744075829384, 0.1544041450777202, 0.15757575757575756, 0.1613861386138614, 0.15834218916046758, 0.1632870864461046, 0.14703018500486856, 0.16435432230522945, 0.16589327146171692, 0.141439205955335, 0.15119760479041916, 0.12417218543046357], \"x\": [1998, 1999, 2000, 2001, 2002, 2003, 2004, 2005, 2006, 2007, 2008, 2009, 2010], \"type\": \"bar\", \"name\": \"2\"}, {\"y\": [0.23076923076923078, 0.20568720379146918, 0.22694300518134716, 0.21313131313131314, 0.2396039603960396, 0.21253985122210414, 0.19957310565635006, 0.18597857838364168, 0.20704375667022412, 0.18677494199535963, 0.2109181141439206, 0.20508982035928144, 0.20198675496688742], \"x\": [1998, 1999, 2000, 2001, 2002, 2003, 2004, 2005, 2006, 2007, 2008, 2009, 2010], \"type\": \"bar\", \"name\": \"3\"}, {\"y\": [0.3415384615384615, 0.33270142180094786, 0.3295336787564767, 0.33636363636363636, 0.3217821782178218, 0.35812964930924546, 0.31910352187833513, 0.3310613437195716, 0.29562433297758806, 0.31786542923433875, 0.29528535980148884, 0.30389221556886226, 0.27483443708609273], \"x\": [1998, 1999, 2000, 2001, 2002, 2003, 2004, 2005, 2006, 2007, 2008, 2009, 2010], \"type\": \"bar\", \"name\": \"4\"}], {\"barmode\": \"stack\", \"title\": \"Injury Count by year in State 12\", \"xaxis\": {\"showticklabels\": true, \"type\": \"category\", \"title\": \"Year\"}, \"yaxis\": {\"title\": \"Injury Count\"}}, {\"linkText\": \"Export to plot.ly\", \"showLink\": true})});</script>"
      ],
      "text/vnd.plotly.v1+html": [
       "<div id=\"62a97b63-b845-4687-b5ec-bc9f0f04fa7e\" style=\"height: 525px; width: 100%;\" class=\"plotly-graph-div\"></div><script type=\"text/javascript\">require([\"plotly\"], function(Plotly) { window.PLOTLYENV=window.PLOTLYENV || {};window.PLOTLYENV.BASE_URL=\"https://plot.ly\";Plotly.newPlot(\"62a97b63-b845-4687-b5ec-bc9f0f04fa7e\", [{\"y\": [0.2041025641025641, 0.2123222748815166, 0.21865284974093263, 0.21313131313131314, 0.21089108910891088, 0.1997874601487779, 0.24653148345784417, 0.24634858812074, 0.24119530416221985, 0.25406032482598606, 0.2531017369727047, 0.2679640718562874, 0.304635761589404], \"x\": [1998, 1999, 2000, 2001, 2002, 2003, 2004, 2005, 2006, 2007, 2008, 2009, 2010], \"type\": \"bar\", \"name\": \"0\"}, {\"y\": [0.07179487179487179, 0.0881516587677725, 0.07046632124352331, 0.0797979797979798, 0.06633663366336634, 0.07120085015940489, 0.07150480256136606, 0.08958130477117819, 0.09178228388473852, 0.07540603248259861, 0.09925558312655088, 0.0718562874251497, 0.09437086092715231], \"x\": [1998, 1999, 2000, 2001, 2002, 2003, 2004, 2005, 2006, 2007, 2008, 2009, 2010], \"type\": \"bar\", \"name\": \"1\"}, {\"y\": [0.1517948717948718, 0.16113744075829384, 0.1544041450777202, 0.15757575757575756, 0.1613861386138614, 0.15834218916046758, 0.1632870864461046, 0.14703018500486856, 0.16435432230522945, 0.16589327146171692, 0.141439205955335, 0.15119760479041916, 0.12417218543046357], \"x\": [1998, 1999, 2000, 2001, 2002, 2003, 2004, 2005, 2006, 2007, 2008, 2009, 2010], \"type\": \"bar\", \"name\": \"2\"}, {\"y\": [0.23076923076923078, 0.20568720379146918, 0.22694300518134716, 0.21313131313131314, 0.2396039603960396, 0.21253985122210414, 0.19957310565635006, 0.18597857838364168, 0.20704375667022412, 0.18677494199535963, 0.2109181141439206, 0.20508982035928144, 0.20198675496688742], \"x\": [1998, 1999, 2000, 2001, 2002, 2003, 2004, 2005, 2006, 2007, 2008, 2009, 2010], \"type\": \"bar\", \"name\": \"3\"}, {\"y\": [0.3415384615384615, 0.33270142180094786, 0.3295336787564767, 0.33636363636363636, 0.3217821782178218, 0.35812964930924546, 0.31910352187833513, 0.3310613437195716, 0.29562433297758806, 0.31786542923433875, 0.29528535980148884, 0.30389221556886226, 0.27483443708609273], \"x\": [1998, 1999, 2000, 2001, 2002, 2003, 2004, 2005, 2006, 2007, 2008, 2009, 2010], \"type\": \"bar\", \"name\": \"4\"}], {\"barmode\": \"stack\", \"title\": \"Injury Count by year in State 12\", \"xaxis\": {\"showticklabels\": true, \"type\": \"category\", \"title\": \"Year\"}, \"yaxis\": {\"title\": \"Injury Count\"}}, {\"linkText\": \"Export to plot.ly\", \"showLink\": true})});</script>"
      ]
     },
     "metadata": {},
     "output_type": "display_data"
    },
    {
     "data": {
      "application/vnd.plotly.v1+json": {
       "data": [
        {
         "name": "0",
         "type": "bar",
         "x": [
          1998,
          1999,
          2000,
          2001,
          2002,
          2003,
          2004,
          2005,
          2006,
          2007,
          2008,
          2009,
          2010
         ],
         "y": [
          0.14072494669509594,
          0.15618661257606492,
          0.13306451612903225,
          0.1400359066427289,
          0.13318284424379231,
          0.17536534446764093,
          0.13765182186234817,
          0.13692946058091288,
          0.15257731958762888,
          0.15151515151515152,
          0.19160104986876642,
          0.20521172638436483,
          0.22611464968152867
         ]
        },
        {
         "name": "1",
         "type": "bar",
         "x": [
          1998,
          1999,
          2000,
          2001,
          2002,
          2003,
          2004,
          2005,
          2006,
          2007,
          2008,
          2009,
          2010
         ],
         "y": [
          0.13859275053304904,
          0.11359026369168357,
          0.12298387096774194,
          0.14721723518850988,
          0.09706546275395034,
          0.10020876826722339,
          0.10728744939271255,
          0.1078838174273859,
          0.1422680412371134,
          0.13203463203463203,
          0.1732283464566929,
          0.13680781758957655,
          0.09554140127388536
         ]
        },
        {
         "name": "2",
         "type": "bar",
         "x": [
          1998,
          1999,
          2000,
          2001,
          2002,
          2003,
          2004,
          2005,
          2006,
          2007,
          2008,
          2009,
          2010
         ],
         "y": [
          0.2068230277185501,
          0.20689655172413793,
          0.2217741935483871,
          0.21364452423698385,
          0.21896162528216703,
          0.20668058455114824,
          0.23481781376518218,
          0.2012448132780083,
          0.2268041237113402,
          0.18398268398268397,
          0.15223097112860892,
          0.19543973941368079,
          0.20063694267515925
         ]
        },
        {
         "name": "3",
         "type": "bar",
         "x": [
          1998,
          1999,
          2000,
          2001,
          2002,
          2003,
          2004,
          2005,
          2006,
          2007,
          2008,
          2009,
          2010
         ],
         "y": [
          0.16204690831556504,
          0.1724137931034483,
          0.16532258064516128,
          0.15798922800718132,
          0.1580135440180587,
          0.16075156576200417,
          0.1700404858299595,
          0.17219917012448133,
          0.1422680412371134,
          0.14935064935064934,
          0.14698162729658792,
          0.13680781758957655,
          0.14012738853503184
         ]
        },
        {
         "name": "4",
         "type": "bar",
         "x": [
          1998,
          1999,
          2000,
          2001,
          2002,
          2003,
          2004,
          2005,
          2006,
          2007,
          2008,
          2009,
          2010
         ],
         "y": [
          0.35181236673773986,
          0.3509127789046653,
          0.35685483870967744,
          0.3393177737881508,
          0.3927765237020316,
          0.3569937369519833,
          0.35020242914979755,
          0.3817427385892116,
          0.33608247422680415,
          0.38311688311688313,
          0.3359580052493438,
          0.3257328990228013,
          0.3375796178343949
         ]
        },
        {
         "name": "5",
         "type": "bar",
         "x": [
          1998,
          1999,
          2000,
          2001,
          2002,
          2003,
          2004,
          2005,
          2006,
          2007,
          2008,
          2009,
          2010
         ],
         "y": [
          0,
          0,
          0,
          0.0017953321364452424,
          0,
          0,
          0,
          0,
          0,
          0,
          0,
          0,
          0
         ]
        }
       ],
       "layout": {
        "barmode": "stack",
        "title": "Injury Count by year in State 13",
        "xaxis": {
         "showticklabels": true,
         "title": "Year",
         "type": "category"
        },
        "yaxis": {
         "title": "Injury Count"
        }
       }
      },
      "text/html": [
       "<div id=\"f5537730-34be-4092-a0f3-99222915f0b9\" style=\"height: 525px; width: 100%;\" class=\"plotly-graph-div\"></div><script type=\"text/javascript\">require([\"plotly\"], function(Plotly) { window.PLOTLYENV=window.PLOTLYENV || {};window.PLOTLYENV.BASE_URL=\"https://plot.ly\";Plotly.newPlot(\"f5537730-34be-4092-a0f3-99222915f0b9\", [{\"y\": [0.14072494669509594, 0.15618661257606492, 0.13306451612903225, 0.1400359066427289, 0.13318284424379231, 0.17536534446764093, 0.13765182186234817, 0.13692946058091288, 0.15257731958762888, 0.15151515151515152, 0.19160104986876642, 0.20521172638436483, 0.22611464968152867], \"x\": [1998, 1999, 2000, 2001, 2002, 2003, 2004, 2005, 2006, 2007, 2008, 2009, 2010], \"type\": \"bar\", \"name\": \"0\"}, {\"y\": [0.13859275053304904, 0.11359026369168357, 0.12298387096774194, 0.14721723518850988, 0.09706546275395034, 0.10020876826722339, 0.10728744939271255, 0.1078838174273859, 0.1422680412371134, 0.13203463203463203, 0.1732283464566929, 0.13680781758957655, 0.09554140127388536], \"x\": [1998, 1999, 2000, 2001, 2002, 2003, 2004, 2005, 2006, 2007, 2008, 2009, 2010], \"type\": \"bar\", \"name\": \"1\"}, {\"y\": [0.2068230277185501, 0.20689655172413793, 0.2217741935483871, 0.21364452423698385, 0.21896162528216703, 0.20668058455114824, 0.23481781376518218, 0.2012448132780083, 0.2268041237113402, 0.18398268398268397, 0.15223097112860892, 0.19543973941368079, 0.20063694267515925], \"x\": [1998, 1999, 2000, 2001, 2002, 2003, 2004, 2005, 2006, 2007, 2008, 2009, 2010], \"type\": \"bar\", \"name\": \"2\"}, {\"y\": [0.16204690831556504, 0.1724137931034483, 0.16532258064516128, 0.15798922800718132, 0.1580135440180587, 0.16075156576200417, 0.1700404858299595, 0.17219917012448133, 0.1422680412371134, 0.14935064935064934, 0.14698162729658792, 0.13680781758957655, 0.14012738853503184], \"x\": [1998, 1999, 2000, 2001, 2002, 2003, 2004, 2005, 2006, 2007, 2008, 2009, 2010], \"type\": \"bar\", \"name\": \"3\"}, {\"y\": [0.35181236673773986, 0.3509127789046653, 0.35685483870967744, 0.3393177737881508, 0.3927765237020316, 0.3569937369519833, 0.35020242914979755, 0.3817427385892116, 0.33608247422680415, 0.38311688311688313, 0.3359580052493438, 0.3257328990228013, 0.3375796178343949], \"x\": [1998, 1999, 2000, 2001, 2002, 2003, 2004, 2005, 2006, 2007, 2008, 2009, 2010], \"type\": \"bar\", \"name\": \"4\"}, {\"y\": [0.0, 0.0, 0.0, 0.0017953321364452424, 0.0, 0.0, 0.0, 0.0, 0.0, 0.0, 0.0, 0.0, 0.0], \"x\": [1998, 1999, 2000, 2001, 2002, 2003, 2004, 2005, 2006, 2007, 2008, 2009, 2010], \"type\": \"bar\", \"name\": \"5\"}], {\"barmode\": \"stack\", \"title\": \"Injury Count by year in State 13\", \"xaxis\": {\"showticklabels\": true, \"type\": \"category\", \"title\": \"Year\"}, \"yaxis\": {\"title\": \"Injury Count\"}}, {\"linkText\": \"Export to plot.ly\", \"showLink\": true})});</script>"
      ],
      "text/vnd.plotly.v1+html": [
       "<div id=\"f5537730-34be-4092-a0f3-99222915f0b9\" style=\"height: 525px; width: 100%;\" class=\"plotly-graph-div\"></div><script type=\"text/javascript\">require([\"plotly\"], function(Plotly) { window.PLOTLYENV=window.PLOTLYENV || {};window.PLOTLYENV.BASE_URL=\"https://plot.ly\";Plotly.newPlot(\"f5537730-34be-4092-a0f3-99222915f0b9\", [{\"y\": [0.14072494669509594, 0.15618661257606492, 0.13306451612903225, 0.1400359066427289, 0.13318284424379231, 0.17536534446764093, 0.13765182186234817, 0.13692946058091288, 0.15257731958762888, 0.15151515151515152, 0.19160104986876642, 0.20521172638436483, 0.22611464968152867], \"x\": [1998, 1999, 2000, 2001, 2002, 2003, 2004, 2005, 2006, 2007, 2008, 2009, 2010], \"type\": \"bar\", \"name\": \"0\"}, {\"y\": [0.13859275053304904, 0.11359026369168357, 0.12298387096774194, 0.14721723518850988, 0.09706546275395034, 0.10020876826722339, 0.10728744939271255, 0.1078838174273859, 0.1422680412371134, 0.13203463203463203, 0.1732283464566929, 0.13680781758957655, 0.09554140127388536], \"x\": [1998, 1999, 2000, 2001, 2002, 2003, 2004, 2005, 2006, 2007, 2008, 2009, 2010], \"type\": \"bar\", \"name\": \"1\"}, {\"y\": [0.2068230277185501, 0.20689655172413793, 0.2217741935483871, 0.21364452423698385, 0.21896162528216703, 0.20668058455114824, 0.23481781376518218, 0.2012448132780083, 0.2268041237113402, 0.18398268398268397, 0.15223097112860892, 0.19543973941368079, 0.20063694267515925], \"x\": [1998, 1999, 2000, 2001, 2002, 2003, 2004, 2005, 2006, 2007, 2008, 2009, 2010], \"type\": \"bar\", \"name\": \"2\"}, {\"y\": [0.16204690831556504, 0.1724137931034483, 0.16532258064516128, 0.15798922800718132, 0.1580135440180587, 0.16075156576200417, 0.1700404858299595, 0.17219917012448133, 0.1422680412371134, 0.14935064935064934, 0.14698162729658792, 0.13680781758957655, 0.14012738853503184], \"x\": [1998, 1999, 2000, 2001, 2002, 2003, 2004, 2005, 2006, 2007, 2008, 2009, 2010], \"type\": \"bar\", \"name\": \"3\"}, {\"y\": [0.35181236673773986, 0.3509127789046653, 0.35685483870967744, 0.3393177737881508, 0.3927765237020316, 0.3569937369519833, 0.35020242914979755, 0.3817427385892116, 0.33608247422680415, 0.38311688311688313, 0.3359580052493438, 0.3257328990228013, 0.3375796178343949], \"x\": [1998, 1999, 2000, 2001, 2002, 2003, 2004, 2005, 2006, 2007, 2008, 2009, 2010], \"type\": \"bar\", \"name\": \"4\"}, {\"y\": [0.0, 0.0, 0.0, 0.0017953321364452424, 0.0, 0.0, 0.0, 0.0, 0.0, 0.0, 0.0, 0.0, 0.0], \"x\": [1998, 1999, 2000, 2001, 2002, 2003, 2004, 2005, 2006, 2007, 2008, 2009, 2010], \"type\": \"bar\", \"name\": \"5\"}], {\"barmode\": \"stack\", \"title\": \"Injury Count by year in State 13\", \"xaxis\": {\"showticklabels\": true, \"type\": \"category\", \"title\": \"Year\"}, \"yaxis\": {\"title\": \"Injury Count\"}}, {\"linkText\": \"Export to plot.ly\", \"showLink\": true})});</script>"
      ]
     },
     "metadata": {},
     "output_type": "display_data"
    },
    {
     "data": {
      "application/vnd.plotly.v1+json": {
       "data": [
        {
         "name": "0",
         "type": "bar",
         "x": [
          1998,
          1999,
          2000,
          2001,
          2002,
          2003,
          2004,
          2005,
          2006,
          2007,
          2008,
          2009,
          2010
         ],
         "y": [
          0.17086330935251798,
          0.1420345489443378,
          0.09416195856873823,
          0.1083844580777096,
          0.13671875,
          0.14395393474088292,
          0.15145228215767634,
          0.17371937639198218,
          0.13596491228070176,
          0.1540084388185654,
          0.1385390428211587,
          0.16666666666666666,
          0.16621253405994552
         ]
        },
        {
         "name": "1",
         "type": "bar",
         "x": [
          1998,
          1999,
          2000,
          2001,
          2002,
          2003,
          2004,
          2005,
          2006,
          2007,
          2008,
          2009,
          2010
         ],
         "y": [
          0.10251798561151079,
          0.11516314779270634,
          0.12994350282485875,
          0.12883435582822086,
          0.125,
          0.12859884836852206,
          0.14937759336099585,
          0.1447661469933185,
          0.13596491228070176,
          0.14135021097046413,
          0.1309823677581864,
          0.1358974358974359,
          0.10626702997275204
         ]
        },
        {
         "name": "2",
         "type": "bar",
         "x": [
          1998,
          1999,
          2000,
          2001,
          2002,
          2003,
          2004,
          2005,
          2006,
          2007,
          2008,
          2009,
          2010
         ],
         "y": [
          0.1618705035971223,
          0.16122840690978887,
          0.1958568738229755,
          0.20040899795501022,
          0.21875,
          0.2667946257197697,
          0.1991701244813278,
          0.2071269487750557,
          0.22807017543859648,
          0.22362869198312235,
          0.26448362720403024,
          0.2692307692307692,
          0.28337874659400547
         ]
        },
        {
         "name": "3",
         "type": "bar",
         "x": [
          1998,
          1999,
          2000,
          2001,
          2002,
          2003,
          2004,
          2005,
          2006,
          2007,
          2008,
          2009,
          2010
         ],
         "y": [
          0.2356115107913669,
          0.23032629558541268,
          0.1977401129943503,
          0.1656441717791411,
          0.158203125,
          0.12092130518234165,
          0.16390041493775934,
          0.12472160356347439,
          0.1162280701754386,
          0.11392405063291139,
          0.11083123425692695,
          0.08717948717948718,
          0.09809264305177112
         ]
        },
        {
         "name": "4",
         "type": "bar",
         "x": [
          1998,
          1999,
          2000,
          2001,
          2002,
          2003,
          2004,
          2005,
          2006,
          2007,
          2008,
          2009,
          2010
         ],
         "y": [
          0.329136690647482,
          0.3512476007677543,
          0.3822975517890772,
          0.3967280163599182,
          0.361328125,
          0.3397312859884837,
          0.3360995850622407,
          0.34966592427616927,
          0.38377192982456143,
          0.3670886075949367,
          0.35516372795969775,
          0.34102564102564104,
          0.3460490463215259
         ]
        }
       ],
       "layout": {
        "barmode": "stack",
        "title": "Injury Count by year in State 37",
        "xaxis": {
         "showticklabels": true,
         "title": "Year",
         "type": "category"
        },
        "yaxis": {
         "title": "Injury Count"
        }
       }
      },
      "text/html": [
       "<div id=\"f0e44ad6-7fb3-45f1-bc57-03c8c85910a0\" style=\"height: 525px; width: 100%;\" class=\"plotly-graph-div\"></div><script type=\"text/javascript\">require([\"plotly\"], function(Plotly) { window.PLOTLYENV=window.PLOTLYENV || {};window.PLOTLYENV.BASE_URL=\"https://plot.ly\";Plotly.newPlot(\"f0e44ad6-7fb3-45f1-bc57-03c8c85910a0\", [{\"y\": [0.17086330935251798, 0.1420345489443378, 0.09416195856873823, 0.1083844580777096, 0.13671875, 0.14395393474088292, 0.15145228215767634, 0.17371937639198218, 0.13596491228070176, 0.1540084388185654, 0.1385390428211587, 0.16666666666666666, 0.16621253405994552], \"x\": [1998, 1999, 2000, 2001, 2002, 2003, 2004, 2005, 2006, 2007, 2008, 2009, 2010], \"type\": \"bar\", \"name\": \"0\"}, {\"y\": [0.10251798561151079, 0.11516314779270634, 0.12994350282485875, 0.12883435582822086, 0.125, 0.12859884836852206, 0.14937759336099585, 0.1447661469933185, 0.13596491228070176, 0.14135021097046413, 0.1309823677581864, 0.1358974358974359, 0.10626702997275204], \"x\": [1998, 1999, 2000, 2001, 2002, 2003, 2004, 2005, 2006, 2007, 2008, 2009, 2010], \"type\": \"bar\", \"name\": \"1\"}, {\"y\": [0.1618705035971223, 0.16122840690978887, 0.1958568738229755, 0.20040899795501022, 0.21875, 0.2667946257197697, 0.1991701244813278, 0.2071269487750557, 0.22807017543859648, 0.22362869198312235, 0.26448362720403024, 0.2692307692307692, 0.28337874659400547], \"x\": [1998, 1999, 2000, 2001, 2002, 2003, 2004, 2005, 2006, 2007, 2008, 2009, 2010], \"type\": \"bar\", \"name\": \"2\"}, {\"y\": [0.2356115107913669, 0.23032629558541268, 0.1977401129943503, 0.1656441717791411, 0.158203125, 0.12092130518234165, 0.16390041493775934, 0.12472160356347439, 0.1162280701754386, 0.11392405063291139, 0.11083123425692695, 0.08717948717948718, 0.09809264305177112], \"x\": [1998, 1999, 2000, 2001, 2002, 2003, 2004, 2005, 2006, 2007, 2008, 2009, 2010], \"type\": \"bar\", \"name\": \"3\"}, {\"y\": [0.329136690647482, 0.3512476007677543, 0.3822975517890772, 0.3967280163599182, 0.361328125, 0.3397312859884837, 0.3360995850622407, 0.34966592427616927, 0.38377192982456143, 0.3670886075949367, 0.35516372795969775, 0.34102564102564104, 0.3460490463215259], \"x\": [1998, 1999, 2000, 2001, 2002, 2003, 2004, 2005, 2006, 2007, 2008, 2009, 2010], \"type\": \"bar\", \"name\": \"4\"}], {\"barmode\": \"stack\", \"title\": \"Injury Count by year in State 37\", \"xaxis\": {\"showticklabels\": true, \"type\": \"category\", \"title\": \"Year\"}, \"yaxis\": {\"title\": \"Injury Count\"}}, {\"linkText\": \"Export to plot.ly\", \"showLink\": true})});</script>"
      ],
      "text/vnd.plotly.v1+html": [
       "<div id=\"f0e44ad6-7fb3-45f1-bc57-03c8c85910a0\" style=\"height: 525px; width: 100%;\" class=\"plotly-graph-div\"></div><script type=\"text/javascript\">require([\"plotly\"], function(Plotly) { window.PLOTLYENV=window.PLOTLYENV || {};window.PLOTLYENV.BASE_URL=\"https://plot.ly\";Plotly.newPlot(\"f0e44ad6-7fb3-45f1-bc57-03c8c85910a0\", [{\"y\": [0.17086330935251798, 0.1420345489443378, 0.09416195856873823, 0.1083844580777096, 0.13671875, 0.14395393474088292, 0.15145228215767634, 0.17371937639198218, 0.13596491228070176, 0.1540084388185654, 0.1385390428211587, 0.16666666666666666, 0.16621253405994552], \"x\": [1998, 1999, 2000, 2001, 2002, 2003, 2004, 2005, 2006, 2007, 2008, 2009, 2010], \"type\": \"bar\", \"name\": \"0\"}, {\"y\": [0.10251798561151079, 0.11516314779270634, 0.12994350282485875, 0.12883435582822086, 0.125, 0.12859884836852206, 0.14937759336099585, 0.1447661469933185, 0.13596491228070176, 0.14135021097046413, 0.1309823677581864, 0.1358974358974359, 0.10626702997275204], \"x\": [1998, 1999, 2000, 2001, 2002, 2003, 2004, 2005, 2006, 2007, 2008, 2009, 2010], \"type\": \"bar\", \"name\": \"1\"}, {\"y\": [0.1618705035971223, 0.16122840690978887, 0.1958568738229755, 0.20040899795501022, 0.21875, 0.2667946257197697, 0.1991701244813278, 0.2071269487750557, 0.22807017543859648, 0.22362869198312235, 0.26448362720403024, 0.2692307692307692, 0.28337874659400547], \"x\": [1998, 1999, 2000, 2001, 2002, 2003, 2004, 2005, 2006, 2007, 2008, 2009, 2010], \"type\": \"bar\", \"name\": \"2\"}, {\"y\": [0.2356115107913669, 0.23032629558541268, 0.1977401129943503, 0.1656441717791411, 0.158203125, 0.12092130518234165, 0.16390041493775934, 0.12472160356347439, 0.1162280701754386, 0.11392405063291139, 0.11083123425692695, 0.08717948717948718, 0.09809264305177112], \"x\": [1998, 1999, 2000, 2001, 2002, 2003, 2004, 2005, 2006, 2007, 2008, 2009, 2010], \"type\": \"bar\", \"name\": \"3\"}, {\"y\": [0.329136690647482, 0.3512476007677543, 0.3822975517890772, 0.3967280163599182, 0.361328125, 0.3397312859884837, 0.3360995850622407, 0.34966592427616927, 0.38377192982456143, 0.3670886075949367, 0.35516372795969775, 0.34102564102564104, 0.3460490463215259], \"x\": [1998, 1999, 2000, 2001, 2002, 2003, 2004, 2005, 2006, 2007, 2008, 2009, 2010], \"type\": \"bar\", \"name\": \"4\"}], {\"barmode\": \"stack\", \"title\": \"Injury Count by year in State 37\", \"xaxis\": {\"showticklabels\": true, \"type\": \"category\", \"title\": \"Year\"}, \"yaxis\": {\"title\": \"Injury Count\"}}, {\"linkText\": \"Export to plot.ly\", \"showLink\": true})});</script>"
      ]
     },
     "metadata": {},
     "output_type": "display_data"
    },
    {
     "data": {
      "application/vnd.plotly.v1+json": {
       "data": [
        {
         "name": "0",
         "type": "bar",
         "x": [
          1998,
          1999,
          2000,
          2001,
          2002,
          2003,
          2004,
          2005,
          2006,
          2007,
          2008,
          2009,
          2010
         ],
         "y": [
          0.151183970856102,
          0.15488867376573087,
          0.14521739130434783,
          0.14926739926739926,
          0.15017985611510792,
          0.15257192676547515,
          0.15462962962962962,
          0.19871106337271752,
          0.1927710843373494,
          0.19098457888493475,
          0.21311475409836064,
          0.2210242587601078,
          0.19881305637982197
         ]
        },
        {
         "name": "1",
         "type": "bar",
         "x": [
          1998,
          1999,
          2000,
          2001,
          2002,
          2003,
          2004,
          2005,
          2006,
          2007,
          2008,
          2009,
          2010
         ],
         "y": [
          0.09198542805100182,
          0.07744433688286544,
          0.11739130434782609,
          0.1043956043956044,
          0.1052158273381295,
          0.0976460331299041,
          0.12777777777777777,
          0.11600429645542427,
          0.1248630887185104,
          0.08659549228944247,
          0.09133489461358314,
          0.09568733153638814,
          0.08753709198813056
         ]
        },
        {
         "name": "2",
         "type": "bar",
         "x": [
          1998,
          1999,
          2000,
          2001,
          2002,
          2003,
          2004,
          2005,
          2006,
          2007,
          2008,
          2009,
          2010
         ],
         "y": [
          0.16848816029143898,
          0.18973862536302033,
          0.18434782608695652,
          0.184981684981685,
          0.18075539568345322,
          0.1839581517000872,
          0.1814814814814815,
          0.19119226638023631,
          0.16210295728368018,
          0.1826809015421115,
          0.1885245901639344,
          0.19811320754716982,
          0.16913946587537093
         ]
        },
        {
         "name": "3",
         "type": "bar",
         "x": [
          1998,
          1999,
          2000,
          2001,
          2002,
          2003,
          2004,
          2005,
          2006,
          2007,
          2008,
          2009,
          2010
         ],
         "y": [
          0.23132969034608378,
          0.21878025169409487,
          0.1956521739130435,
          0.21428571428571427,
          0.20503597122302158,
          0.2092414995640802,
          0.18981481481481483,
          0.18259935553168635,
          0.17086527929901424,
          0.18861209964412812,
          0.1885245901639344,
          0.1765498652291105,
          0.16468842729970326
         ]
        },
        {
         "name": "4",
         "type": "bar",
         "x": [
          1998,
          1999,
          2000,
          2001,
          2002,
          2003,
          2004,
          2005,
          2006,
          2007,
          2008,
          2009,
          2010
         ],
         "y": [
          0.3570127504553734,
          0.3591481122942885,
          0.35739130434782607,
          0.34706959706959706,
          0.35881294964028776,
          0.35658238884045335,
          0.34629629629629627,
          0.31149301825993553,
          0.3493975903614458,
          0.35112692763938314,
          0.3185011709601874,
          0.3086253369272237,
          0.3798219584569733
         ]
        }
       ],
       "layout": {
        "barmode": "stack",
        "title": "Injury Count by year in State 48",
        "xaxis": {
         "showticklabels": true,
         "title": "Year",
         "type": "category"
        },
        "yaxis": {
         "title": "Injury Count"
        }
       }
      },
      "text/html": [
       "<div id=\"6eb9f62f-5caf-46c5-aed0-755f4074eb23\" style=\"height: 525px; width: 100%;\" class=\"plotly-graph-div\"></div><script type=\"text/javascript\">require([\"plotly\"], function(Plotly) { window.PLOTLYENV=window.PLOTLYENV || {};window.PLOTLYENV.BASE_URL=\"https://plot.ly\";Plotly.newPlot(\"6eb9f62f-5caf-46c5-aed0-755f4074eb23\", [{\"y\": [0.151183970856102, 0.15488867376573087, 0.14521739130434783, 0.14926739926739926, 0.15017985611510792, 0.15257192676547515, 0.15462962962962962, 0.19871106337271752, 0.1927710843373494, 0.19098457888493475, 0.21311475409836064, 0.2210242587601078, 0.19881305637982197], \"x\": [1998, 1999, 2000, 2001, 2002, 2003, 2004, 2005, 2006, 2007, 2008, 2009, 2010], \"type\": \"bar\", \"name\": \"0\"}, {\"y\": [0.09198542805100182, 0.07744433688286544, 0.11739130434782609, 0.1043956043956044, 0.1052158273381295, 0.0976460331299041, 0.12777777777777777, 0.11600429645542427, 0.1248630887185104, 0.08659549228944247, 0.09133489461358314, 0.09568733153638814, 0.08753709198813056], \"x\": [1998, 1999, 2000, 2001, 2002, 2003, 2004, 2005, 2006, 2007, 2008, 2009, 2010], \"type\": \"bar\", \"name\": \"1\"}, {\"y\": [0.16848816029143898, 0.18973862536302033, 0.18434782608695652, 0.184981684981685, 0.18075539568345322, 0.1839581517000872, 0.1814814814814815, 0.19119226638023631, 0.16210295728368018, 0.1826809015421115, 0.1885245901639344, 0.19811320754716982, 0.16913946587537093], \"x\": [1998, 1999, 2000, 2001, 2002, 2003, 2004, 2005, 2006, 2007, 2008, 2009, 2010], \"type\": \"bar\", \"name\": \"2\"}, {\"y\": [0.23132969034608378, 0.21878025169409487, 0.1956521739130435, 0.21428571428571427, 0.20503597122302158, 0.2092414995640802, 0.18981481481481483, 0.18259935553168635, 0.17086527929901424, 0.18861209964412812, 0.1885245901639344, 0.1765498652291105, 0.16468842729970326], \"x\": [1998, 1999, 2000, 2001, 2002, 2003, 2004, 2005, 2006, 2007, 2008, 2009, 2010], \"type\": \"bar\", \"name\": \"3\"}, {\"y\": [0.3570127504553734, 0.3591481122942885, 0.35739130434782607, 0.34706959706959706, 0.35881294964028776, 0.35658238884045335, 0.34629629629629627, 0.31149301825993553, 0.3493975903614458, 0.35112692763938314, 0.3185011709601874, 0.3086253369272237, 0.3798219584569733], \"x\": [1998, 1999, 2000, 2001, 2002, 2003, 2004, 2005, 2006, 2007, 2008, 2009, 2010], \"type\": \"bar\", \"name\": \"4\"}], {\"barmode\": \"stack\", \"title\": \"Injury Count by year in State 48\", \"xaxis\": {\"showticklabels\": true, \"type\": \"category\", \"title\": \"Year\"}, \"yaxis\": {\"title\": \"Injury Count\"}}, {\"linkText\": \"Export to plot.ly\", \"showLink\": true})});</script>"
      ],
      "text/vnd.plotly.v1+html": [
       "<div id=\"6eb9f62f-5caf-46c5-aed0-755f4074eb23\" style=\"height: 525px; width: 100%;\" class=\"plotly-graph-div\"></div><script type=\"text/javascript\">require([\"plotly\"], function(Plotly) { window.PLOTLYENV=window.PLOTLYENV || {};window.PLOTLYENV.BASE_URL=\"https://plot.ly\";Plotly.newPlot(\"6eb9f62f-5caf-46c5-aed0-755f4074eb23\", [{\"y\": [0.151183970856102, 0.15488867376573087, 0.14521739130434783, 0.14926739926739926, 0.15017985611510792, 0.15257192676547515, 0.15462962962962962, 0.19871106337271752, 0.1927710843373494, 0.19098457888493475, 0.21311475409836064, 0.2210242587601078, 0.19881305637982197], \"x\": [1998, 1999, 2000, 2001, 2002, 2003, 2004, 2005, 2006, 2007, 2008, 2009, 2010], \"type\": \"bar\", \"name\": \"0\"}, {\"y\": [0.09198542805100182, 0.07744433688286544, 0.11739130434782609, 0.1043956043956044, 0.1052158273381295, 0.0976460331299041, 0.12777777777777777, 0.11600429645542427, 0.1248630887185104, 0.08659549228944247, 0.09133489461358314, 0.09568733153638814, 0.08753709198813056], \"x\": [1998, 1999, 2000, 2001, 2002, 2003, 2004, 2005, 2006, 2007, 2008, 2009, 2010], \"type\": \"bar\", \"name\": \"1\"}, {\"y\": [0.16848816029143898, 0.18973862536302033, 0.18434782608695652, 0.184981684981685, 0.18075539568345322, 0.1839581517000872, 0.1814814814814815, 0.19119226638023631, 0.16210295728368018, 0.1826809015421115, 0.1885245901639344, 0.19811320754716982, 0.16913946587537093], \"x\": [1998, 1999, 2000, 2001, 2002, 2003, 2004, 2005, 2006, 2007, 2008, 2009, 2010], \"type\": \"bar\", \"name\": \"2\"}, {\"y\": [0.23132969034608378, 0.21878025169409487, 0.1956521739130435, 0.21428571428571427, 0.20503597122302158, 0.2092414995640802, 0.18981481481481483, 0.18259935553168635, 0.17086527929901424, 0.18861209964412812, 0.1885245901639344, 0.1765498652291105, 0.16468842729970326], \"x\": [1998, 1999, 2000, 2001, 2002, 2003, 2004, 2005, 2006, 2007, 2008, 2009, 2010], \"type\": \"bar\", \"name\": \"3\"}, {\"y\": [0.3570127504553734, 0.3591481122942885, 0.35739130434782607, 0.34706959706959706, 0.35881294964028776, 0.35658238884045335, 0.34629629629629627, 0.31149301825993553, 0.3493975903614458, 0.35112692763938314, 0.3185011709601874, 0.3086253369272237, 0.3798219584569733], \"x\": [1998, 1999, 2000, 2001, 2002, 2003, 2004, 2005, 2006, 2007, 2008, 2009, 2010], \"type\": \"bar\", \"name\": \"4\"}], {\"barmode\": \"stack\", \"title\": \"Injury Count by year in State 48\", \"xaxis\": {\"showticklabels\": true, \"type\": \"category\", \"title\": \"Year\"}, \"yaxis\": {\"title\": \"Injury Count\"}}, {\"linkText\": \"Export to plot.ly\", \"showLink\": true})});</script>"
      ]
     },
     "metadata": {},
     "output_type": "display_data"
    }
   ],
   "source": [
    "fig = stacked_chart(df=state6_df, x='year', legend='injury', xaxistitle='Year', yaxistitle='Injury Count', title='Injury Count by year in State 6')\n",
    "iplot(fig)\n",
    "\n",
    "fig = stacked_chart(df=state12_df, x='year', legend='injury', xaxistitle='Year', yaxistitle='Injury Count', title='Injury Count by year in State 12')\n",
    "iplot(fig)\n",
    "\n",
    "fig = stacked_chart(df=state13_df, x='year', legend='injury', xaxistitle='Year', yaxistitle='Injury Count', title='Injury Count by year in State 13')\n",
    "iplot(fig)\n",
    "\n",
    "fig = stacked_chart(df=state37_df, x='year', legend='injury', xaxistitle='Year', yaxistitle='Injury Count', title='Injury Count by year in State 37')\n",
    "iplot(fig)\n",
    "\n",
    "fig = stacked_chart(df=state48_df, x='year', legend='injury', xaxistitle='Year', yaxistitle='Injury Count', title='Injury Count by year in State 48')\n",
    "iplot(fig)"
   ]
  },
  {
   "cell_type": "code",
   "execution_count": 29,
   "metadata": {
    "collapsed": true
   },
   "outputs": [],
   "source": [
    "#lets break down seat belts and airbag state by state"
   ]
  },
  {
   "cell_type": "code",
   "execution_count": null,
   "metadata": {
    "collapsed": true
   },
   "outputs": [],
   "source": []
  }
 ],
 "metadata": {
  "kernelspec": {
   "display_name": "Python 2",
   "language": "python",
   "name": "python2"
  },
  "language_info": {
   "codemirror_mode": {
    "name": "ipython",
    "version": 2
   },
   "file_extension": ".py",
   "mimetype": "text/x-python",
   "name": "python",
   "nbconvert_exporter": "python",
   "pygments_lexer": "ipython2",
   "version": "2.7.13"
  }
 },
 "nbformat": 4,
 "nbformat_minor": 2
}
