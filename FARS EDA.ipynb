{
 "cells": [
  {
   "cell_type": "markdown",
   "metadata": {},
   "source": [
    "## FARS EDA"
   ]
  },
  {
   "cell_type": "code",
   "execution_count": 4,
   "metadata": {},
   "outputs": [],
   "source": [
    "\n",
    "import matplotlib.pyplot as plt\n",
    "import seaborn as sns\n",
    "import pandas as pd\n",
    "import numpy as np\n",
    "\n",
    "%matplotlib inline"
   ]
  },
  {
   "cell_type": "markdown",
   "metadata": {},
   "source": [
    "### Loading data"
   ]
  },
  {
   "cell_type": "code",
   "execution_count": 5,
   "metadata": {
    "collapsed": true
   },
   "outputs": [],
   "source": [
    "df = pd.read_csv('./data/FARS.csv')\n",
    "df.rename(columns={ df.columns[0]: \"event_id\" }, inplace=True)"
   ]
  },
  {
   "cell_type": "code",
   "execution_count": 6,
   "metadata": {},
   "outputs": [
    {
     "data": {
      "text/plain": [
       "Int64Index([30, 1, 20, 29, 99, 9, 8, 0, 2, 98, 32, 7, 3, 28, 31], dtype='int64')"
      ]
     },
     "execution_count": 6,
     "metadata": {},
     "output_type": "execute_result"
    }
   ],
   "source": [
    "df.airbag.value_counts().keys()"
   ]
  },
  {
   "cell_type": "code",
   "execution_count": 7,
   "metadata": {},
   "outputs": [
    {
     "data": {
      "text/plain": [
       "Int64Index([3, 0, 99, 8, 7, 2, 1, 4, 13, 14, 98, 10, 12, 11, 97], dtype='int64')"
      ]
     },
     "execution_count": 7,
     "metadata": {},
     "output_type": "execute_result"
    }
   ],
   "source": [
    "df.restraint.value_counts().keys()"
   ]
  },
  {
   "cell_type": "markdown",
   "metadata": {},
   "source": [
    "###  Count deaths by Airbag type"
   ]
  },
  {
   "cell_type": "code",
   "execution_count": 8,
   "metadata": {},
   "outputs": [
    {
     "name": "stdout",
     "output_type": "stream",
     "text": [
      "Number of Airbag types:  15\n"
     ]
    }
   ],
   "source": [
    "pdata = df.groupby(['airbag']).event_id.count().reset_index()\n",
    "pdata['airbag'] = pdata['airbag'].apply(str)\n",
    "\n",
    "print 'Number of Airbag types: ', len(pdata.index)"
   ]
  },
  {
   "cell_type": "code",
   "execution_count": 9,
   "metadata": {},
   "outputs": [
    {
     "data": {
      "image/png": "[encoded data removed]",
      "text/plain": [
       "<matplotlib.figure.Figure at 0x7fc7904a8b10>"
      ]
     },
     "metadata": {},
     "output_type": "display_data"
    }
   ],
   "source": [
    "x = pdata.index\n",
    "y = pdata.event_id\n",
    "width = 0.8\n",
    "\n",
    "fig = plt.figure(figsize=(10,5))\n",
    "ax = fig.add_subplot(111)\n",
    "\n",
    "ax.bar(x, y, width)\n",
    "# add some text for labels, title and axes ticks\n",
    "ax.set_title('Num of deaths per Airbag type')\n",
    "ax.set_ylabel('Num of deaths')\n",
    "ax.set_xlabel('Airbag Type')\n",
    "\n",
    "plt.xticks(x, pdata.airbag)\n",
    "\n",
    "plt.show()"
   ]
  },
  {
   "cell_type": "markdown",
   "metadata": {},
   "source": [
    "### Count deaths by Restraint type"
   ]
  },
  {
   "cell_type": "code",
   "execution_count": 10,
   "metadata": {},
   "outputs": [
    {
     "name": "stdout",
     "output_type": "stream",
     "text": [
      "Number of Seat belt types:  15\n"
     ]
    }
   ],
   "source": [
    "pdata = df.groupby(['restraint']).event_id.count().reset_index()\n",
    "pdata['restraint'] = pdata['restraint'].apply(str)\n",
    "print 'Number of Seat belt types: ', len(pdata.index)"
   ]
  },
  {
   "cell_type": "code",
   "execution_count": 11,
   "metadata": {},
   "outputs": [
    {
     "data": {
      "image/png": "[encoded data removed]",
      "text/plain": [
       "<matplotlib.figure.Figure at 0x7fc7c414d610>"
      ]
     },
     "metadata": {},
     "output_type": "display_data"
    }
   ],
   "source": [
    "x = pdata.index\n",
    "y = pdata.event_id\n",
    "width = 0.8\n",
    "\n",
    "fig = plt.figure(figsize=(10,5))\n",
    "ax = fig.add_subplot(111)\n",
    "\n",
    "ax.bar(x, y, width)\n",
    "\n",
    "# add some text for labels, title and axes ticks\n",
    "ax.set_title('Num of deaths per Restraint type')\n",
    "ax.set_ylabel('Num of deaths')\n",
    "ax.set_xlabel('Restraint Type')\n",
    "plt.xticks(x, pdata.restraint)\n",
    "\n",
    "plt.show()"
   ]
  }
 ],
 "metadata": {
  "kernelspec": {
   "display_name": "Python 2",
   "language": "python",
   "name": "python2"
  },
  "language_info": {
   "codemirror_mode": {
    "name": "ipython",
    "version": 2
   },
   "file_extension": ".py",
   "mimetype": "text/x-python",
   "name": "python",
   "nbconvert_exporter": "python",
   "pygments_lexer": "ipython2",
   "version": "2.7.12"
  }
 },
 "nbformat": 4,
 "nbformat_minor": 2
}
