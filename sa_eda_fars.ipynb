{
 "cells": [
  {
   "cell_type": "markdown",
   "metadata": {},
   "source": [
    "# Exploring Data to Get High Level Statistics"
   ]
  },
  {
   "cell_type": "code",
   "execution_count": 1,
   "metadata": {},
   "outputs": [
    {
     "data": {
      "text/html": [
       "<script>requirejs.config({paths: { 'plotly': ['https://cdn.plot.ly/plotly-latest.min']},});if(!window.Plotly) {{require(['plotly'],function(plotly) {window.Plotly=plotly;});}}</script>"
      ],
      "text/vnd.plotly.v1+html": [
       "<script>requirejs.config({paths: { 'plotly': ['https://cdn.plot.ly/plotly-latest.min']},});if(!window.Plotly) {{require(['plotly'],function(plotly) {window.Plotly=plotly;});}}</script>"
      ]
     },
     "metadata": {},
     "output_type": "display_data"
    }
   ],
   "source": [
    "from __future__ import division\n",
    "#import required modules\n",
    "import pandas as pd \n",
    "from IPython.display import display\n",
    "import numpy as np\n",
    "#matplotlib for additional coustomization\n",
    "from matplotlib import pyplot as plt\n",
    "%matplotlib inline\n",
    "\n",
    "#seaborn for plotting and styling\n",
    "import seaborn as sns\n",
    "\n",
    "#todo: need to shift to plotly\n",
    "from plotly.offline import init_notebook_mode, iplot\n",
    "import plotly.figure_factory as ff\n",
    "from plotly.graph_objs import *\n",
    "from plotly import tools\n",
    "\n",
    "sns.color_palette(\"muted\")\n",
    "\n",
    "\n",
    "# to supress printing of exponential notation in pandas\n",
    "pd.options.display.float_format = '{:20,.2f}'.format\n",
    "\n",
    "init_notebook_mode(connected=True)         # initiate notebook for offline plot"
   ]
  },
  {
   "cell_type": "code",
   "execution_count": 2,
   "metadata": {
    "collapsed": true,
    "scrolled": true
   },
   "outputs": [],
   "source": [
    "#helper functions\n",
    "def getPecentage(df1, df2):\n",
    "    return df1.shape[0] / df2.shape[0] * 100\n",
    "\n",
    "def bold(text_to_bold):\n",
    "    \"\"\"\n",
    "    Bolds given string.\n",
    "    args:todo\n",
    "    returns:todo\n",
    "    \"\"\"\n",
    "    bold = \"\\033[1m\"\n",
    "    reset = \"\\033[0;0m\"\n",
    "    return bold + text_to_bold + reset\n",
    "\n",
    "def count_plot(column, axis, df, percent='no', title='', figsize=(16,3)):\n",
    "    total_rows = df.shape[0]\n",
    "    plt.figure(figsize=figsize)\n",
    "    plt.title(title)\n",
    "    if axis == 'x':\n",
    "        ax = sns.countplot(x=column, data=df)\n",
    "    elif axis == 'y':\n",
    "        ax = sns.countplot(y=column, data=df)\n",
    "    \n",
    "#     ax.title = title\n",
    "    \n",
    "    if percent == 'show' and axis != 'y':\n",
    "        for p in ax.patches:\n",
    "            height=p.get_height()\n",
    "            percent = (height*100)/total_rows\n",
    "            total_percent = (height*100)/totalrows\n",
    "#             ax.text((p.get_x() + p.get_width()/2), p.get_height()+250, '{:1.1f} %'.format(percent), ha='center')\n",
    "            ax.text((p.get_x() + p.get_width()/2), p.get_height()+0.2, '{:1.1f} %'.format(percent) + ' / ' + '{:1.1f} %'.format(total_percent), ha='center')\n",
    "\n",
    "def stacked_chart(df, x, legend, title=None, barmode=None, xaxistitle=None, yaxistitle=None, normalize=None, figsize=(16,5)):\n",
    "    \n",
    "    title = \"\" if title is None else title\n",
    "    xaxistitle = \"\" if xaxistitle is None else xaxistitle\n",
    "    yaxistitle = \"\" if yaxistitle is None else yaxistitle\n",
    "    normalize = False if normalize is None else normalize\n",
    "    barmode = 'stack' if barmode is None else barmode\n",
    "    \n",
    "    ct = pd.crosstab(index=df[x], columns=df[legend], normalize=normalize).rename_axis(None, axis=1).reset_index()\n",
    "    legend_list = ct.columns[1:]\n",
    "    \n",
    "    #data for chart\n",
    "    data = [Bar(x=ct[x], y=ct[col], name=str(col)) for col in legend_list]\n",
    "    layout = Layout(title=title, barmode=barmode,\n",
    "                   xaxis=dict(title=xaxistitle,showticklabels=True, type='category'),\n",
    "                yaxis=dict(title=yaxistitle))\n",
    "    \n",
    "    fig = Figure(data=data, layout=layout)\n",
    "    \n",
    "    return fig\n",
    "\n",
    "def factorplot(x_, col_, data_, title_=''):\n",
    "    g = sns.factorplot(x=x_,\n",
    "                   col=col_, \n",
    "                   data=data_, col_wrap=6, kind=\"count\", size=4, aspect=0.7,\n",
    "                   sharex=False\n",
    "                  )\n",
    "    plt.subplots_adjust(top=0.95)\n",
    "    g.fig.suptitle(title_)\n",
    "    # factorplot(x='restraint', cols='year', data=data)\n",
    "    plt.show()"
   ]
  },
  {
   "cell_type": "markdown",
   "metadata": {},
   "source": [
    "### Loading data"
   ]
  },
  {
   "cell_type": "code",
   "execution_count": 3,
   "metadata": {},
   "outputs": [
    {
     "name": "stdout",
     "output_type": "stream",
     "text": [
      "Data shape:\n",
      "151158 Rows x 17 Columns\n"
     ]
    }
   ],
   "source": [
    "data = pd.read_csv('data/FARS.csv')\n",
    "data = data.drop(labels=['Unnamed: 0'], axis=1)\n",
    "print \"Data shape:\"\n",
    "print \"{} Rows x {} Columns\".format(str(data.shape[0]), str(data.shape[1]))\n",
    "data.head(10)\n",
    "\n",
    "totalrows = len(data.index)"
   ]
  },
  {
   "cell_type": "markdown",
   "metadata": {},
   "source": [
    "## Let's see the distribution of inimpact position"
   ]
  },
  {
   "cell_type": "markdown",
   "metadata": {},
   "source": [
    "### inimpact: location code of initial impact\n"
   ]
  },
  {
   "cell_type": "code",
   "execution_count": 4,
   "metadata": {
    "scrolled": false
   },
   "outputs": [
    {
     "name": "stdout",
     "output_type": "stream",
     "text": [
      "total impact points:  24\n"
     ]
    },
    {
     "data": {
      "image/png": "[encoded data removed]",
      "text/plain": [
       "<matplotlib.figure.Figure at 0x7f6a6626ef10>"
      ]
     },
     "metadata": {},
     "output_type": "display_data"
    }
   ],
   "source": [
    "print 'total impact points: ', len(data.inimpact.value_counts().keys())\n",
    "count_plot('inimpact', 'x', data, 'show', 'Impact Distribution in Accidents', figsize=(16,5))"
   ]
  },
  {
   "cell_type": "markdown",
   "metadata": {},
   "source": [
    "**44%** of the accidents by the inimpact **12** (front)\n",
    "\n",
    "**20%** by inimpact **3** and **9**"
   ]
  },
  {
   "cell_type": "markdown",
   "metadata": {},
   "source": [
    "### Lets dig down more to see about 44% of the accidents by inimpact 12"
   ]
  },
  {
   "cell_type": "code",
   "execution_count": 5,
   "metadata": {
    "collapsed": true
   },
   "outputs": [],
   "source": [
    "filter_ = (data.inimpact == 12)\n",
    "data_specific_inimpact = data[filter_]"
   ]
  },
  {
   "cell_type": "markdown",
   "metadata": {},
   "source": [
    "### About Seatbelt (When inimpact12 hit from front and airbag didn't deploy)\n"
   ]
  },
  {
   "cell_type": "markdown",
   "metadata": {},
   "source": [
    "#### Availability"
   ]
  },
  {
   "cell_type": "code",
   "execution_count": 6,
   "metadata": {
    "scrolled": false
   },
   "outputs": [
    {
     "data": {
      "image/png": "[encoded data removed]",
      "text/plain": [
       "<matplotlib.figure.Figure at 0x7f6a6626ed50>"
      ]
     },
     "metadata": {},
     "output_type": "display_data"
    }
   ],
   "source": [
    "count_plot('restraint', 'x', data_specific_inimpact, 'show', \\\n",
    "           title='Restraint types  distribution in Accidents')"
   ]
  },
  {
   "cell_type": "markdown",
   "metadata": {},
   "source": [
    "**60%** accidents when there was **Shoulder and Lab seatbelt** was available and **27%** where **none** was available"
   ]
  },
  {
   "cell_type": "markdown",
   "metadata": {},
   "source": [
    "### Lets examine effect of seat belt\n",
    "#### Stats for Passenger "
   ]
  },
  {
   "cell_type": "markdown",
   "metadata": {},
   "source": [
    "When seatbelt was fastened and airbag didn't deploy"
   ]
  },
  {
   "cell_type": "code",
   "execution_count": 7,
   "metadata": {},
   "outputs": [
    {
     "data": {
      "image/png": "[encoded data removed]",
      "text/plain": [
       "<matplotlib.figure.Figure at 0x7f6a2d828290>"
      ]
     },
     "metadata": {},
     "output_type": "display_data"
    }
   ],
   "source": [
    "filter_p = (data_specific_inimpact.airbagDeploy == 'no') & (data_specific_inimpact.airbagAvail == 'yes') \\\n",
    "        & (data_specific_inimpact.Restraint == 'yes')\n",
    "count_plot('injury', 'x', data_specific_inimpact[filter_p], \\\n",
    "           title='Passenger\\'s Injury\\'s comparison when Seatbelt was fastened')"
   ]
  },
  {
   "cell_type": "markdown",
   "metadata": {},
   "source": [
    "When seatbelt wasn't fastened and aribag didn't deploy"
   ]
  },
  {
   "cell_type": "code",
   "execution_count": 8,
   "metadata": {
    "scrolled": true
   },
   "outputs": [
    {
     "data": {
      "image/png": "[encoded data removed]",
      "text/plain": [
       "<matplotlib.figure.Figure at 0x7f6a2da94ed0>"
      ]
     },
     "metadata": {},
     "output_type": "display_data"
    }
   ],
   "source": [
    "filter_p = (data_specific_inimpact.airbagDeploy == 'no') & (data_specific_inimpact.airbagAvail == 'yes') \\\n",
    "        & (data_specific_inimpact.Restraint == 'no')\n",
    "count_plot('injury', 'x', data_specific_inimpact[filter_p], \\\n",
    "           title='Passenger\\'s Injury\\'s comparison when Seatbelt wasn\\'t fastened')"
   ]
  },
  {
   "cell_type": "markdown",
   "metadata": {},
   "source": [
    "Graphs clearly showed that seatbelt helped in reduction of deaths and injuries when seatbelt was fastened when car hit from front and airbag didn't deploy"
   ]
  },
  {
   "cell_type": "markdown",
   "metadata": {},
   "source": [
    "#### Stats for Driver"
   ]
  },
  {
   "cell_type": "code",
   "execution_count": null,
   "metadata": {
    "collapsed": true,
    "scrolled": true
   },
   "outputs": [],
   "source": [
    "\n"
   ]
  },
  {
   "cell_type": "code",
   "execution_count": 9,
   "metadata": {
    "scrolled": true
   },
   "outputs": [
    {
     "data": {
      "image/png": "[encoded data removed]",
      "text/plain": [
       "<matplotlib.figure.Figure at 0x7f6a2d715e90>"
      ]
     },
     "metadata": {},
     "output_type": "display_data"
    }
   ],
   "source": [
    "filter_p = (data_specific_inimpact.D_airbagDeploy == 'no') & (data_specific_inimpact.D_airbagAvail == 'yes') \\\n",
    "            & (data_specific_inimpact.D_Restraint == 'no')\n",
    "count_plot('D_injury', 'x', data_specific_inimpact[filter_p], \\\n",
    "           title='Driver\\'s Injury\\'s comparison when Seatbelt wasn\\'t fastened')"
   ]
  },
  {
   "cell_type": "markdown",
   "metadata": {},
   "source": [
    "\n"
   ]
  },
  {
   "cell_type": "markdown",
   "metadata": {},
   "source": [
    "### Effects of  Airbag\n",
    "\n",
    "#### Lets see the type of airbag that deployed in case of impact 12"
   ]
  },
  {
   "cell_type": "code",
   "execution_count": 10,
   "metadata": {},
   "outputs": [
    {
     "data": {
      "image/png": "[encoded data removed]",
      "text/plain": [
       "<matplotlib.figure.Figure at 0x7f6a2d6ab790>"
      ]
     },
     "metadata": {},
     "output_type": "display_data"
    }
   ],
   "source": [
    "count_plot('airbag', 'x', data_specific_inimpact, 'show', title='Airbag types distribution in Accidents')"
   ]
  },
  {
   "cell_type": "markdown",
   "metadata": {},
   "source": [
    "In **37%** cases, there **wasn't** any airbag **installed** in the car for **both** driver and the passenger.\n",
    "\n",
    "In **31%** cases where airbag **1** (front) were the airbags that were **deployed**.\n",
    "\n",
    "In **14%** cases, airbags were installed but **couldn't deployed**"
   ]
  },
  {
   "cell_type": "markdown",
   "metadata": {},
   "source": [
    "### Airbags deployed successfully? (Available for both passenger and the driver and they DIED)"
   ]
  },
  {
   "cell_type": "code",
   "execution_count": 11,
   "metadata": {},
   "outputs": [
    {
     "data": {
      "text/html": [
       "<div>\n",
       "<style>\n",
       "    .dataframe thead tr:only-child th {\n",
       "        text-align: right;\n",
       "    }\n",
       "\n",
       "    .dataframe thead th {\n",
       "        text-align: left;\n",
       "    }\n",
       "\n",
       "    .dataframe tbody tr th {\n",
       "        vertical-align: top;\n",
       "    }\n",
       "</style>\n",
       "<table border=\"1\" class=\"dataframe\">\n",
       "  <thead>\n",
       "    <tr style=\"text-align: right;\">\n",
       "      <th></th>\n",
       "      <th>airbagDeploy</th>\n",
       "      <th>injury</th>\n",
       "    </tr>\n",
       "  </thead>\n",
       "  <tbody>\n",
       "    <tr>\n",
       "      <th>0</th>\n",
       "      <td>no</td>\n",
       "      <td>other</td>\n",
       "    </tr>\n",
       "    <tr>\n",
       "      <th>1</th>\n",
       "      <td>no</td>\n",
       "      <td>other</td>\n",
       "    </tr>\n",
       "    <tr>\n",
       "      <th>2</th>\n",
       "      <td>no</td>\n",
       "      <td>other</td>\n",
       "    </tr>\n",
       "    <tr>\n",
       "      <th>3</th>\n",
       "      <td>yes</td>\n",
       "      <td>4</td>\n",
       "    </tr>\n",
       "    <tr>\n",
       "      <th>4</th>\n",
       "      <td>no</td>\n",
       "      <td>other</td>\n",
       "    </tr>\n",
       "  </tbody>\n",
       "</table>\n",
       "</div>"
      ],
      "text/plain": [
       "  airbagDeploy injury\n",
       "0           no  other\n",
       "1           no  other\n",
       "2           no  other\n",
       "3          yes      4\n",
       "4           no  other"
      ]
     },
     "execution_count": 11,
     "metadata": {},
     "output_type": "execute_result"
    }
   ],
   "source": [
    "#injury vs others\n",
    "\n",
    "passenger_injury_death = data[['airbagDeploy', 'injury']]\n",
    "passenger_injury_death.loc[passenger_injury_death.injury != 4, 'injury'] = 'other'\n",
    "passenger_injury_death.head()"
   ]
  },
  {
   "cell_type": "code",
   "execution_count": 12,
   "metadata": {},
   "outputs": [
    {
     "data": {
      "application/vnd.plotly.v1+json": {
       "data": [
        {
         "name": "0",
         "type": "bar",
         "x": [
          "NA-code",
          "no",
          "yes"
         ],
         "y": [
          259,
          1440,
          211
         ]
        },
        {
         "name": "1",
         "type": "bar",
         "x": [
          "NA-code",
          "no",
          "yes"
         ],
         "y": [
          295,
          1274,
          469
         ]
        },
        {
         "name": "2",
         "type": "bar",
         "x": [
          "NA-code",
          "no",
          "yes"
         ],
         "y": [
          858,
          4222,
          1571
         ]
        },
        {
         "name": "3",
         "type": "bar",
         "x": [
          "NA-code",
          "no",
          "yes"
         ],
         "y": [
          1454,
          6739,
          2737
         ]
        },
        {
         "name": "4",
         "type": "bar",
         "x": [
          "NA-code",
          "no",
          "yes"
         ],
         "y": [
          3232,
          15116,
          6494
         ]
        },
        {
         "name": "5",
         "type": "bar",
         "x": [
          "NA-code",
          "no",
          "yes"
         ],
         "y": [
          15,
          43,
          23
         ]
        }
       ],
       "layout": {
        "barmode": "stack",
        "title": "Injury Analysis over Airbag Deployment when Seatbelt was NOT Fastened",
        "xaxis": {
         "showticklabels": true,
         "title": "Airbag Deployment",
         "type": "category"
        },
        "yaxis": {
         "title": "# of Accidents"
        }
       }
      },
      "text/html": [
       "<div id=\"f0a678a2-ec5b-484f-959a-5a15939e1322\" style=\"height: 525px; width: 100%;\" class=\"plotly-graph-div\"></div><script type=\"text/javascript\">require([\"plotly\"], function(Plotly) { window.PLOTLYENV=window.PLOTLYENV || {};window.PLOTLYENV.BASE_URL=\"https://plot.ly\";Plotly.newPlot(\"f0a678a2-ec5b-484f-959a-5a15939e1322\", [{\"y\": [259, 1440, 211], \"x\": [\"NA-code\", \"no\", \"yes\"], \"type\": \"bar\", \"name\": \"0\"}, {\"y\": [295, 1274, 469], \"x\": [\"NA-code\", \"no\", \"yes\"], \"type\": \"bar\", \"name\": \"1\"}, {\"y\": [858, 4222, 1571], \"x\": [\"NA-code\", \"no\", \"yes\"], \"type\": \"bar\", \"name\": \"2\"}, {\"y\": [1454, 6739, 2737], \"x\": [\"NA-code\", \"no\", \"yes\"], \"type\": \"bar\", \"name\": \"3\"}, {\"y\": [3232, 15116, 6494], \"x\": [\"NA-code\", \"no\", \"yes\"], \"type\": \"bar\", \"name\": \"4\"}, {\"y\": [15, 43, 23], \"x\": [\"NA-code\", \"no\", \"yes\"], \"type\": \"bar\", \"name\": \"5\"}], {\"barmode\": \"stack\", \"title\": \"Injury Analysis over Airbag Deployment when Seatbelt was NOT Fastened\", \"xaxis\": {\"showticklabels\": true, \"type\": \"category\", \"title\": \"Airbag Deployment\"}, \"yaxis\": {\"title\": \"# of Accidents\"}}, {\"linkText\": \"Export to plot.ly\", \"showLink\": true})});</script>"
      ],
      "text/vnd.plotly.v1+html": [
       "<div id=\"f0a678a2-ec5b-484f-959a-5a15939e1322\" style=\"height: 525px; width: 100%;\" class=\"plotly-graph-div\"></div><script type=\"text/javascript\">require([\"plotly\"], function(Plotly) { window.PLOTLYENV=window.PLOTLYENV || {};window.PLOTLYENV.BASE_URL=\"https://plot.ly\";Plotly.newPlot(\"f0a678a2-ec5b-484f-959a-5a15939e1322\", [{\"y\": [259, 1440, 211], \"x\": [\"NA-code\", \"no\", \"yes\"], \"type\": \"bar\", \"name\": \"0\"}, {\"y\": [295, 1274, 469], \"x\": [\"NA-code\", \"no\", \"yes\"], \"type\": \"bar\", \"name\": \"1\"}, {\"y\": [858, 4222, 1571], \"x\": [\"NA-code\", \"no\", \"yes\"], \"type\": \"bar\", \"name\": \"2\"}, {\"y\": [1454, 6739, 2737], \"x\": [\"NA-code\", \"no\", \"yes\"], \"type\": \"bar\", \"name\": \"3\"}, {\"y\": [3232, 15116, 6494], \"x\": [\"NA-code\", \"no\", \"yes\"], \"type\": \"bar\", \"name\": \"4\"}, {\"y\": [15, 43, 23], \"x\": [\"NA-code\", \"no\", \"yes\"], \"type\": \"bar\", \"name\": \"5\"}], {\"barmode\": \"stack\", \"title\": \"Injury Analysis over Airbag Deployment when Seatbelt was NOT Fastened\", \"xaxis\": {\"showticklabels\": true, \"type\": \"category\", \"title\": \"Airbag Deployment\"}, \"yaxis\": {\"title\": \"# of Accidents\"}}, {\"linkText\": \"Export to plot.ly\", \"showLink\": true})});</script>"
      ]
     },
     "metadata": {},
     "output_type": "display_data"
    },
    {
     "data": {
      "application/vnd.plotly.v1+json": {
       "data": [
        {
         "name": "0",
         "type": "bar",
         "x": [
          "NA-code",
          "no",
          "yes"
         ],
         "y": [
          3274,
          15074,
          2342
         ]
        },
        {
         "name": "1",
         "type": "bar",
         "x": [
          "NA-code",
          "no",
          "yes"
         ],
         "y": [
          1459,
          5750,
          3567
         ]
        },
        {
         "name": "2",
         "type": "bar",
         "x": [
          "NA-code",
          "no",
          "yes"
         ],
         "y": [
          2402,
          9062,
          7002
         ]
        },
        {
         "name": "3",
         "type": "bar",
         "x": [
          "NA-code",
          "no",
          "yes"
         ],
         "y": [
          2126,
          8249,
          7047
         ]
        },
        {
         "name": "4",
         "type": "bar",
         "x": [
          "NA-code",
          "no",
          "yes"
         ],
         "y": [
          3357,
          13885,
          9407
         ]
        },
        {
         "name": "5",
         "type": "bar",
         "x": [
          "NA-code",
          "no",
          "yes"
         ],
         "y": [
          25,
          61,
          82
         ]
        }
       ],
       "layout": {
        "barmode": "stack",
        "title": "Injury Analysis over Airbag Deployment when seatbelt was Fastened",
        "xaxis": {
         "showticklabels": true,
         "title": "IAirbag Deployment",
         "type": "category"
        },
        "yaxis": {
         "title": "# of Accidents"
        }
       }
      },
      "text/html": [
       "<div id=\"2ccc9026-74be-4373-977d-988a5bd5f0ea\" style=\"height: 525px; width: 100%;\" class=\"plotly-graph-div\"></div><script type=\"text/javascript\">require([\"plotly\"], function(Plotly) { window.PLOTLYENV=window.PLOTLYENV || {};window.PLOTLYENV.BASE_URL=\"https://plot.ly\";Plotly.newPlot(\"2ccc9026-74be-4373-977d-988a5bd5f0ea\", [{\"y\": [3274, 15074, 2342], \"x\": [\"NA-code\", \"no\", \"yes\"], \"type\": \"bar\", \"name\": \"0\"}, {\"y\": [1459, 5750, 3567], \"x\": [\"NA-code\", \"no\", \"yes\"], \"type\": \"bar\", \"name\": \"1\"}, {\"y\": [2402, 9062, 7002], \"x\": [\"NA-code\", \"no\", \"yes\"], \"type\": \"bar\", \"name\": \"2\"}, {\"y\": [2126, 8249, 7047], \"x\": [\"NA-code\", \"no\", \"yes\"], \"type\": \"bar\", \"name\": \"3\"}, {\"y\": [3357, 13885, 9407], \"x\": [\"NA-code\", \"no\", \"yes\"], \"type\": \"bar\", \"name\": \"4\"}, {\"y\": [25, 61, 82], \"x\": [\"NA-code\", \"no\", \"yes\"], \"type\": \"bar\", \"name\": \"5\"}], {\"barmode\": \"stack\", \"title\": \"Injury Analysis over Airbag Deployment when seatbelt was Fastened\", \"xaxis\": {\"showticklabels\": true, \"type\": \"category\", \"title\": \"IAirbag Deployment\"}, \"yaxis\": {\"title\": \"# of Accidents\"}}, {\"linkText\": \"Export to plot.ly\", \"showLink\": true})});</script>"
      ],
      "text/vnd.plotly.v1+html": [
       "<div id=\"2ccc9026-74be-4373-977d-988a5bd5f0ea\" style=\"height: 525px; width: 100%;\" class=\"plotly-graph-div\"></div><script type=\"text/javascript\">require([\"plotly\"], function(Plotly) { window.PLOTLYENV=window.PLOTLYENV || {};window.PLOTLYENV.BASE_URL=\"https://plot.ly\";Plotly.newPlot(\"2ccc9026-74be-4373-977d-988a5bd5f0ea\", [{\"y\": [3274, 15074, 2342], \"x\": [\"NA-code\", \"no\", \"yes\"], \"type\": \"bar\", \"name\": \"0\"}, {\"y\": [1459, 5750, 3567], \"x\": [\"NA-code\", \"no\", \"yes\"], \"type\": \"bar\", \"name\": \"1\"}, {\"y\": [2402, 9062, 7002], \"x\": [\"NA-code\", \"no\", \"yes\"], \"type\": \"bar\", \"name\": \"2\"}, {\"y\": [2126, 8249, 7047], \"x\": [\"NA-code\", \"no\", \"yes\"], \"type\": \"bar\", \"name\": \"3\"}, {\"y\": [3357, 13885, 9407], \"x\": [\"NA-code\", \"no\", \"yes\"], \"type\": \"bar\", \"name\": \"4\"}, {\"y\": [25, 61, 82], \"x\": [\"NA-code\", \"no\", \"yes\"], \"type\": \"bar\", \"name\": \"5\"}], {\"barmode\": \"stack\", \"title\": \"Injury Analysis over Airbag Deployment when seatbelt was Fastened\", \"xaxis\": {\"showticklabels\": true, \"type\": \"category\", \"title\": \"IAirbag Deployment\"}, \"yaxis\": {\"title\": \"# of Accidents\"}}, {\"linkText\": \"Export to plot.ly\", \"showLink\": true})});</script>"
      ]
     },
     "metadata": {},
     "output_type": "display_data"
    },
    {
     "data": {
      "text/plain": [
       "<matplotlib.figure.Figure at 0x7f6a2d541990>"
      ]
     },
     "metadata": {},
     "output_type": "display_data"
    }
   ],
   "source": [
    "plt.figure(figsize=(16,3))\n",
    "filter_ = (data.Restraint == 'no')\n",
    "iplot(stacked_chart(df=data[filter_], x='airbagDeploy', legend='injury', xaxistitle='Airbag Deployment', yaxistitle='# of Accidents', \\\n",
    "                    title='Injury Analysis over Airbag Deployment when Seatbelt was NOT Fastened'))\n",
    "filter_ = (data.Restraint == 'yes')\n",
    "iplot(stacked_chart(df=data[filter_], x='airbagDeploy', legend='injury', xaxistitle='IAirbag Deployment', yaxistitle='# of Accidents', \\\n",
    "                    title='Injury Analysis over Airbag Deployment when seatbelt was Fastened'))\n"
   ]
  },
  {
   "cell_type": "markdown",
   "metadata": {},
   "source": [
    "Graph shows **decrease in Death and increase in no injury** when seatbelt was **fastened**"
   ]
  },
  {
   "cell_type": "code",
   "execution_count": 13,
   "metadata": {},
   "outputs": [
    {
     "data": {
      "application/vnd.plotly.v1+json": {
       "data": [
        {
         "name": "0",
         "type": "bar",
         "x": [
          "NA-code",
          "no",
          "yes"
         ],
         "y": [
          0.04236872239489612,
          0.04994104182562253,
          0.018339852238157324
         ]
        },
        {
         "name": "1",
         "type": "bar",
         "x": [
          "NA-code",
          "no",
          "yes"
         ],
         "y": [
          0.048257811221985934,
          0.04418394950405771,
          0.040764884832681446
         ]
        },
        {
         "name": "2",
         "type": "bar",
         "x": [
          "NA-code",
          "no",
          "yes"
         ],
         "y": [
          0.14035661704564042,
          0.1464243601304016,
          0.13654932637983486
         ]
        },
        {
         "name": "3",
         "type": "bar",
         "x": [
          "NA-code",
          "no",
          "yes"
         ],
         "y": [
          0.23785375429412728,
          0.23371713948810433,
          0.23789656671012605
         ]
        },
        {
         "name": "4",
         "type": "bar",
         "x": [
          "NA-code",
          "no",
          "yes"
         ],
         "y": [
          0.5287093080320628,
          0.5242422140528543,
          0.5644502390265103
         ]
        },
        {
         "name": "5",
         "type": "bar",
         "x": [
          "NA-code",
          "no",
          "yes"
         ],
         "y": [
          0.0024537870112874205,
          0.0014912949989595616,
          0.001999130812690135
         ]
        }
       ],
       "layout": {
        "barmode": "stack",
        "title": "Injury Analysis over Airbag Deployment when seatbelt was NOT Fastened",
        "xaxis": {
         "showticklabels": true,
         "title": "Airbag Deployment",
         "type": "category"
        },
        "yaxis": {
         "title": "Ratio"
        }
       }
      },
      "text/html": [
       "<div id=\"13b430df-b16a-48fd-9987-ae4c3b65b4d8\" style=\"height: 525px; width: 100%;\" class=\"plotly-graph-div\"></div><script type=\"text/javascript\">require([\"plotly\"], function(Plotly) { window.PLOTLYENV=window.PLOTLYENV || {};window.PLOTLYENV.BASE_URL=\"https://plot.ly\";Plotly.newPlot(\"13b430df-b16a-48fd-9987-ae4c3b65b4d8\", [{\"y\": [0.04236872239489612, 0.04994104182562253, 0.018339852238157324], \"x\": [\"NA-code\", \"no\", \"yes\"], \"type\": \"bar\", \"name\": \"0\"}, {\"y\": [0.048257811221985934, 0.04418394950405771, 0.040764884832681446], \"x\": [\"NA-code\", \"no\", \"yes\"], \"type\": \"bar\", \"name\": \"1\"}, {\"y\": [0.14035661704564042, 0.1464243601304016, 0.13654932637983486], \"x\": [\"NA-code\", \"no\", \"yes\"], \"type\": \"bar\", \"name\": \"2\"}, {\"y\": [0.23785375429412728, 0.23371713948810433, 0.23789656671012605], \"x\": [\"NA-code\", \"no\", \"yes\"], \"type\": \"bar\", \"name\": \"3\"}, {\"y\": [0.5287093080320628, 0.5242422140528543, 0.5644502390265103], \"x\": [\"NA-code\", \"no\", \"yes\"], \"type\": \"bar\", \"name\": \"4\"}, {\"y\": [0.0024537870112874205, 0.0014912949989595616, 0.001999130812690135], \"x\": [\"NA-code\", \"no\", \"yes\"], \"type\": \"bar\", \"name\": \"5\"}], {\"barmode\": \"stack\", \"title\": \"Injury Analysis over Airbag Deployment when seatbelt was NOT Fastened\", \"xaxis\": {\"showticklabels\": true, \"type\": \"category\", \"title\": \"Airbag Deployment\"}, \"yaxis\": {\"title\": \"Ratio\"}}, {\"linkText\": \"Export to plot.ly\", \"showLink\": true})});</script>"
      ],
      "text/vnd.plotly.v1+html": [
       "<div id=\"13b430df-b16a-48fd-9987-ae4c3b65b4d8\" style=\"height: 525px; width: 100%;\" class=\"plotly-graph-div\"></div><script type=\"text/javascript\">require([\"plotly\"], function(Plotly) { window.PLOTLYENV=window.PLOTLYENV || {};window.PLOTLYENV.BASE_URL=\"https://plot.ly\";Plotly.newPlot(\"13b430df-b16a-48fd-9987-ae4c3b65b4d8\", [{\"y\": [0.04236872239489612, 0.04994104182562253, 0.018339852238157324], \"x\": [\"NA-code\", \"no\", \"yes\"], \"type\": \"bar\", \"name\": \"0\"}, {\"y\": [0.048257811221985934, 0.04418394950405771, 0.040764884832681446], \"x\": [\"NA-code\", \"no\", \"yes\"], \"type\": \"bar\", \"name\": \"1\"}, {\"y\": [0.14035661704564042, 0.1464243601304016, 0.13654932637983486], \"x\": [\"NA-code\", \"no\", \"yes\"], \"type\": \"bar\", \"name\": \"2\"}, {\"y\": [0.23785375429412728, 0.23371713948810433, 0.23789656671012605], \"x\": [\"NA-code\", \"no\", \"yes\"], \"type\": \"bar\", \"name\": \"3\"}, {\"y\": [0.5287093080320628, 0.5242422140528543, 0.5644502390265103], \"x\": [\"NA-code\", \"no\", \"yes\"], \"type\": \"bar\", \"name\": \"4\"}, {\"y\": [0.0024537870112874205, 0.0014912949989595616, 0.001999130812690135], \"x\": [\"NA-code\", \"no\", \"yes\"], \"type\": \"bar\", \"name\": \"5\"}], {\"barmode\": \"stack\", \"title\": \"Injury Analysis over Airbag Deployment when seatbelt was NOT Fastened\", \"xaxis\": {\"showticklabels\": true, \"type\": \"category\", \"title\": \"Airbag Deployment\"}, \"yaxis\": {\"title\": \"Ratio\"}}, {\"linkText\": \"Export to plot.ly\", \"showLink\": true})});</script>"
      ]
     },
     "metadata": {},
     "output_type": "display_data"
    },
    {
     "data": {
      "application/vnd.plotly.v1+json": {
       "data": [
        {
         "name": "0",
         "type": "bar",
         "x": [
          "NA-code",
          "no",
          "yes"
         ],
         "y": [
          0.2589575259036621,
          0.28943376663274517,
          0.07953271980167759
         ]
        },
        {
         "name": "1",
         "type": "bar",
         "x": [
          "NA-code",
          "no",
          "yes"
         ],
         "y": [
          0.11539982599066677,
          0.11040494614158715,
          0.12113288280639793
         ]
        },
        {
         "name": "2",
         "type": "bar",
         "x": [
          "NA-code",
          "no",
          "yes"
         ],
         "y": [
          0.1899865538242506,
          0.17399819511914133,
          0.23778313580330765
         ]
        },
        {
         "name": "3",
         "type": "bar",
         "x": [
          "NA-code",
          "no",
          "yes"
         ],
         "y": [
          0.16815629201929921,
          0.15838789577773085,
          0.23931130505654227
         ]
        },
        {
         "name": "4",
         "type": "bar",
         "x": [
          "NA-code",
          "no",
          "yes"
         ],
         "y": [
          0.26552242347544097,
          0.2666039438566848,
          0.3194552925595137
         ]
        },
        {
         "name": "5",
         "type": "bar",
         "x": [
          "NA-code",
          "no",
          "yes"
         ],
         "y": [
          0.0019773787866803763,
          0.0011712524721107505,
          0.0027846639725608723
         ]
        }
       ],
       "layout": {
        "barmode": "stack",
        "title": "Injury Analysis over Airbag Deployment when seatbelt was Fastened",
        "xaxis": {
         "showticklabels": true,
         "title": "Airbag Deployment",
         "type": "category"
        },
        "yaxis": {
         "title": "Ratio"
        }
       }
      },
      "text/html": [
       "<div id=\"a502e2b7-3354-4553-a8c0-d1ac46874bc2\" style=\"height: 525px; width: 100%;\" class=\"plotly-graph-div\"></div><script type=\"text/javascript\">require([\"plotly\"], function(Plotly) { window.PLOTLYENV=window.PLOTLYENV || {};window.PLOTLYENV.BASE_URL=\"https://plot.ly\";Plotly.newPlot(\"a502e2b7-3354-4553-a8c0-d1ac46874bc2\", [{\"y\": [0.2589575259036621, 0.28943376663274517, 0.07953271980167759], \"x\": [\"NA-code\", \"no\", \"yes\"], \"type\": \"bar\", \"name\": \"0\"}, {\"y\": [0.11539982599066677, 0.11040494614158715, 0.12113288280639793], \"x\": [\"NA-code\", \"no\", \"yes\"], \"type\": \"bar\", \"name\": \"1\"}, {\"y\": [0.1899865538242506, 0.17399819511914133, 0.23778313580330765], \"x\": [\"NA-code\", \"no\", \"yes\"], \"type\": \"bar\", \"name\": \"2\"}, {\"y\": [0.16815629201929921, 0.15838789577773085, 0.23931130505654227], \"x\": [\"NA-code\", \"no\", \"yes\"], \"type\": \"bar\", \"name\": \"3\"}, {\"y\": [0.26552242347544097, 0.2666039438566848, 0.3194552925595137], \"x\": [\"NA-code\", \"no\", \"yes\"], \"type\": \"bar\", \"name\": \"4\"}, {\"y\": [0.0019773787866803763, 0.0011712524721107505, 0.0027846639725608723], \"x\": [\"NA-code\", \"no\", \"yes\"], \"type\": \"bar\", \"name\": \"5\"}], {\"barmode\": \"stack\", \"title\": \"Injury Analysis over Airbag Deployment when seatbelt was Fastened\", \"xaxis\": {\"showticklabels\": true, \"type\": \"category\", \"title\": \"Airbag Deployment\"}, \"yaxis\": {\"title\": \"Ratio\"}}, {\"linkText\": \"Export to plot.ly\", \"showLink\": true})});</script>"
      ],
      "text/vnd.plotly.v1+html": [
       "<div id=\"a502e2b7-3354-4553-a8c0-d1ac46874bc2\" style=\"height: 525px; width: 100%;\" class=\"plotly-graph-div\"></div><script type=\"text/javascript\">require([\"plotly\"], function(Plotly) { window.PLOTLYENV=window.PLOTLYENV || {};window.PLOTLYENV.BASE_URL=\"https://plot.ly\";Plotly.newPlot(\"a502e2b7-3354-4553-a8c0-d1ac46874bc2\", [{\"y\": [0.2589575259036621, 0.28943376663274517, 0.07953271980167759], \"x\": [\"NA-code\", \"no\", \"yes\"], \"type\": \"bar\", \"name\": \"0\"}, {\"y\": [0.11539982599066677, 0.11040494614158715, 0.12113288280639793], \"x\": [\"NA-code\", \"no\", \"yes\"], \"type\": \"bar\", \"name\": \"1\"}, {\"y\": [0.1899865538242506, 0.17399819511914133, 0.23778313580330765], \"x\": [\"NA-code\", \"no\", \"yes\"], \"type\": \"bar\", \"name\": \"2\"}, {\"y\": [0.16815629201929921, 0.15838789577773085, 0.23931130505654227], \"x\": [\"NA-code\", \"no\", \"yes\"], \"type\": \"bar\", \"name\": \"3\"}, {\"y\": [0.26552242347544097, 0.2666039438566848, 0.3194552925595137], \"x\": [\"NA-code\", \"no\", \"yes\"], \"type\": \"bar\", \"name\": \"4\"}, {\"y\": [0.0019773787866803763, 0.0011712524721107505, 0.0027846639725608723], \"x\": [\"NA-code\", \"no\", \"yes\"], \"type\": \"bar\", \"name\": \"5\"}], {\"barmode\": \"stack\", \"title\": \"Injury Analysis over Airbag Deployment when seatbelt was Fastened\", \"xaxis\": {\"showticklabels\": true, \"type\": \"category\", \"title\": \"Airbag Deployment\"}, \"yaxis\": {\"title\": \"Ratio\"}}, {\"linkText\": \"Export to plot.ly\", \"showLink\": true})});</script>"
      ]
     },
     "metadata": {},
     "output_type": "display_data"
    }
   ],
   "source": [
    "filter_ = (data.Restraint == 'no')\n",
    "iplot(stacked_chart(df=data[filter_], x='airbagDeploy', legend='injury', xaxistitle='Airbag Deployment', yaxistitle='Ratio', \\\n",
    "                    title='Injury Analysis over Airbag Deployment when seatbelt was NOT Fastened', normalize='index'))\n",
    "filter_ = (data.Restraint == 'yes')\n",
    "iplot(stacked_chart(df=data[filter_], x='airbagDeploy', legend='injury', xaxistitle='Airbag Deployment', yaxistitle='Ratio', \\\n",
    "                    title='Injury Analysis over Airbag Deployment when seatbelt was Fastened', normalize='index'))"
   ]
  },
  {
   "cell_type": "markdown",
   "metadata": {},
   "source": [
    "On terms of ratio, we can clearly see the **decrease in death** and **increase in no injury** when seatbelt was **fastened**"
   ]
  },
  {
   "cell_type": "markdown",
   "metadata": {},
   "source": [
    "# WHOLE DATA"
   ]
  },
  {
   "cell_type": "markdown",
   "metadata": {},
   "source": [
    "### Death's stats"
   ]
  },
  {
   "cell_type": "code",
   "execution_count": 14,
   "metadata": {
    "collapsed": true
   },
   "outputs": [],
   "source": [
    "def addDeathType(row):\n",
    "    if (row.D_injury != 4) & (row.injury != 4):\n",
    "        return 'None'\n",
    "    elif (row.D_injury == 4) & (row.injury == 4):\n",
    "        return 'Both'\n",
    "    elif (row.D_injury != 4) & (row.injury == 4):\n",
    "        return 'Psngr'\n",
    "    else:\n",
    "        return 'Drvr'\n",
    "data['death_type'] = data.apply(addDeathType, axis=1)"
   ]
  },
  {
   "cell_type": "code",
   "execution_count": 15,
   "metadata": {
    "scrolled": true
   },
   "outputs": [
    {
     "data": {
      "image/png": "[encoded data removed]",
      "text/plain": [
       "<matplotlib.figure.Figure at 0x7f6a2d466790>"
      ]
     },
     "metadata": {},
     "output_type": "display_data"
    }
   ],
   "source": [
    "count_plot('death_type', 'x', data, 'show', title='Death Types Distribution in Accidents')"
   ]
  },
  {
   "cell_type": "markdown",
   "metadata": {},
   "source": [
    "40% cases where no one died\n",
    "Passengers' death ratios are more than drivers'"
   ]
  },
  {
   "cell_type": "markdown",
   "metadata": {
    "collapsed": true
   },
   "source": [
    "### Seat belts Yes/No in each state\n",
    "<img src='img/state number.png' width='300px' height='100px' />"
   ]
  },
  {
   "cell_type": "code",
   "execution_count": 16,
   "metadata": {
    "collapsed": true,
    "scrolled": false
   },
   "outputs": [],
   "source": [
    "# factorplot(x_='Restraint', col_='state', data_=data, title_='Passenger\\'s Seatbelt Usage Ratio in States')"
   ]
  },
  {
   "cell_type": "code",
   "execution_count": 17,
   "metadata": {
    "collapsed": true,
    "scrolled": false
   },
   "outputs": [],
   "source": [
    "# factorplot(x_='D_Restraint', col_='state', data_=data, title_='Driver\\'s Seatbelt Usage Ratio in States')"
   ]
  },
  {
   "cell_type": "markdown",
   "metadata": {},
   "source": [
    "Graph shows that passengers and drivers **don't wear belts** more often in **state 28**\n",
    "\n",
    "Moreover, drivers and passengers wear seatbelts more often in states where the accidents' chances are high.\n",
    "e.g California \n",
    "\n",
    "** We can spread awareness of seatbelts in the areas where ratio of persons is high who don't wear seatbelts by showing them how seatbelt effects the reduction of injuries and deaths **"
   ]
  },
  {
   "cell_type": "markdown",
   "metadata": {},
   "source": [
    "### Seatbelt Types used over the years"
   ]
  },
  {
   "cell_type": "code",
   "execution_count": 18,
   "metadata": {
    "collapsed": true
   },
   "outputs": [],
   "source": [
    "# factorplot(x_='restraint', col_='year', data_=data, title_='Seatbelts\\' type Ratio over the Years')"
   ]
  },
  {
   "cell_type": "markdown",
   "metadata": {},
   "source": [
    "Use of shoulder and lab seatbelts are common and not other measure has been taken to install other type of belts"
   ]
  },
  {
   "cell_type": "markdown",
   "metadata": {},
   "source": [
    "In 2010, there was no accident reported where vehicle didn't have seatbelt, But type 07 was installed in many vehicles to prevent deaths"
   ]
  },
  {
   "cell_type": "markdown",
   "metadata": {},
   "source": [
    "# SOMETHING NEW"
   ]
  },
  {
   "cell_type": "code",
   "execution_count": 19,
   "metadata": {
    "collapsed": true
   },
   "outputs": [],
   "source": [
    "def getRatio(df_count, count, df_yr_count, yr_count):\n",
    "    df = df_count.copy()\n",
    "    for yr in df_yr_count.year:\n",
    "        df.set_value(df.year == yr, count, df[df.year == yr][count]/df_yr_count[df_yr_count.year == yr][yr_count].item())\n",
    "#         df[df.year == yr][count] = df[df.year == yr][count]/df_yr_count[df_yr_count.year == yr][yr_count].item()\n",
    "       \n",
    "    return df"
   ]
  },
  {
   "cell_type": "markdown",
   "metadata": {},
   "source": [
    "### Lets see deaths' type and acidents ratio"
   ]
  },
  {
   "cell_type": "code",
   "execution_count": 20,
   "metadata": {},
   "outputs": [],
   "source": [
    "# accident counts by year\n",
    "y_count = data.groupby(['year']).count().reset_index()[['year', 'caseid']]\n",
    "\n",
    "y_count_ratioed  = y_count.copy()\n",
    "y_count_ratioed.caseid = y_count.caseid / len(data.index)"
   ]
  },
  {
   "cell_type": "code",
   "execution_count": 21,
   "metadata": {},
   "outputs": [],
   "source": [
    "# accident counts by year\n",
    "y_death_type_c = data.groupby(['year', 'death_type']).count().reset_index()[['year', 'death_type', 'caseid']]\n",
    "y_death_type_c_ratioed = getRatio(y_death_type_c, 'caseid', y_count, 'caseid')"
   ]
  },
  {
   "cell_type": "code",
   "execution_count": 22,
   "metadata": {},
   "outputs": [
    {
     "data": {
      "application/vnd.plotly.v1+json": {
       "data": [
        {
         "mode": "lines",
         "name": "# of accidents",
         "type": "scatter",
         "x": [
          1998,
          1999,
          2000,
          2001,
          2002,
          2003,
          2004,
          2005,
          2006,
          2007,
          2008,
          2009,
          2010
         ],
         "y": [
          0.08666428505272629,
          0.08575133304224719,
          0.0853080882255653,
          0.08538747535691131,
          0.0870149115495045,
          0.08334987231903042,
          0.0829397054737427,
          0.07949959644874899,
          0.07704521097130156,
          0.07240767938183887,
          0.06390002513925826,
          0.057965837071144104,
          0.05276597996798053
         ]
        },
        {
         "mode": "lines+markers",
         "name": "Both",
         "type": "scatter",
         "x": [
          1998,
          1999,
          2000,
          2001,
          2002,
          2003,
          2004,
          2005,
          2006,
          2007,
          2008,
          2009,
          2010
         ],
         "y": [
          0.10022900763358779,
          0.10854806357043666,
          0.10244280728964715,
          0.1021151313240877,
          0.10735193491979016,
          0.107865703627272,
          0.10584669378639228,
          0.10268785886660564,
          0.10793405461102525,
          0.09986295111923253,
          0.10063153535562688,
          0.09929239899566308,
          0.10042627883650952
         ]
        },
        {
         "mode": "lines+markers",
         "name": "Drvr",
         "type": "scatter",
         "x": [
          1998,
          1999,
          2000,
          2001,
          2002,
          2003,
          2004,
          2005,
          2006,
          2007,
          2008,
          2009,
          2010
         ],
         "y": [
          0.24572519083969466,
          0.24502391606233606,
          0.24063590538968593,
          0.24211668087084529,
          0.24952482323424313,
          0.2363679657115644,
          0.24519422509372257,
          0.23857868020304568,
          0.24557788081744805,
          0.23654636820465966,
          0.24360699865410498,
          0.23601917370463366,
          0.2316950852557673
         ]
        },
        {
         "mode": "lines+markers",
         "name": "None",
         "type": "scatter",
         "x": [
          1998,
          1999,
          2000,
          2001,
          2002,
          2003,
          2004,
          2005,
          2006,
          2007,
          2008,
          2009,
          2010
         ],
         "y": [
          0.383969465648855,
          0.3829655917296714,
          0.37727801473439315,
          0.3842875958782056,
          0.3781646772599407,
          0.3876498134772601,
          0.3870942011645529,
          0.4030123991012732,
          0.3923235445646574,
          0.4045682960255825,
          0.40853090382027124,
          0.4161150422278019,
          0.4157472417251755
         ]
        },
        {
         "mode": "lines+markers",
         "name": "Psngr",
         "type": "scatter",
         "x": [
          1998,
          1999,
          2000,
          2001,
          2002,
          2003,
          2004,
          2005,
          2006,
          2007,
          2008,
          2009,
          2010
         ],
         "y": [
          0.2700763358778626,
          0.2634624286375559,
          0.27964327258627375,
          0.2714805919268614,
          0.264958564586026,
          0.2681165171839035,
          0.2618648799553322,
          0.2557210618290755,
          0.2541645200068693,
          0.25902238465052535,
          0.2472305621699969,
          0.24857338507190138,
          0.25213139418254765
         ]
        }
       ],
       "layout": {}
      },
      "text/html": [
       "<div id=\"cef65b7e-6b1f-45a5-be7e-9874a1671d0c\" style=\"height: 525px; width: 100%;\" class=\"plotly-graph-div\"></div><script type=\"text/javascript\">require([\"plotly\"], function(Plotly) { window.PLOTLYENV=window.PLOTLYENV || {};window.PLOTLYENV.BASE_URL=\"https://plot.ly\";Plotly.newPlot(\"cef65b7e-6b1f-45a5-be7e-9874a1671d0c\", [{\"y\": [0.08666428505272629, 0.08575133304224719, 0.0853080882255653, 0.08538747535691131, 0.0870149115495045, 0.08334987231903042, 0.0829397054737427, 0.07949959644874899, 0.07704521097130156, 0.07240767938183887, 0.06390002513925826, 0.057965837071144104, 0.05276597996798053], \"x\": [1998, 1999, 2000, 2001, 2002, 2003, 2004, 2005, 2006, 2007, 2008, 2009, 2010], \"type\": \"scatter\", \"name\": \"# of accidents\", \"mode\": \"lines\"}, {\"y\": [0.10022900763358779, 0.10854806357043666, 0.10244280728964715, 0.1021151313240877, 0.10735193491979016, 0.107865703627272, 0.10584669378639228, 0.10268785886660564, 0.10793405461102525, 0.09986295111923253, 0.10063153535562688, 0.09929239899566308, 0.10042627883650952], \"x\": [1998, 1999, 2000, 2001, 2002, 2003, 2004, 2005, 2006, 2007, 2008, 2009, 2010], \"type\": \"scatter\", \"name\": \"Both\", \"mode\": \"lines+markers\"}, {\"y\": [0.24572519083969466, 0.24502391606233606, 0.24063590538968593, 0.24211668087084529, 0.24952482323424313, 0.2363679657115644, 0.24519422509372257, 0.23857868020304568, 0.24557788081744805, 0.23654636820465966, 0.24360699865410498, 0.23601917370463366, 0.2316950852557673], \"x\": [1998, 1999, 2000, 2001, 2002, 2003, 2004, 2005, 2006, 2007, 2008, 2009, 2010], \"type\": \"scatter\", \"name\": \"Drvr\", \"mode\": \"lines+markers\"}, {\"y\": [0.383969465648855, 0.3829655917296714, 0.37727801473439315, 0.3842875958782056, 0.3781646772599407, 0.3876498134772601, 0.3870942011645529, 0.4030123991012732, 0.3923235445646574, 0.4045682960255825, 0.40853090382027124, 0.4161150422278019, 0.4157472417251755], \"x\": [1998, 1999, 2000, 2001, 2002, 2003, 2004, 2005, 2006, 2007, 2008, 2009, 2010], \"type\": \"scatter\", \"name\": \"None\", \"mode\": \"lines+markers\"}, {\"y\": [0.2700763358778626, 0.2634624286375559, 0.27964327258627375, 0.2714805919268614, 0.264958564586026, 0.2681165171839035, 0.2618648799553322, 0.2557210618290755, 0.2541645200068693, 0.25902238465052535, 0.2472305621699969, 0.24857338507190138, 0.25213139418254765], \"x\": [1998, 1999, 2000, 2001, 2002, 2003, 2004, 2005, 2006, 2007, 2008, 2009, 2010], \"type\": \"scatter\", \"name\": \"Psngr\", \"mode\": \"lines+markers\"}], {}, {\"linkText\": \"Export to plot.ly\", \"showLink\": true})});</script>"
      ],
      "text/vnd.plotly.v1+html": [
       "<div id=\"cef65b7e-6b1f-45a5-be7e-9874a1671d0c\" style=\"height: 525px; width: 100%;\" class=\"plotly-graph-div\"></div><script type=\"text/javascript\">require([\"plotly\"], function(Plotly) { window.PLOTLYENV=window.PLOTLYENV || {};window.PLOTLYENV.BASE_URL=\"https://plot.ly\";Plotly.newPlot(\"cef65b7e-6b1f-45a5-be7e-9874a1671d0c\", [{\"y\": [0.08666428505272629, 0.08575133304224719, 0.0853080882255653, 0.08538747535691131, 0.0870149115495045, 0.08334987231903042, 0.0829397054737427, 0.07949959644874899, 0.07704521097130156, 0.07240767938183887, 0.06390002513925826, 0.057965837071144104, 0.05276597996798053], \"x\": [1998, 1999, 2000, 2001, 2002, 2003, 2004, 2005, 2006, 2007, 2008, 2009, 2010], \"type\": \"scatter\", \"name\": \"# of accidents\", \"mode\": \"lines\"}, {\"y\": [0.10022900763358779, 0.10854806357043666, 0.10244280728964715, 0.1021151313240877, 0.10735193491979016, 0.107865703627272, 0.10584669378639228, 0.10268785886660564, 0.10793405461102525, 0.09986295111923253, 0.10063153535562688, 0.09929239899566308, 0.10042627883650952], \"x\": [1998, 1999, 2000, 2001, 2002, 2003, 2004, 2005, 2006, 2007, 2008, 2009, 2010], \"type\": \"scatter\", \"name\": \"Both\", \"mode\": \"lines+markers\"}, {\"y\": [0.24572519083969466, 0.24502391606233606, 0.24063590538968593, 0.24211668087084529, 0.24952482323424313, 0.2363679657115644, 0.24519422509372257, 0.23857868020304568, 0.24557788081744805, 0.23654636820465966, 0.24360699865410498, 0.23601917370463366, 0.2316950852557673], \"x\": [1998, 1999, 2000, 2001, 2002, 2003, 2004, 2005, 2006, 2007, 2008, 2009, 2010], \"type\": \"scatter\", \"name\": \"Drvr\", \"mode\": \"lines+markers\"}, {\"y\": [0.383969465648855, 0.3829655917296714, 0.37727801473439315, 0.3842875958782056, 0.3781646772599407, 0.3876498134772601, 0.3870942011645529, 0.4030123991012732, 0.3923235445646574, 0.4045682960255825, 0.40853090382027124, 0.4161150422278019, 0.4157472417251755], \"x\": [1998, 1999, 2000, 2001, 2002, 2003, 2004, 2005, 2006, 2007, 2008, 2009, 2010], \"type\": \"scatter\", \"name\": \"None\", \"mode\": \"lines+markers\"}, {\"y\": [0.2700763358778626, 0.2634624286375559, 0.27964327258627375, 0.2714805919268614, 0.264958564586026, 0.2681165171839035, 0.2618648799553322, 0.2557210618290755, 0.2541645200068693, 0.25902238465052535, 0.2472305621699969, 0.24857338507190138, 0.25213139418254765], \"x\": [1998, 1999, 2000, 2001, 2002, 2003, 2004, 2005, 2006, 2007, 2008, 2009, 2010], \"type\": \"scatter\", \"name\": \"Psngr\", \"mode\": \"lines+markers\"}], {}, {\"linkText\": \"Export to plot.ly\", \"showLink\": true})});</script>"
      ]
     },
     "metadata": {},
     "output_type": "display_data"
    }
   ],
   "source": [
    "iplot_data = []\n",
    "\n",
    "plot = Scatter(x=y_count.year, y=y_count.caseid/len(data.index), \\\n",
    "               mode='lines', name=str('# of accidents'))\n",
    "iplot_data.append(plot)\n",
    "\n",
    "for death_type in (y_death_type_c_ratioed.death_type.unique()):\n",
    "    new_data = y_death_type_c_ratioed[y_death_type_c_ratioed.death_type == death_type].reset_index()\n",
    "    plot = Scatter(x=new_data.year, y=new_data.caseid, mode='lines+markers', name=str(death_type))\n",
    "    iplot_data.append(plot)\n",
    "iplot(iplot_data)\n"
   ]
  },
  {
   "cell_type": "markdown",
   "metadata": {},
   "source": [
    "### Seat belt trend"
   ]
  },
  {
   "cell_type": "code",
   "execution_count": 23,
   "metadata": {},
   "outputs": [],
   "source": [
    "y_restraint_c = data.groupby(['year', 'restraint']).count().reset_index()[['year', 'restraint', 'caseid']]\n",
    "y_restraint_c = getRatio(y_restraint_c, 'caseid', y_count, 'caseid')"
   ]
  },
  {
   "cell_type": "code",
   "execution_count": 24,
   "metadata": {
    "scrolled": false
   },
   "outputs": [
    {
     "data": {
      "application/vnd.plotly.v1+json": {
       "data": [
        {
         "mode": "lines+markers",
         "name": "0",
         "type": "scatter",
         "x": [
          1998,
          1999,
          2000,
          2001,
          2002,
          2003,
          2004,
          2005,
          2006,
          2007,
          2008,
          2009,
          2010
         ],
         "y": [
          0.3583969465648855,
          0.3574294090418145,
          0.3381930981000388,
          0.3285039126055629,
          0.3237284269748346,
          0.2972458131597746,
          0.29879556512722344,
          0.2846800366147957,
          0.28164176541301733,
          0.26925536774783004,
          0.2708354902163785,
          0.25713307464049306,
          0.00037612838515546637
         ]
        },
        {
         "mode": "lines+markers",
         "name": "1",
         "type": "scatter",
         "x": [
          1998,
          1999,
          2000,
          2001,
          2002,
          2003,
          2004,
          2005,
          2006,
          2007,
          2008,
          2009,
          2010
         ],
         "y": [
          0.012290076335877862,
          0.01103224810985959,
          0.010469174098487785,
          0.009684667234833811,
          0.010035733292784916,
          0.010873878879276133,
          0.007976389885937624,
          0.006574020138137638,
          0.007384509702902284,
          0.005756052992233897,
          0.006108292783932084,
          0.006505364072129651,
          0.00664493480441324
         ]
        },
        {
         "mode": "lines+markers",
         "name": "2",
         "type": "scatter",
         "x": [
          1998,
          1999,
          2000,
          2001,
          2002,
          2003,
          2004,
          2005,
          2006,
          2007,
          2008,
          2009,
          2010
         ],
         "y": [
          0.011755725190839695,
          0.01288381422619966,
          0.011787514540519581,
          0.010846827303013869,
          0.011100129248080286,
          0.008333994761489006,
          0.007816862088218872,
          0.007905467254722477,
          0.005838914648806457,
          0.005664687071722248,
          0.005901232011595404,
          0.008103172791600092,
          0.007146439317953861
         ]
        },
        {
         "mode": "lines+markers",
         "name": "3",
         "type": "scatter",
         "x": [
          1998,
          1999,
          2000,
          2001,
          2002,
          2003,
          2004,
          2005,
          2006,
          2007,
          2008,
          2009,
          2010
         ],
         "y": [
          0.48374045801526716,
          0.49521678753278814,
          0.5233811554866227,
          0.5334314712946463,
          0.5468714361742568,
          0.5786173505833796,
          0.6141022573183377,
          0.6331863193808771,
          0.626395328868281,
          0.6409319323892189,
          0.6484108085723159,
          0.659780871947044,
          0.6700100300902708
         ]
        },
        {
         "mode": "lines+markers",
         "name": "4",
         "type": "scatter",
         "x": [
          1998,
          1999,
          2000,
          2001,
          2002,
          2003,
          2004,
          2005,
          2006,
          2007,
          2008,
          2009,
          2010
         ],
         "y": [
          0.007709923664122137,
          0.00540040117265854,
          0.00550601008142691,
          0.00480359494847757,
          0.0038014141260548926,
          0.004206683070084928,
          0.0034298476509531787,
          0.0027461096779562285,
          0.0020607934054611026,
          0.003563270899954317,
          0.0021741381095351487,
          0.0018260671079662178,
          0.0017552657973921766
         ]
        },
        {
         "mode": "lines+markers",
         "name": "8",
         "type": "scatter",
         "x": [
          1998,
          1999,
          2000,
          2001,
          2002,
          2003,
          2004,
          2005,
          2006,
          2007,
          2008,
          2009,
          2010
         ],
         "y": [
          0.052290076335877865,
          0.039808671501311524,
          0.03621558743699108,
          0.03687921283024715,
          0.0317798220938189,
          0.024208270497658543,
          0.004546542234984446,
          0.0015810934509444953,
          0.000858663918942126,
          0.00045682960255824577,
          0.001035303861683404,
          0.0006847751654873316,
          0.0005015045135406219
         ]
        },
        {
         "mode": "lines+markers",
         "name": "13",
         "type": "scatter",
         "x": [
          1998,
          1999,
          2000,
          2001,
          2002,
          2003,
          2004,
          2005,
          2006,
          2007,
          2008,
          2009
         ],
         "y": [
          0.00183206106870229,
          0.0022373090572442526,
          0.0013183404420317954,
          0.0015495467575734098,
          0.0023568767581540334,
          0.001269942058893563,
          0.0011964584828906438,
          0.001081800782225181,
          0.0012021294865189765,
          0.0021927820922795797,
          0.0012423646340200848,
          0.001483679525222552
         ]
        },
        {
         "mode": "lines+markers",
         "name": "14",
         "type": "scatter",
         "x": [
          1998,
          1999,
          2000,
          2001,
          2002,
          2003,
          2004,
          2005,
          2006,
          2007,
          2008,
          2009
         ],
         "y": [
          0.000534351145038168,
          0.000540040117265854,
          0.00046529662659945713,
          0.000309909351514682,
          0.00022808484756329354,
          0.0006349710294467815,
          0.0004785833931562575,
          0.0004992926687193143,
          0.0006869311351537008,
          0.00045682960255824577,
          0.00020706077233668082,
          0.00022825838849577722
         ]
        },
        {
         "mode": "lines+markers",
         "name": "99",
         "type": "scatter",
         "x": [
          1998,
          1999,
          2000,
          2001,
          2002,
          2003,
          2004,
          2005,
          2006,
          2007,
          2008,
          2009,
          2010
         ],
         "y": [
          0.07145038167938932,
          0.07545131924085789,
          0.07266382318728189,
          0.07399085767413031,
          0.07009807648445221,
          0.07460909595999682,
          0.06165749381829784,
          0.06174586003162187,
          0.07393096342091705,
          0.07172224760164458,
          0.06367118749352935,
          0.06379821958456973,
          0.06344032096288867
         ]
        },
        {
         "mode": "lines+markers",
         "name": "10",
         "type": "scatter",
         "x": [
          2008,
          2009,
          2010
         ],
         "y": [
          0.00020706077233668082,
          0.00022825838849577722,
          0.0005015045135406219
         ]
        },
        {
         "mode": "lines+markers",
         "name": "11",
         "type": "scatter",
         "x": [
          2008,
          2009
         ],
         "y": [
          0.00010353038616834041,
          0.00011412919424788861
         ]
        },
        {
         "mode": "lines+markers",
         "name": "12",
         "type": "scatter",
         "x": [
          2008,
          2009,
          2010
         ],
         "y": [
          0.00010353038616834041,
          0.00011412919424788861,
          0.00025075225677031093
         ]
        },
        {
         "mode": "lines+markers",
         "name": "7",
         "type": "scatter",
         "x": [
          2010
         ],
         "y": [
          0.24598796389167502
         ]
        },
        {
         "mode": "lines+markers",
         "name": "97",
         "type": "scatter",
         "x": [
          2010
         ],
         "y": [
          0.00012537612838515547
         ]
        },
        {
         "mode": "lines+markers",
         "name": "98",
         "type": "scatter",
         "x": [
          2010
         ],
         "y": [
          0.003259779338014042
         ]
        }
       ],
       "layout": {}
      },
      "text/html": [
       "<div id=\"8fa84193-cf4e-49e2-b82d-45fa78414ec8\" style=\"height: 525px; width: 100%;\" class=\"plotly-graph-div\"></div><script type=\"text/javascript\">require([\"plotly\"], function(Plotly) { window.PLOTLYENV=window.PLOTLYENV || {};window.PLOTLYENV.BASE_URL=\"https://plot.ly\";Plotly.newPlot(\"8fa84193-cf4e-49e2-b82d-45fa78414ec8\", [{\"y\": [0.3583969465648855, 0.3574294090418145, 0.3381930981000388, 0.3285039126055629, 0.3237284269748346, 0.2972458131597746, 0.29879556512722344, 0.2846800366147957, 0.28164176541301733, 0.26925536774783004, 0.2708354902163785, 0.25713307464049306, 0.00037612838515546637], \"x\": [1998, 1999, 2000, 2001, 2002, 2003, 2004, 2005, 2006, 2007, 2008, 2009, 2010], \"type\": \"scatter\", \"name\": \"0\", \"mode\": \"lines+markers\"}, {\"y\": [0.012290076335877862, 0.01103224810985959, 0.010469174098487785, 0.009684667234833811, 0.010035733292784916, 0.010873878879276133, 0.007976389885937624, 0.006574020138137638, 0.007384509702902284, 0.005756052992233897, 0.006108292783932084, 0.006505364072129651, 0.00664493480441324], \"x\": [1998, 1999, 2000, 2001, 2002, 2003, 2004, 2005, 2006, 2007, 2008, 2009, 2010], \"type\": \"scatter\", \"name\": \"1\", \"mode\": \"lines+markers\"}, {\"y\": [0.011755725190839695, 0.01288381422619966, 0.011787514540519581, 0.010846827303013869, 0.011100129248080286, 0.008333994761489006, 0.007816862088218872, 0.007905467254722477, 0.005838914648806457, 0.005664687071722248, 0.005901232011595404, 0.008103172791600092, 0.007146439317953861], \"x\": [1998, 1999, 2000, 2001, 2002, 2003, 2004, 2005, 2006, 2007, 2008, 2009, 2010], \"type\": \"scatter\", \"name\": \"2\", \"mode\": \"lines+markers\"}, {\"y\": [0.48374045801526716, 0.49521678753278814, 0.5233811554866227, 0.5334314712946463, 0.5468714361742568, 0.5786173505833796, 0.6141022573183377, 0.6331863193808771, 0.626395328868281, 0.6409319323892189, 0.6484108085723159, 0.659780871947044, 0.6700100300902708], \"x\": [1998, 1999, 2000, 2001, 2002, 2003, 2004, 2005, 2006, 2007, 2008, 2009, 2010], \"type\": \"scatter\", \"name\": \"3\", \"mode\": \"lines+markers\"}, {\"y\": [0.007709923664122137, 0.00540040117265854, 0.00550601008142691, 0.00480359494847757, 0.0038014141260548926, 0.004206683070084928, 0.0034298476509531787, 0.0027461096779562285, 0.0020607934054611026, 0.003563270899954317, 0.0021741381095351487, 0.0018260671079662178, 0.0017552657973921766], \"x\": [1998, 1999, 2000, 2001, 2002, 2003, 2004, 2005, 2006, 2007, 2008, 2009, 2010], \"type\": \"scatter\", \"name\": \"4\", \"mode\": \"lines+markers\"}, {\"y\": [0.052290076335877865, 0.039808671501311524, 0.03621558743699108, 0.03687921283024715, 0.0317798220938189, 0.024208270497658543, 0.004546542234984446, 0.0015810934509444953, 0.000858663918942126, 0.00045682960255824577, 0.001035303861683404, 0.0006847751654873316, 0.0005015045135406219], \"x\": [1998, 1999, 2000, 2001, 2002, 2003, 2004, 2005, 2006, 2007, 2008, 2009, 2010], \"type\": \"scatter\", \"name\": \"8\", \"mode\": \"lines+markers\"}, {\"y\": [0.00183206106870229, 0.0022373090572442526, 0.0013183404420317954, 0.0015495467575734098, 0.0023568767581540334, 0.001269942058893563, 0.0011964584828906438, 0.001081800782225181, 0.0012021294865189765, 0.0021927820922795797, 0.0012423646340200848, 0.001483679525222552], \"x\": [1998, 1999, 2000, 2001, 2002, 2003, 2004, 2005, 2006, 2007, 2008, 2009], \"type\": \"scatter\", \"name\": \"13\", \"mode\": \"lines+markers\"}, {\"y\": [0.000534351145038168, 0.000540040117265854, 0.00046529662659945713, 0.000309909351514682, 0.00022808484756329354, 0.0006349710294467815, 0.0004785833931562575, 0.0004992926687193143, 0.0006869311351537008, 0.00045682960255824577, 0.00020706077233668082, 0.00022825838849577722], \"x\": [1998, 1999, 2000, 2001, 2002, 2003, 2004, 2005, 2006, 2007, 2008, 2009], \"type\": \"scatter\", \"name\": \"14\", \"mode\": \"lines+markers\"}, {\"y\": [0.07145038167938932, 0.07545131924085789, 0.07266382318728189, 0.07399085767413031, 0.07009807648445221, 0.07460909595999682, 0.06165749381829784, 0.06174586003162187, 0.07393096342091705, 0.07172224760164458, 0.06367118749352935, 0.06379821958456973, 0.06344032096288867], \"x\": [1998, 1999, 2000, 2001, 2002, 2003, 2004, 2005, 2006, 2007, 2008, 2009, 2010], \"type\": \"scatter\", \"name\": \"99\", \"mode\": \"lines+markers\"}, {\"y\": [0.00020706077233668082, 0.00022825838849577722, 0.0005015045135406219], \"x\": [2008, 2009, 2010], \"type\": \"scatter\", \"name\": \"10\", \"mode\": \"lines+markers\"}, {\"y\": [0.00010353038616834041, 0.00011412919424788861], \"x\": [2008, 2009], \"type\": \"scatter\", \"name\": \"11\", \"mode\": \"lines+markers\"}, {\"y\": [0.00010353038616834041, 0.00011412919424788861, 0.00025075225677031093], \"x\": [2008, 2009, 2010], \"type\": \"scatter\", \"name\": \"12\", \"mode\": \"lines+markers\"}, {\"y\": [0.24598796389167502], \"x\": [2010], \"type\": \"scatter\", \"name\": \"7\", \"mode\": \"lines+markers\"}, {\"y\": [0.00012537612838515547], \"x\": [2010], \"type\": \"scatter\", \"name\": \"97\", \"mode\": \"lines+markers\"}, {\"y\": [0.003259779338014042], \"x\": [2010], \"type\": \"scatter\", \"name\": \"98\", \"mode\": \"lines+markers\"}], {}, {\"linkText\": \"Export to plot.ly\", \"showLink\": true})});</script>"
      ],
      "text/vnd.plotly.v1+html": [
       "<div id=\"8fa84193-cf4e-49e2-b82d-45fa78414ec8\" style=\"height: 525px; width: 100%;\" class=\"plotly-graph-div\"></div><script type=\"text/javascript\">require([\"plotly\"], function(Plotly) { window.PLOTLYENV=window.PLOTLYENV || {};window.PLOTLYENV.BASE_URL=\"https://plot.ly\";Plotly.newPlot(\"8fa84193-cf4e-49e2-b82d-45fa78414ec8\", [{\"y\": [0.3583969465648855, 0.3574294090418145, 0.3381930981000388, 0.3285039126055629, 0.3237284269748346, 0.2972458131597746, 0.29879556512722344, 0.2846800366147957, 0.28164176541301733, 0.26925536774783004, 0.2708354902163785, 0.25713307464049306, 0.00037612838515546637], \"x\": [1998, 1999, 2000, 2001, 2002, 2003, 2004, 2005, 2006, 2007, 2008, 2009, 2010], \"type\": \"scatter\", \"name\": \"0\", \"mode\": \"lines+markers\"}, {\"y\": [0.012290076335877862, 0.01103224810985959, 0.010469174098487785, 0.009684667234833811, 0.010035733292784916, 0.010873878879276133, 0.007976389885937624, 0.006574020138137638, 0.007384509702902284, 0.005756052992233897, 0.006108292783932084, 0.006505364072129651, 0.00664493480441324], \"x\": [1998, 1999, 2000, 2001, 2002, 2003, 2004, 2005, 2006, 2007, 2008, 2009, 2010], \"type\": \"scatter\", \"name\": \"1\", \"mode\": \"lines+markers\"}, {\"y\": [0.011755725190839695, 0.01288381422619966, 0.011787514540519581, 0.010846827303013869, 0.011100129248080286, 0.008333994761489006, 0.007816862088218872, 0.007905467254722477, 0.005838914648806457, 0.005664687071722248, 0.005901232011595404, 0.008103172791600092, 0.007146439317953861], \"x\": [1998, 1999, 2000, 2001, 2002, 2003, 2004, 2005, 2006, 2007, 2008, 2009, 2010], \"type\": \"scatter\", \"name\": \"2\", \"mode\": \"lines+markers\"}, {\"y\": [0.48374045801526716, 0.49521678753278814, 0.5233811554866227, 0.5334314712946463, 0.5468714361742568, 0.5786173505833796, 0.6141022573183377, 0.6331863193808771, 0.626395328868281, 0.6409319323892189, 0.6484108085723159, 0.659780871947044, 0.6700100300902708], \"x\": [1998, 1999, 2000, 2001, 2002, 2003, 2004, 2005, 2006, 2007, 2008, 2009, 2010], \"type\": \"scatter\", \"name\": \"3\", \"mode\": \"lines+markers\"}, {\"y\": [0.007709923664122137, 0.00540040117265854, 0.00550601008142691, 0.00480359494847757, 0.0038014141260548926, 0.004206683070084928, 0.0034298476509531787, 0.0027461096779562285, 0.0020607934054611026, 0.003563270899954317, 0.0021741381095351487, 0.0018260671079662178, 0.0017552657973921766], \"x\": [1998, 1999, 2000, 2001, 2002, 2003, 2004, 2005, 2006, 2007, 2008, 2009, 2010], \"type\": \"scatter\", \"name\": \"4\", \"mode\": \"lines+markers\"}, {\"y\": [0.052290076335877865, 0.039808671501311524, 0.03621558743699108, 0.03687921283024715, 0.0317798220938189, 0.024208270497658543, 0.004546542234984446, 0.0015810934509444953, 0.000858663918942126, 0.00045682960255824577, 0.001035303861683404, 0.0006847751654873316, 0.0005015045135406219], \"x\": [1998, 1999, 2000, 2001, 2002, 2003, 2004, 2005, 2006, 2007, 2008, 2009, 2010], \"type\": \"scatter\", \"name\": \"8\", \"mode\": \"lines+markers\"}, {\"y\": [0.00183206106870229, 0.0022373090572442526, 0.0013183404420317954, 0.0015495467575734098, 0.0023568767581540334, 0.001269942058893563, 0.0011964584828906438, 0.001081800782225181, 0.0012021294865189765, 0.0021927820922795797, 0.0012423646340200848, 0.001483679525222552], \"x\": [1998, 1999, 2000, 2001, 2002, 2003, 2004, 2005, 2006, 2007, 2008, 2009], \"type\": \"scatter\", \"name\": \"13\", \"mode\": \"lines+markers\"}, {\"y\": [0.000534351145038168, 0.000540040117265854, 0.00046529662659945713, 0.000309909351514682, 0.00022808484756329354, 0.0006349710294467815, 0.0004785833931562575, 0.0004992926687193143, 0.0006869311351537008, 0.00045682960255824577, 0.00020706077233668082, 0.00022825838849577722], \"x\": [1998, 1999, 2000, 2001, 2002, 2003, 2004, 2005, 2006, 2007, 2008, 2009], \"type\": \"scatter\", \"name\": \"14\", \"mode\": \"lines+markers\"}, {\"y\": [0.07145038167938932, 0.07545131924085789, 0.07266382318728189, 0.07399085767413031, 0.07009807648445221, 0.07460909595999682, 0.06165749381829784, 0.06174586003162187, 0.07393096342091705, 0.07172224760164458, 0.06367118749352935, 0.06379821958456973, 0.06344032096288867], \"x\": [1998, 1999, 2000, 2001, 2002, 2003, 2004, 2005, 2006, 2007, 2008, 2009, 2010], \"type\": \"scatter\", \"name\": \"99\", \"mode\": \"lines+markers\"}, {\"y\": [0.00020706077233668082, 0.00022825838849577722, 0.0005015045135406219], \"x\": [2008, 2009, 2010], \"type\": \"scatter\", \"name\": \"10\", \"mode\": \"lines+markers\"}, {\"y\": [0.00010353038616834041, 0.00011412919424788861], \"x\": [2008, 2009], \"type\": \"scatter\", \"name\": \"11\", \"mode\": \"lines+markers\"}, {\"y\": [0.00010353038616834041, 0.00011412919424788861, 0.00025075225677031093], \"x\": [2008, 2009, 2010], \"type\": \"scatter\", \"name\": \"12\", \"mode\": \"lines+markers\"}, {\"y\": [0.24598796389167502], \"x\": [2010], \"type\": \"scatter\", \"name\": \"7\", \"mode\": \"lines+markers\"}, {\"y\": [0.00012537612838515547], \"x\": [2010], \"type\": \"scatter\", \"name\": \"97\", \"mode\": \"lines+markers\"}, {\"y\": [0.003259779338014042], \"x\": [2010], \"type\": \"scatter\", \"name\": \"98\", \"mode\": \"lines+markers\"}], {}, {\"linkText\": \"Export to plot.ly\", \"showLink\": true})});</script>"
      ]
     },
     "metadata": {},
     "output_type": "display_data"
    }
   ],
   "source": [
    "iplot_data = []\n",
    "\n",
    "for restraint_type in (y_restraint_c.restraint.unique()):\n",
    "    new_data = y_restraint_c[y_restraint_c.restraint == restraint_type].reset_index() \n",
    "    plot = Scatter(x=new_data.year, y=new_data.caseid, mode='lines+markers', name=str(restraint_type))\n",
    "    iplot_data.append(plot)\n",
    "iplot(iplot_data)\n"
   ]
  },
  {
   "cell_type": "markdown",
   "metadata": {},
   "source": [
    "### Lets plot seatbelts and death ratios\n"
   ]
  },
  {
   "cell_type": "code",
   "execution_count": 25,
   "metadata": {},
   "outputs": [],
   "source": [
    "# P died \n",
    "y_P_death_c = data[(data.injury == 4)].groupby(['year']).count().reset_index()[['year', 'caseid']]\n",
    "# D died\n",
    "y_D_death_c = data[(data.D_injury == 4)].groupby(['year']).count().reset_index()[['year', 'caseid']]\n",
    "\n",
    "y_P_death_c_ratioed = getRatio(y_P_death_c, 'caseid', y_count, 'caseid')\n",
    "y_D_death_c_ratioed = getRatio(y_D_death_c, 'caseid', y_count, 'caseid')"
   ]
  },
  {
   "cell_type": "code",
   "execution_count": 26,
   "metadata": {
    "collapsed": true
   },
   "outputs": [],
   "source": [
    "# P died seatbelt fastened\n",
    "y_P_sf = data[(data.Restraint == 'yes')].groupby(['year']).count().reset_index()[['year', 'caseid']]\n",
    "# D died seatbelt fastened\n",
    "y_D_sf = data[(data.D_Restraint == 'yes')].groupby(['year']).count().reset_index()[['year', 'caseid']]\n",
    "\n",
    "y_P_sf_ratioed = getRatio(y_P_sf, 'caseid', y_count, 'caseid')\n",
    "y_D_sf_ratioed = getRatio(y_D_sf, 'caseid', y_count, 'caseid')"
   ]
  },
  {
   "cell_type": "code",
   "execution_count": 27,
   "metadata": {},
   "outputs": [],
   "source": [
    "# P died seatbelt not fastened\n",
    "y_P_snf = data[(data.Restraint == 'no')].groupby(['year']).count().reset_index()[['year', 'caseid']]\n",
    "# D died seatbelt not fastened\n",
    "y_D_snf = data[ (data.D_Restraint == 'no')].groupby(['year']).count().reset_index()[['year', 'caseid']]\n",
    "\n",
    "y_P_snf_ratioed = getRatio(y_P_snf, 'caseid', y_count, 'caseid')\n",
    "y_D_snf_ratioed = getRatio(y_D_snf, 'caseid', y_count, 'caseid')"
   ]
  },
  {
   "cell_type": "code",
   "execution_count": 28,
   "metadata": {
    "scrolled": false
   },
   "outputs": [
    {
     "data": {
      "application/vnd.plotly.v1+json": {
       "data": [
        {
         "mode": "lines+markers",
         "name": "P SB Fastened",
         "type": "scatter",
         "x": [
          1998,
          1999,
          2000,
          2001,
          2002,
          2003,
          2004,
          2005,
          2006,
          2007,
          2008,
          2009,
          2010
         ],
         "y": [
          0.5677862595419847,
          0.5643419225428175,
          0.5873594416440481,
          0.5956457736112187,
          0.6035885349349959,
          0.6262401777918882,
          0.6378718991784318,
          0.651993009902638,
          0.642538210544393,
          0.6563727729556875,
          0.6640438968837353,
          0.6773567678612189,
          0.6869358074222668
         ]
        },
        {
         "mode": "lines",
         "name": "D SB Fastened",
         "type": "scatter",
         "x": [
          1998,
          1999,
          2000,
          2001,
          2002,
          2003,
          2004,
          2005,
          2006,
          2007,
          2008,
          2009,
          2010
         ],
         "y": [
          0.5853435114503817,
          0.578228668415368,
          0.6017836370686312,
          0.6071898969551406,
          0.6149167490306394,
          0.6457655369473768,
          0.6482412060301508,
          0.6623117250561704,
          0.6496651210716126,
          0.668250342622202,
          0.6727404493218759,
          0.6876283953435288,
          0.695962888665998
         ]
        },
        {
         "mode": "lines+markers",
         "name": "P SB NOT Fastened",
         "type": "scatter",
         "x": [
          1998,
          1999,
          2000,
          2001,
          2002,
          2003,
          2004,
          2005,
          2006,
          2007,
          2008,
          2009,
          2010
         ],
         "y": [
          0.360763358778626,
          0.36020675821632464,
          0.33997673516867005,
          0.33036336871465094,
          0.326313388580552,
          0.29915072624811495,
          0.30047060700327033,
          0.2862611300657402,
          0.28353082603469004,
          0.2719049794426679,
          0.27228491562273527,
          0.2588450125542114,
          0.24636409227683048
         ]
        },
        {
         "mode": "lines",
         "name": "D SB NOT Fastened",
         "type": "scatter",
         "x": [
          1998,
          1999,
          2000,
          2001,
          2002,
          2003,
          2004,
          2005,
          2006,
          2007,
          2008,
          2009,
          2010
         ],
         "y": [
          0.3419847328244275,
          0.34284832587563646,
          0.32361380379992244,
          0.317657085302549,
          0.31293241085683876,
          0.28137153742360504,
          0.29161681422987956,
          0.2787717400349505,
          0.2824145629400653,
          0.2615806304248515,
          0.2646236670462781,
          0.24777448071216618,
          0.2364593781344032
         ]
        }
       ],
       "layout": {}
      },
      "text/html": [
       "<div id=\"fb5151cf-b837-46a2-b58b-04a93896e255\" style=\"height: 525px; width: 100%;\" class=\"plotly-graph-div\"></div><script type=\"text/javascript\">require([\"plotly\"], function(Plotly) { window.PLOTLYENV=window.PLOTLYENV || {};window.PLOTLYENV.BASE_URL=\"https://plot.ly\";Plotly.newPlot(\"fb5151cf-b837-46a2-b58b-04a93896e255\", [{\"y\": [0.5677862595419847, 0.5643419225428175, 0.5873594416440481, 0.5956457736112187, 0.6035885349349959, 0.6262401777918882, 0.6378718991784318, 0.651993009902638, 0.642538210544393, 0.6563727729556875, 0.6640438968837353, 0.6773567678612189, 0.6869358074222668], \"x\": [1998, 1999, 2000, 2001, 2002, 2003, 2004, 2005, 2006, 2007, 2008, 2009, 2010], \"type\": \"scatter\", \"name\": \"P SB Fastened\", \"mode\": \"lines+markers\"}, {\"y\": [0.5853435114503817, 0.578228668415368, 0.6017836370686312, 0.6071898969551406, 0.6149167490306394, 0.6457655369473768, 0.6482412060301508, 0.6623117250561704, 0.6496651210716126, 0.668250342622202, 0.6727404493218759, 0.6876283953435288, 0.695962888665998], \"x\": [1998, 1999, 2000, 2001, 2002, 2003, 2004, 2005, 2006, 2007, 2008, 2009, 2010], \"type\": \"scatter\", \"name\": \"D SB Fastened\", \"mode\": \"lines\"}, {\"y\": [0.360763358778626, 0.36020675821632464, 0.33997673516867005, 0.33036336871465094, 0.326313388580552, 0.29915072624811495, 0.30047060700327033, 0.2862611300657402, 0.28353082603469004, 0.2719049794426679, 0.27228491562273527, 0.2588450125542114, 0.24636409227683048], \"x\": [1998, 1999, 2000, 2001, 2002, 2003, 2004, 2005, 2006, 2007, 2008, 2009, 2010], \"type\": \"scatter\", \"name\": \"P SB NOT Fastened\", \"mode\": \"lines+markers\"}, {\"y\": [0.3419847328244275, 0.34284832587563646, 0.32361380379992244, 0.317657085302549, 0.31293241085683876, 0.28137153742360504, 0.29161681422987956, 0.2787717400349505, 0.2824145629400653, 0.2615806304248515, 0.2646236670462781, 0.24777448071216618, 0.2364593781344032], \"x\": [1998, 1999, 2000, 2001, 2002, 2003, 2004, 2005, 2006, 2007, 2008, 2009, 2010], \"type\": \"scatter\", \"name\": \"D SB NOT Fastened\", \"mode\": \"lines\"}], {}, {\"linkText\": \"Export to plot.ly\", \"showLink\": true})});</script>"
      ],
      "text/vnd.plotly.v1+html": [
       "<div id=\"fb5151cf-b837-46a2-b58b-04a93896e255\" style=\"height: 525px; width: 100%;\" class=\"plotly-graph-div\"></div><script type=\"text/javascript\">require([\"plotly\"], function(Plotly) { window.PLOTLYENV=window.PLOTLYENV || {};window.PLOTLYENV.BASE_URL=\"https://plot.ly\";Plotly.newPlot(\"fb5151cf-b837-46a2-b58b-04a93896e255\", [{\"y\": [0.5677862595419847, 0.5643419225428175, 0.5873594416440481, 0.5956457736112187, 0.6035885349349959, 0.6262401777918882, 0.6378718991784318, 0.651993009902638, 0.642538210544393, 0.6563727729556875, 0.6640438968837353, 0.6773567678612189, 0.6869358074222668], \"x\": [1998, 1999, 2000, 2001, 2002, 2003, 2004, 2005, 2006, 2007, 2008, 2009, 2010], \"type\": \"scatter\", \"name\": \"P SB Fastened\", \"mode\": \"lines+markers\"}, {\"y\": [0.5853435114503817, 0.578228668415368, 0.6017836370686312, 0.6071898969551406, 0.6149167490306394, 0.6457655369473768, 0.6482412060301508, 0.6623117250561704, 0.6496651210716126, 0.668250342622202, 0.6727404493218759, 0.6876283953435288, 0.695962888665998], \"x\": [1998, 1999, 2000, 2001, 2002, 2003, 2004, 2005, 2006, 2007, 2008, 2009, 2010], \"type\": \"scatter\", \"name\": \"D SB Fastened\", \"mode\": \"lines\"}, {\"y\": [0.360763358778626, 0.36020675821632464, 0.33997673516867005, 0.33036336871465094, 0.326313388580552, 0.29915072624811495, 0.30047060700327033, 0.2862611300657402, 0.28353082603469004, 0.2719049794426679, 0.27228491562273527, 0.2588450125542114, 0.24636409227683048], \"x\": [1998, 1999, 2000, 2001, 2002, 2003, 2004, 2005, 2006, 2007, 2008, 2009, 2010], \"type\": \"scatter\", \"name\": \"P SB NOT Fastened\", \"mode\": \"lines+markers\"}, {\"y\": [0.3419847328244275, 0.34284832587563646, 0.32361380379992244, 0.317657085302549, 0.31293241085683876, 0.28137153742360504, 0.29161681422987956, 0.2787717400349505, 0.2824145629400653, 0.2615806304248515, 0.2646236670462781, 0.24777448071216618, 0.2364593781344032], \"x\": [1998, 1999, 2000, 2001, 2002, 2003, 2004, 2005, 2006, 2007, 2008, 2009, 2010], \"type\": \"scatter\", \"name\": \"D SB NOT Fastened\", \"mode\": \"lines\"}], {}, {\"linkText\": \"Export to plot.ly\", \"showLink\": true})});</script>"
      ]
     },
     "metadata": {},
     "output_type": "display_data"
    }
   ],
   "source": [
    "iplot_data = []\n",
    "# # overall\n",
    "# plot = Scatter(x=y_count_ratioed.year, y=y_count_ratioed.caseid, \\\n",
    "#                mode='lines', name=str('# of accidents'))\n",
    "# iplot_data.append(plot)\n",
    "\n",
    "# plot = Scatter(x=y_P_death_c_ratioed.year, y=y_P_death_c_ratioed.caseid, \\\n",
    "#                mode='lines', name=str('P died'))\n",
    "# iplot_data.append(plot)\n",
    "\n",
    "# plot = Scatter(x=y_D_death_c_ratioed.year, y=y_D_death_c_ratioed.caseid, \\\n",
    "#                mode='lines', name=str('D died'))\n",
    "# iplot_data.append(plot)\n",
    "\n",
    "# seatbelt fastening trend\n",
    "plot = Scatter(x=y_P_sf_ratioed.year, y=y_P_sf_ratioed.caseid, \\\n",
    "               mode='lines+markers', name=str('P SB Fastened'))\n",
    "iplot_data.append(plot)\n",
    "plot = Scatter(x=y_D_sf_ratioed.year, y=y_D_sf_ratioed.caseid, \\\n",
    "               mode='lines', name=str('D SB Fastened'))\n",
    "iplot_data.append(plot)\n",
    "plot = Scatter(x=y_P_snf_ratioed.year, y=y_P_snf_ratioed.caseid, \\\n",
    "               mode='lines+markers', name=str('P SB NOT Fastened'))\n",
    "iplot_data.append(plot)\n",
    "plot = Scatter(x=y_D_snf_ratioed.year, y=y_D_snf_ratioed.caseid, \\\n",
    "               mode='lines', name=str('D SB NOT Fastened'))\n",
    "iplot_data.append(plot)\n",
    "\n",
    "\n",
    "iplot(iplot_data)"
   ]
  },
  {
   "cell_type": "markdown",
   "metadata": {},
   "source": [
    "<!-- <img src='img/restraint.png' width='500px' height='100'/> -->"
   ]
  },
  {
   "cell_type": "markdown",
   "metadata": {},
   "source": [
    "### What about airbag deployment and death?"
   ]
  },
  {
   "cell_type": "code",
   "execution_count": 29,
   "metadata": {
    "collapsed": true
   },
   "outputs": [],
   "source": [
    "airbagDeploy = data.groupby(['year', 'airbagDeploy']).count().reset_index()[['year', 'airbagDeploy', 'caseid']]\n",
    "D_airbagDeploy = data.groupby(['year', 'D_airbagDeploy']).count().reset_index()[['year', 'D_airbagDeploy', 'caseid']]"
   ]
  },
  {
   "cell_type": "code",
   "execution_count": 30,
   "metadata": {},
   "outputs": [],
   "source": [
    "airbagDeploy_ratioed = getRatio(airbagDeploy, 'caseid', y_count, 'caseid')\n",
    "D_airbagDeploy_ratioed = getRatio(D_airbagDeploy, 'caseid', y_count, 'caseid')"
   ]
  },
  {
   "cell_type": "code",
   "execution_count": 31,
   "metadata": {
    "scrolled": false
   },
   "outputs": [
    {
     "data": {
      "application/vnd.plotly.v1+json": {
       "data": [
        {
         "mode": "lines",
         "name": "P died",
         "type": "scatter",
         "x": [
          1998,
          1999,
          2000,
          2001,
          2002,
          2003,
          2004,
          2005,
          2006,
          2007,
          2008,
          2009,
          2010
         ],
         "y": [
          0.3703053435114504,
          0.3720104922079926,
          0.3820860798759209,
          0.3735957232509491,
          0.3723104995058162,
          0.3759822208111755,
          0.3677115737417245,
          0.35840892069568114,
          0.3620985746178946,
          0.3588853357697579,
          0.34786209752562375,
          0.34786578406756447,
          0.35255767301905716
         ]
        },
        {
         "mode": "lines",
         "name": "D died",
         "type": "scatter",
         "x": [
          1998,
          1999,
          2000,
          2001,
          2002,
          2003,
          2004,
          2005,
          2006,
          2007,
          2008,
          2009,
          2010
         ],
         "y": [
          0.34595419847328246,
          0.3535719796327727,
          0.3430787126793331,
          0.344231812194933,
          0.3568767581540333,
          0.3442336693388364,
          0.35104091888011485,
          0.3412665390696513,
          0.3535119354284733,
          0.3364093193238922,
          0.34423853400973187,
          0.3353115727002967,
          0.3321213640922768
         ]
        },
        {
         "mode": "lines+markers",
         "name": "NA-code",
         "type": "scatter",
         "x": [
          1998,
          1999,
          2000,
          2001,
          2002,
          2003,
          2004,
          2005,
          2006,
          2007,
          2008,
          2009,
          2010
         ],
         "y": [
          0.2680916030534351,
          0.1407190248418454,
          0.12074447460255913,
          0.13264120244828387,
          0.13449403177982208,
          0.1385030557980792,
          0.11844938980617373,
          0.1221602729466589,
          0.13120384681435687,
          0.10735495660118775,
          0.09949270110777514,
          0.1603515179182835,
          0.14593781344032097
         ]
        },
        {
         "mode": "lines+markers",
         "name": "no",
         "type": "scatter",
         "x": [
          1998,
          1999,
          2000,
          2001,
          2002,
          2003,
          2004,
          2005,
          2006,
          2007,
          2008,
          2009,
          2010
         ],
         "y": [
          0.6131297709923664,
          0.693642956333899,
          0.6875533152384645,
          0.650577206167196,
          0.6211510681973694,
          0.5902055718707834,
          0.5666427374970089,
          0.5390696513272863,
          0.508500772797527,
          0.4938328003654637,
          0.49145874314111193,
          0.39431636612645515,
          0.4043380140421264
         ]
        },
        {
         "mode": "lines+markers",
         "name": "yes",
         "type": "scatter",
         "x": [
          1998,
          1999,
          2000,
          2001,
          2002,
          2003,
          2004,
          2005,
          2006,
          2007,
          2008,
          2009,
          2010
         ],
         "y": [
          0.11877862595419847,
          0.16563801882425552,
          0.19170221015897634,
          0.21678159138452002,
          0.2443549000228085,
          0.27129137233113737,
          0.3149078726968174,
          0.3387700757260548,
          0.3602953803881161,
          0.39881224303334856,
          0.40904855575111293,
          0.44533211595526134,
          0.44972417251755265
         ]
        },
        {
         "mode": "lines+markers",
         "name": "D_NA-code",
         "type": "scatter",
         "x": [
          1998,
          1999,
          2000,
          2001,
          2002,
          2003,
          2004,
          2005,
          2006,
          2007,
          2008,
          2009,
          2010
         ],
         "y": [
          0.2769465648854962,
          0.1536799876562259,
          0.13780535091120588,
          0.1461997365770512,
          0.14050026609898883,
          0.14009048337169616,
          0.1131849724814549,
          0.11799950070733128,
          0.12150094453031084,
          0.09511192325262677,
          0.08893260171860441,
          0.131134444190824,
          0.11258776328986961
         ]
        },
        {
         "mode": "lines+markers",
         "name": "D_no",
         "type": "scatter",
         "x": [
          1998,
          1999,
          2000,
          2001,
          2002,
          2003,
          2004,
          2005,
          2006,
          2007,
          2008,
          2009,
          2010
         ],
         "y": [
          0.5473282442748092,
          0.625366455793859,
          0.6136487010469174,
          0.5827845355233594,
          0.5560708583593097,
          0.5293277244225733,
          0.5159128978224455,
          0.49030540068236667,
          0.4665979735531513,
          0.45938784833257196,
          0.4575007764778963,
          0.3838164802556494,
          0.3989468405215647
         ]
        },
        {
         "mode": "lines+markers",
         "name": "D_yes",
         "type": "scatter",
         "x": [
          1998,
          1999,
          2000,
          2001,
          2002,
          2003,
          2004,
          2005,
          2006,
          2007,
          2008,
          2009,
          2010
         ],
         "y": [
          0.17572519083969465,
          0.22095355654991514,
          0.24854594804187669,
          0.2710157278995894,
          0.3034288755417015,
          0.33058179220573064,
          0.37090212969609954,
          0.39169509861030205,
          0.41190108191653785,
          0.4455002284148013,
          0.4535666218034993,
          0.4850490755535266,
          0.4884653961885657
         ]
        }
       ],
       "layout": {}
      },
      "text/html": [
       "<div id=\"2e0ec7d4-4d81-4201-8664-10049be7d1fd\" style=\"height: 525px; width: 100%;\" class=\"plotly-graph-div\"></div><script type=\"text/javascript\">require([\"plotly\"], function(Plotly) { window.PLOTLYENV=window.PLOTLYENV || {};window.PLOTLYENV.BASE_URL=\"https://plot.ly\";Plotly.newPlot(\"2e0ec7d4-4d81-4201-8664-10049be7d1fd\", [{\"y\": [0.3703053435114504, 0.3720104922079926, 0.3820860798759209, 0.3735957232509491, 0.3723104995058162, 0.3759822208111755, 0.3677115737417245, 0.35840892069568114, 0.3620985746178946, 0.3588853357697579, 0.34786209752562375, 0.34786578406756447, 0.35255767301905716], \"x\": [1998, 1999, 2000, 2001, 2002, 2003, 2004, 2005, 2006, 2007, 2008, 2009, 2010], \"type\": \"scatter\", \"name\": \"P died\", \"mode\": \"lines\"}, {\"y\": [0.34595419847328246, 0.3535719796327727, 0.3430787126793331, 0.344231812194933, 0.3568767581540333, 0.3442336693388364, 0.35104091888011485, 0.3412665390696513, 0.3535119354284733, 0.3364093193238922, 0.34423853400973187, 0.3353115727002967, 0.3321213640922768], \"x\": [1998, 1999, 2000, 2001, 2002, 2003, 2004, 2005, 2006, 2007, 2008, 2009, 2010], \"type\": \"scatter\", \"name\": \"D died\", \"mode\": \"lines\"}, {\"y\": [0.2680916030534351, 0.1407190248418454, 0.12074447460255913, 0.13264120244828387, 0.13449403177982208, 0.1385030557980792, 0.11844938980617373, 0.1221602729466589, 0.13120384681435687, 0.10735495660118775, 0.09949270110777514, 0.1603515179182835, 0.14593781344032097], \"x\": [1998, 1999, 2000, 2001, 2002, 2003, 2004, 2005, 2006, 2007, 2008, 2009, 2010], \"type\": \"scatter\", \"name\": \"NA-code\", \"mode\": \"lines+markers\"}, {\"y\": [0.6131297709923664, 0.693642956333899, 0.6875533152384645, 0.650577206167196, 0.6211510681973694, 0.5902055718707834, 0.5666427374970089, 0.5390696513272863, 0.508500772797527, 0.4938328003654637, 0.49145874314111193, 0.39431636612645515, 0.4043380140421264], \"x\": [1998, 1999, 2000, 2001, 2002, 2003, 2004, 2005, 2006, 2007, 2008, 2009, 2010], \"type\": \"scatter\", \"name\": \"no\", \"mode\": \"lines+markers\"}, {\"y\": [0.11877862595419847, 0.16563801882425552, 0.19170221015897634, 0.21678159138452002, 0.2443549000228085, 0.27129137233113737, 0.3149078726968174, 0.3387700757260548, 0.3602953803881161, 0.39881224303334856, 0.40904855575111293, 0.44533211595526134, 0.44972417251755265], \"x\": [1998, 1999, 2000, 2001, 2002, 2003, 2004, 2005, 2006, 2007, 2008, 2009, 2010], \"type\": \"scatter\", \"name\": \"yes\", \"mode\": \"lines+markers\"}, {\"y\": [0.2769465648854962, 0.1536799876562259, 0.13780535091120588, 0.1461997365770512, 0.14050026609898883, 0.14009048337169616, 0.1131849724814549, 0.11799950070733128, 0.12150094453031084, 0.09511192325262677, 0.08893260171860441, 0.131134444190824, 0.11258776328986961], \"x\": [1998, 1999, 2000, 2001, 2002, 2003, 2004, 2005, 2006, 2007, 2008, 2009, 2010], \"type\": \"scatter\", \"name\": \"D_NA-code\", \"mode\": \"lines+markers\"}, {\"y\": [0.5473282442748092, 0.625366455793859, 0.6136487010469174, 0.5827845355233594, 0.5560708583593097, 0.5293277244225733, 0.5159128978224455, 0.49030540068236667, 0.4665979735531513, 0.45938784833257196, 0.4575007764778963, 0.3838164802556494, 0.3989468405215647], \"x\": [1998, 1999, 2000, 2001, 2002, 2003, 2004, 2005, 2006, 2007, 2008, 2009, 2010], \"type\": \"scatter\", \"name\": \"D_no\", \"mode\": \"lines+markers\"}, {\"y\": [0.17572519083969465, 0.22095355654991514, 0.24854594804187669, 0.2710157278995894, 0.3034288755417015, 0.33058179220573064, 0.37090212969609954, 0.39169509861030205, 0.41190108191653785, 0.4455002284148013, 0.4535666218034993, 0.4850490755535266, 0.4884653961885657], \"x\": [1998, 1999, 2000, 2001, 2002, 2003, 2004, 2005, 2006, 2007, 2008, 2009, 2010], \"type\": \"scatter\", \"name\": \"D_yes\", \"mode\": \"lines+markers\"}], {}, {\"linkText\": \"Export to plot.ly\", \"showLink\": true})});</script>"
      ],
      "text/vnd.plotly.v1+html": [
       "<div id=\"2e0ec7d4-4d81-4201-8664-10049be7d1fd\" style=\"height: 525px; width: 100%;\" class=\"plotly-graph-div\"></div><script type=\"text/javascript\">require([\"plotly\"], function(Plotly) { window.PLOTLYENV=window.PLOTLYENV || {};window.PLOTLYENV.BASE_URL=\"https://plot.ly\";Plotly.newPlot(\"2e0ec7d4-4d81-4201-8664-10049be7d1fd\", [{\"y\": [0.3703053435114504, 0.3720104922079926, 0.3820860798759209, 0.3735957232509491, 0.3723104995058162, 0.3759822208111755, 0.3677115737417245, 0.35840892069568114, 0.3620985746178946, 0.3588853357697579, 0.34786209752562375, 0.34786578406756447, 0.35255767301905716], \"x\": [1998, 1999, 2000, 2001, 2002, 2003, 2004, 2005, 2006, 2007, 2008, 2009, 2010], \"type\": \"scatter\", \"name\": \"P died\", \"mode\": \"lines\"}, {\"y\": [0.34595419847328246, 0.3535719796327727, 0.3430787126793331, 0.344231812194933, 0.3568767581540333, 0.3442336693388364, 0.35104091888011485, 0.3412665390696513, 0.3535119354284733, 0.3364093193238922, 0.34423853400973187, 0.3353115727002967, 0.3321213640922768], \"x\": [1998, 1999, 2000, 2001, 2002, 2003, 2004, 2005, 2006, 2007, 2008, 2009, 2010], \"type\": \"scatter\", \"name\": \"D died\", \"mode\": \"lines\"}, {\"y\": [0.2680916030534351, 0.1407190248418454, 0.12074447460255913, 0.13264120244828387, 0.13449403177982208, 0.1385030557980792, 0.11844938980617373, 0.1221602729466589, 0.13120384681435687, 0.10735495660118775, 0.09949270110777514, 0.1603515179182835, 0.14593781344032097], \"x\": [1998, 1999, 2000, 2001, 2002, 2003, 2004, 2005, 2006, 2007, 2008, 2009, 2010], \"type\": \"scatter\", \"name\": \"NA-code\", \"mode\": \"lines+markers\"}, {\"y\": [0.6131297709923664, 0.693642956333899, 0.6875533152384645, 0.650577206167196, 0.6211510681973694, 0.5902055718707834, 0.5666427374970089, 0.5390696513272863, 0.508500772797527, 0.4938328003654637, 0.49145874314111193, 0.39431636612645515, 0.4043380140421264], \"x\": [1998, 1999, 2000, 2001, 2002, 2003, 2004, 2005, 2006, 2007, 2008, 2009, 2010], \"type\": \"scatter\", \"name\": \"no\", \"mode\": \"lines+markers\"}, {\"y\": [0.11877862595419847, 0.16563801882425552, 0.19170221015897634, 0.21678159138452002, 0.2443549000228085, 0.27129137233113737, 0.3149078726968174, 0.3387700757260548, 0.3602953803881161, 0.39881224303334856, 0.40904855575111293, 0.44533211595526134, 0.44972417251755265], \"x\": [1998, 1999, 2000, 2001, 2002, 2003, 2004, 2005, 2006, 2007, 2008, 2009, 2010], \"type\": \"scatter\", \"name\": \"yes\", \"mode\": \"lines+markers\"}, {\"y\": [0.2769465648854962, 0.1536799876562259, 0.13780535091120588, 0.1461997365770512, 0.14050026609898883, 0.14009048337169616, 0.1131849724814549, 0.11799950070733128, 0.12150094453031084, 0.09511192325262677, 0.08893260171860441, 0.131134444190824, 0.11258776328986961], \"x\": [1998, 1999, 2000, 2001, 2002, 2003, 2004, 2005, 2006, 2007, 2008, 2009, 2010], \"type\": \"scatter\", \"name\": \"D_NA-code\", \"mode\": \"lines+markers\"}, {\"y\": [0.5473282442748092, 0.625366455793859, 0.6136487010469174, 0.5827845355233594, 0.5560708583593097, 0.5293277244225733, 0.5159128978224455, 0.49030540068236667, 0.4665979735531513, 0.45938784833257196, 0.4575007764778963, 0.3838164802556494, 0.3989468405215647], \"x\": [1998, 1999, 2000, 2001, 2002, 2003, 2004, 2005, 2006, 2007, 2008, 2009, 2010], \"type\": \"scatter\", \"name\": \"D_no\", \"mode\": \"lines+markers\"}, {\"y\": [0.17572519083969465, 0.22095355654991514, 0.24854594804187669, 0.2710157278995894, 0.3034288755417015, 0.33058179220573064, 0.37090212969609954, 0.39169509861030205, 0.41190108191653785, 0.4455002284148013, 0.4535666218034993, 0.4850490755535266, 0.4884653961885657], \"x\": [1998, 1999, 2000, 2001, 2002, 2003, 2004, 2005, 2006, 2007, 2008, 2009, 2010], \"type\": \"scatter\", \"name\": \"D_yes\", \"mode\": \"lines+markers\"}], {}, {\"linkText\": \"Export to plot.ly\", \"showLink\": true})});</script>"
      ]
     },
     "metadata": {},
     "output_type": "display_data"
    }
   ],
   "source": [
    "\n",
    "iplot_data = []\n",
    "\n",
    "# overall\n",
    "plot = Scatter(x=y_P_death_c_ratioed.year, y=y_P_death_c_ratioed.caseid, \\\n",
    "               mode='lines', name=str('P died'))\n",
    "iplot_data.append(plot)\n",
    "\n",
    "plot = Scatter(x=y_D_death_c_ratioed.year, y=y_D_death_c_ratioed.caseid, \\\n",
    "               mode='lines', name=str('D died'))\n",
    "iplot_data.append(plot)\n",
    "\n",
    "for airbagDeploy in (airbagDeploy_ratioed.airbagDeploy.unique()):\n",
    "    \n",
    "    new_data = airbagDeploy_ratioed[airbagDeploy_ratioed.airbagDeploy == airbagDeploy].reset_index()\n",
    "    plot = Scatter(x=new_data.year, y=new_data.caseid, mode='lines+markers', name=str(airbagDeploy))\n",
    "    iplot_data.append(plot)\n",
    "\n",
    "    \n",
    "for D_airbagDeploy in (D_airbagDeploy_ratioed.D_airbagDeploy.unique()):\n",
    "    \n",
    "    new_data = D_airbagDeploy_ratioed[D_airbagDeploy_ratioed.D_airbagDeploy == D_airbagDeploy].reset_index()\n",
    "    plot = Scatter(x=new_data.year, y=new_data.caseid, mode='lines+markers', name=str('D_' + D_airbagDeploy))\n",
    "    iplot_data.append(plot)\n",
    "    \n",
    "iplot(iplot_data)\n"
   ]
  },
  {
   "cell_type": "markdown",
   "metadata": {},
   "source": [
    "### seat belt was fastened and airbag deployed"
   ]
  },
  {
   "cell_type": "code",
   "execution_count": 32,
   "metadata": {},
   "outputs": [],
   "source": [
    "# of accidents\n",
    "\n",
    "# P died seatbelt fastened and airbag deployed\n",
    "y_P_death_sf_ad = data[(data.Restraint == 'yes') & (data.airbagDeploy == 'yes') & (data.injury == 4)].groupby(['year']).count().reset_index()[['year', 'caseid']]\n",
    "# P died seatbelt NOT fastened and airbag deployed\n",
    "y_P_death_snf_ad = data[(data.Restraint == 'no') & (data.airbagDeploy == 'yes') & (data.injury == 4)].groupby(['year']).count().reset_index()[['year', 'caseid']]\n",
    "\n",
    "# P died seatbelt fastened and airbag deployed\n",
    "y_P_death_sf_and = data[(data.Restraint == 'yes') & (data.airbagDeploy == 'no') & (data.injury == 4)].groupby(['year']).count().reset_index()[['year', 'caseid']]\n",
    "# P died seatbelt NOT fastened and airbag deployed\n",
    "y_P_death_snf_and = data[(data.Restraint == 'no') & (data.airbagDeploy == 'no') & (data.injury == 4)].groupby(['year']).count().reset_index()[['year', 'caseid']]\n",
    "\n",
    "y_P_death_sf_ad_ratioed = getRatio(y_P_death_sf_ad, 'caseid', y_count, 'caseid')\n",
    "y_P_death_snf_ad_ratioed = getRatio(y_P_death_snf_ad, 'caseid', y_count, 'caseid')\n",
    "y_P_death_sf_and_ratioed = getRatio(y_P_death_sf_and, 'caseid', y_count, 'caseid')\n",
    "y_P_death_snf_and_ratioed = getRatio(y_P_death_snf_and, 'caseid', y_count, 'caseid')"
   ]
  },
  {
   "cell_type": "code",
   "execution_count": 33,
   "metadata": {},
   "outputs": [
    {
     "data": {
      "application/vnd.plotly.v1+json": {
       "data": [
        {
         "mode": "lines+markers",
         "name": "SF_AD",
         "type": "scatter",
         "x": [
          1998,
          1999,
          2000,
          2001,
          2002,
          2003,
          2004,
          2005,
          2006,
          2007,
          2008,
          2009,
          2010
         ],
         "y": [
          0.024045801526717557,
          0.03232525844777041,
          0.0374563784412563,
          0.040520647710544665,
          0.04858207253098153,
          0.06000476228272085,
          0.06987317540081359,
          0.07081634351335608,
          0.08045680920487722,
          0.0878940155322065,
          0.09079614866963454,
          0.10237388724035608,
          0.10932798395185557
         ]
        },
        {
         "mode": "lines",
         "name": "SNF_AD",
         "type": "scatter",
         "x": [
          1998,
          1999,
          2000,
          2001,
          2002,
          2003,
          2004,
          2005,
          2006,
          2007,
          2008,
          2009,
          2010
         ],
         "y": [
          0.017251908396946566,
          0.025844777040580157,
          0.027840248158200853,
          0.0330828232741923,
          0.03580932106743709,
          0.03849511866021113,
          0.047459519821328865,
          0.052425730215528,
          0.055469689163661344,
          0.05902238465052535,
          0.057562894709597266,
          0.0671079662177585,
          0.0664493480441324
         ]
        },
        {
         "mode": "lines",
         "name": "SF_AND",
         "type": "scatter",
         "x": [
          1998,
          1999,
          2000,
          2001,
          2002,
          2003,
          2004,
          2005,
          2006,
          2007,
          2008,
          2009,
          2010
         ],
         "y": [
          0.09412213740458016,
          0.1080080234531708,
          0.11942613416052733,
          0.10746106763771597,
          0.10567931270432601,
          0.09865862370029367,
          0.09475951184493898,
          0.09062161937255554,
          0.080370942812983,
          0.07793513019643673,
          0.07392069572419505,
          0.05341246290801187,
          0.055667001003009024
         ]
        },
        {
         "mode": "lines+markers",
         "name": "SNF_AND",
         "type": "scatter",
         "x": [
          1998,
          1999,
          2000,
          2001,
          2002,
          2003,
          2004,
          2005,
          2006,
          2007,
          2008,
          2009,
          2010
         ],
         "y": [
          0.11778625954198474,
          0.13493288072828266,
          0.13005040713454827,
          0.1236538312543581,
          0.11525887630198434,
          0.1081831891419954,
          0.09946558187764218,
          0.08679370891237413,
          0.08217413704276147,
          0.07610781178620375,
          0.07619836421989853,
          0.05364072129650765,
          0.04839518555667001
         ]
        }
       ],
       "layout": {}
      },
      "text/html": [
       "<div id=\"83ba2d11-220f-47c4-a84e-a2c6976187f5\" style=\"height: 525px; width: 100%;\" class=\"plotly-graph-div\"></div><script type=\"text/javascript\">require([\"plotly\"], function(Plotly) { window.PLOTLYENV=window.PLOTLYENV || {};window.PLOTLYENV.BASE_URL=\"https://plot.ly\";Plotly.newPlot(\"83ba2d11-220f-47c4-a84e-a2c6976187f5\", [{\"y\": [0.024045801526717557, 0.03232525844777041, 0.0374563784412563, 0.040520647710544665, 0.04858207253098153, 0.06000476228272085, 0.06987317540081359, 0.07081634351335608, 0.08045680920487722, 0.0878940155322065, 0.09079614866963454, 0.10237388724035608, 0.10932798395185557], \"x\": [1998, 1999, 2000, 2001, 2002, 2003, 2004, 2005, 2006, 2007, 2008, 2009, 2010], \"type\": \"scatter\", \"name\": \"SF_AD\", \"mode\": \"lines+markers\"}, {\"y\": [0.017251908396946566, 0.025844777040580157, 0.027840248158200853, 0.0330828232741923, 0.03580932106743709, 0.03849511866021113, 0.047459519821328865, 0.052425730215528, 0.055469689163661344, 0.05902238465052535, 0.057562894709597266, 0.0671079662177585, 0.0664493480441324], \"x\": [1998, 1999, 2000, 2001, 2002, 2003, 2004, 2005, 2006, 2007, 2008, 2009, 2010], \"type\": \"scatter\", \"name\": \"SNF_AD\", \"mode\": \"lines\"}, {\"y\": [0.09412213740458016, 0.1080080234531708, 0.11942613416052733, 0.10746106763771597, 0.10567931270432601, 0.09865862370029367, 0.09475951184493898, 0.09062161937255554, 0.080370942812983, 0.07793513019643673, 0.07392069572419505, 0.05341246290801187, 0.055667001003009024], \"x\": [1998, 1999, 2000, 2001, 2002, 2003, 2004, 2005, 2006, 2007, 2008, 2009, 2010], \"type\": \"scatter\", \"name\": \"SF_AND\", \"mode\": \"lines\"}, {\"y\": [0.11778625954198474, 0.13493288072828266, 0.13005040713454827, 0.1236538312543581, 0.11525887630198434, 0.1081831891419954, 0.09946558187764218, 0.08679370891237413, 0.08217413704276147, 0.07610781178620375, 0.07619836421989853, 0.05364072129650765, 0.04839518555667001], \"x\": [1998, 1999, 2000, 2001, 2002, 2003, 2004, 2005, 2006, 2007, 2008, 2009, 2010], \"type\": \"scatter\", \"name\": \"SNF_AND\", \"mode\": \"lines+markers\"}], {}, {\"linkText\": \"Export to plot.ly\", \"showLink\": true})});</script>"
      ],
      "text/vnd.plotly.v1+html": [
       "<div id=\"83ba2d11-220f-47c4-a84e-a2c6976187f5\" style=\"height: 525px; width: 100%;\" class=\"plotly-graph-div\"></div><script type=\"text/javascript\">require([\"plotly\"], function(Plotly) { window.PLOTLYENV=window.PLOTLYENV || {};window.PLOTLYENV.BASE_URL=\"https://plot.ly\";Plotly.newPlot(\"83ba2d11-220f-47c4-a84e-a2c6976187f5\", [{\"y\": [0.024045801526717557, 0.03232525844777041, 0.0374563784412563, 0.040520647710544665, 0.04858207253098153, 0.06000476228272085, 0.06987317540081359, 0.07081634351335608, 0.08045680920487722, 0.0878940155322065, 0.09079614866963454, 0.10237388724035608, 0.10932798395185557], \"x\": [1998, 1999, 2000, 2001, 2002, 2003, 2004, 2005, 2006, 2007, 2008, 2009, 2010], \"type\": \"scatter\", \"name\": \"SF_AD\", \"mode\": \"lines+markers\"}, {\"y\": [0.017251908396946566, 0.025844777040580157, 0.027840248158200853, 0.0330828232741923, 0.03580932106743709, 0.03849511866021113, 0.047459519821328865, 0.052425730215528, 0.055469689163661344, 0.05902238465052535, 0.057562894709597266, 0.0671079662177585, 0.0664493480441324], \"x\": [1998, 1999, 2000, 2001, 2002, 2003, 2004, 2005, 2006, 2007, 2008, 2009, 2010], \"type\": \"scatter\", \"name\": \"SNF_AD\", \"mode\": \"lines\"}, {\"y\": [0.09412213740458016, 0.1080080234531708, 0.11942613416052733, 0.10746106763771597, 0.10567931270432601, 0.09865862370029367, 0.09475951184493898, 0.09062161937255554, 0.080370942812983, 0.07793513019643673, 0.07392069572419505, 0.05341246290801187, 0.055667001003009024], \"x\": [1998, 1999, 2000, 2001, 2002, 2003, 2004, 2005, 2006, 2007, 2008, 2009, 2010], \"type\": \"scatter\", \"name\": \"SF_AND\", \"mode\": \"lines\"}, {\"y\": [0.11778625954198474, 0.13493288072828266, 0.13005040713454827, 0.1236538312543581, 0.11525887630198434, 0.1081831891419954, 0.09946558187764218, 0.08679370891237413, 0.08217413704276147, 0.07610781178620375, 0.07619836421989853, 0.05364072129650765, 0.04839518555667001], \"x\": [1998, 1999, 2000, 2001, 2002, 2003, 2004, 2005, 2006, 2007, 2008, 2009, 2010], \"type\": \"scatter\", \"name\": \"SNF_AND\", \"mode\": \"lines+markers\"}], {}, {\"linkText\": \"Export to plot.ly\", \"showLink\": true})});</script>"
      ]
     },
     "metadata": {},
     "output_type": "display_data"
    }
   ],
   "source": [
    "iplot_data = []\n",
    "plot = Scatter(x=y_P_death_sf_ad_ratioed.year, y=y_P_death_sf_ad_ratioed.caseid, \\\n",
    "               mode='lines+markers', name=str('SF_AD'))\n",
    "iplot_data.append(plot)\n",
    "\n",
    "plot = Scatter(x=y_P_death_snf_ad_ratioed.year, y=y_P_death_snf_ad_ratioed.caseid, \\\n",
    "               mode='lines', name=str('SNF_AD'))\n",
    "iplot_data.append(plot)\n",
    "\n",
    "plot = Scatter(x=y_P_death_sf_and_ratioed.year, y=y_P_death_sf_and_ratioed.caseid, \\\n",
    "               mode='lines', name=str('SF_AND'))\n",
    "iplot_data.append(plot)\n",
    "\n",
    "plot = Scatter(x=y_P_death_snf_and_ratioed.year, y=y_P_death_snf_and_ratioed.caseid, \\\n",
    "               mode='lines+markers', name=str('SNF_AND'))\n",
    "iplot_data.append(plot)\n",
    "\n",
    "#plot\n",
    "iplot(iplot_data)"
   ]
  },
  {
   "cell_type": "code",
   "execution_count": null,
   "metadata": {
    "collapsed": true
   },
   "outputs": [],
   "source": []
  },
  {
   "cell_type": "code",
   "execution_count": 34,
   "metadata": {
    "collapsed": true
   },
   "outputs": [],
   "source": [
    "# of accidents\n",
    "\n",
    "# P died seatbelt fastened and airbag deployed\n",
    "y_P_death_sf_ad = data[(data.Restraint == 'yes') & (data.airbagDeploy == 'yes') & (data.injury == 4)].groupby(['year']).count().reset_index()[['year', 'caseid']]\n",
    "# P died seatbelt NOT fastened and airbag deployed\n",
    "y_P_death_sf_ad = data[(data.Restraint == 'no') & (data.airbagDeploy == 'yes') & (data.injury == 4)].groupby(['year']).count().reset_index()[['year', 'caseid']]\n",
    "\n",
    "# P died seatbelt fastened and airbag deployed\n",
    "y_P_death_sf_and = data[(data.Restraint == 'yes') & (data.airbagDeploy == 'no') & (data.injury == 4)].groupby(['year']).count().reset_index()[['year', 'caseid']]\n",
    "# P died seatbelt NOT fastened and airbag deployed\n",
    "y_P_death_sf_and = data[(data.Restraint == 'no') & (data.airbagDeploy == 'no') & (data.injury == 4)].groupby(['year']).count().reset_index()[['year', 'caseid']]\n",
    "\n",
    "\n",
    "# D died seatbelt fastened\n",
    "y_D_death_sf_ad = data[(data.D_Restraint == 'yes') & (data.D_airbagDeploy == 'yes') & (data.D_injury == 4)].groupby(['year']).count().reset_index()[['year', 'caseid']]\n",
    "\n",
    "y_P_death_sf_ad_ratioed = getRatio(y_P_death_sf_ad, 'caseid', y_count, 'caseid')\n",
    "y_D_death_sf_ad_ratioed = getRatio(y_D_death_sf_ad, 'caseid', y_count, 'caseid')"
   ]
  },
  {
   "cell_type": "code",
   "execution_count": 35,
   "metadata": {},
   "outputs": [
    {
     "data": {
      "application/vnd.plotly.v1+json": {
       "data": [
        {
         "mode": "lines",
         "name": "# of accidents",
         "type": "scatter",
         "x": [
          1998,
          1999,
          2000,
          2001,
          2002,
          2003,
          2004,
          2005,
          2006,
          2007,
          2008,
          2009,
          2010
         ],
         "y": [
          0.08666428505272629,
          0.08575133304224719,
          0.0853080882255653,
          0.08538747535691131,
          0.0870149115495045,
          0.08334987231903042,
          0.0829397054737427,
          0.07949959644874899,
          0.07704521097130156,
          0.07240767938183887,
          0.06390002513925826,
          0.057965837071144104,
          0.05276597996798053
         ]
        },
        {
         "mode": "lines",
         "name": "P died",
         "type": "scatter",
         "x": [
          1998,
          1999,
          2000,
          2001,
          2002,
          2003,
          2004,
          2005,
          2006,
          2007,
          2008,
          2009,
          2010
         ],
         "y": [
          0.017251908396946566,
          0.025844777040580157,
          0.027840248158200853,
          0.0330828232741923,
          0.03580932106743709,
          0.03849511866021113,
          0.047459519821328865,
          0.052425730215528,
          0.055469689163661344,
          0.05902238465052535,
          0.057562894709597266,
          0.0671079662177585,
          0.0664493480441324
         ]
        },
        {
         "mode": "lines",
         "name": "D died",
         "type": "scatter",
         "x": [
          1998,
          1999,
          2000,
          2001,
          2002,
          2003,
          2004,
          2005,
          2006,
          2007,
          2008,
          2009,
          2010
         ],
         "y": [
          0.03267175572519084,
          0.04027156303039654,
          0.044513377278014736,
          0.04764856279538235,
          0.05686915532578119,
          0.0684181284228907,
          0.07641381510728244,
          0.07705750187234751,
          0.08500772797527048,
          0.0916400182731841,
          0.09576560720571488,
          0.10031956174389409,
          0.10907723169508525
         ]
        }
       ],
       "layout": {}
      },
      "text/html": [
       "<div id=\"7528198c-9cbf-4331-b031-e27969de54d6\" style=\"height: 525px; width: 100%;\" class=\"plotly-graph-div\"></div><script type=\"text/javascript\">require([\"plotly\"], function(Plotly) { window.PLOTLYENV=window.PLOTLYENV || {};window.PLOTLYENV.BASE_URL=\"https://plot.ly\";Plotly.newPlot(\"7528198c-9cbf-4331-b031-e27969de54d6\", [{\"y\": [0.08666428505272629, 0.08575133304224719, 0.0853080882255653, 0.08538747535691131, 0.0870149115495045, 0.08334987231903042, 0.0829397054737427, 0.07949959644874899, 0.07704521097130156, 0.07240767938183887, 0.06390002513925826, 0.057965837071144104, 0.05276597996798053], \"x\": [1998, 1999, 2000, 2001, 2002, 2003, 2004, 2005, 2006, 2007, 2008, 2009, 2010], \"type\": \"scatter\", \"name\": \"# of accidents\", \"mode\": \"lines\"}, {\"y\": [0.017251908396946566, 0.025844777040580157, 0.027840248158200853, 0.0330828232741923, 0.03580932106743709, 0.03849511866021113, 0.047459519821328865, 0.052425730215528, 0.055469689163661344, 0.05902238465052535, 0.057562894709597266, 0.0671079662177585, 0.0664493480441324], \"x\": [1998, 1999, 2000, 2001, 2002, 2003, 2004, 2005, 2006, 2007, 2008, 2009, 2010], \"type\": \"scatter\", \"name\": \"P died\", \"mode\": \"lines\"}, {\"y\": [0.03267175572519084, 0.04027156303039654, 0.044513377278014736, 0.04764856279538235, 0.05686915532578119, 0.0684181284228907, 0.07641381510728244, 0.07705750187234751, 0.08500772797527048, 0.0916400182731841, 0.09576560720571488, 0.10031956174389409, 0.10907723169508525], \"x\": [1998, 1999, 2000, 2001, 2002, 2003, 2004, 2005, 2006, 2007, 2008, 2009, 2010], \"type\": \"scatter\", \"name\": \"D died\", \"mode\": \"lines\"}], {}, {\"linkText\": \"Export to plot.ly\", \"showLink\": true})});</script>"
      ],
      "text/vnd.plotly.v1+html": [
       "<div id=\"7528198c-9cbf-4331-b031-e27969de54d6\" style=\"height: 525px; width: 100%;\" class=\"plotly-graph-div\"></div><script type=\"text/javascript\">require([\"plotly\"], function(Plotly) { window.PLOTLYENV=window.PLOTLYENV || {};window.PLOTLYENV.BASE_URL=\"https://plot.ly\";Plotly.newPlot(\"7528198c-9cbf-4331-b031-e27969de54d6\", [{\"y\": [0.08666428505272629, 0.08575133304224719, 0.0853080882255653, 0.08538747535691131, 0.0870149115495045, 0.08334987231903042, 0.0829397054737427, 0.07949959644874899, 0.07704521097130156, 0.07240767938183887, 0.06390002513925826, 0.057965837071144104, 0.05276597996798053], \"x\": [1998, 1999, 2000, 2001, 2002, 2003, 2004, 2005, 2006, 2007, 2008, 2009, 2010], \"type\": \"scatter\", \"name\": \"# of accidents\", \"mode\": \"lines\"}, {\"y\": [0.017251908396946566, 0.025844777040580157, 0.027840248158200853, 0.0330828232741923, 0.03580932106743709, 0.03849511866021113, 0.047459519821328865, 0.052425730215528, 0.055469689163661344, 0.05902238465052535, 0.057562894709597266, 0.0671079662177585, 0.0664493480441324], \"x\": [1998, 1999, 2000, 2001, 2002, 2003, 2004, 2005, 2006, 2007, 2008, 2009, 2010], \"type\": \"scatter\", \"name\": \"P died\", \"mode\": \"lines\"}, {\"y\": [0.03267175572519084, 0.04027156303039654, 0.044513377278014736, 0.04764856279538235, 0.05686915532578119, 0.0684181284228907, 0.07641381510728244, 0.07705750187234751, 0.08500772797527048, 0.0916400182731841, 0.09576560720571488, 0.10031956174389409, 0.10907723169508525], \"x\": [1998, 1999, 2000, 2001, 2002, 2003, 2004, 2005, 2006, 2007, 2008, 2009, 2010], \"type\": \"scatter\", \"name\": \"D died\", \"mode\": \"lines\"}], {}, {\"linkText\": \"Export to plot.ly\", \"showLink\": true})});</script>"
      ]
     },
     "metadata": {},
     "output_type": "display_data"
    }
   ],
   "source": [
    "iplot_data = []\n",
    "plot = Scatter(x=y_count_ratioed.year, y=y_count_ratioed.caseid, \\\n",
    "               mode='lines', name=str('# of accidents'))\n",
    "iplot_data.append(plot)\n",
    "\n",
    "plot = Scatter(x=y_P_death_sf_ad_ratioed.year, y=y_P_death_sf_ad_ratioed.caseid, \\\n",
    "               mode='lines', name=str('P died'))\n",
    "iplot_data.append(plot)\n",
    "\n",
    "plot = Scatter(x=y_D_death_sf_ad_ratioed.year, y=y_D_death_sf_ad_ratioed.caseid, \\\n",
    "               mode='lines', name=str('D died'))\n",
    "iplot_data.append(plot)\n",
    "iplot(iplot_data)"
   ]
  },
  {
   "cell_type": "code",
   "execution_count": 36,
   "metadata": {
    "collapsed": true
   },
   "outputs": [],
   "source": [
    "y_count_ratioed  = y_count.copy()\n",
    "y_count_ratioed.caseid = y_count.caseid / len(data.index)"
   ]
  },
  {
   "cell_type": "code",
   "execution_count": 37,
   "metadata": {
    "collapsed": true
   },
   "outputs": [],
   "source": [
    "# P died seatbelt fastened\n",
    "y_P_death_sf_ad = data[(data.Restraint == 'no') & (data.airbagDeploy == 'yes') & (data.injury == 4)].groupby(['year']).count().reset_index()[['year', 'caseid']]\n",
    "# D died seatbelt fastened\n",
    "y_D_death_sf_ad = data[(data.D_Restraint == 'no') & (data.D_airbagDeploy == 'yes') & (data.D_injury == 4)].groupby(['year']).count().reset_index()[['year', 'caseid']]\n",
    "\n",
    "y_P_death_sf_ad_ratioed = getRatio(y_P_death_sf_ad, 'caseid', y_count, 'caseid')\n",
    "y_D_death_sf_ad_ratioed = getRatio(y_D_death_sf_ad, 'caseid', y_count, 'caseid')"
   ]
  },
  {
   "cell_type": "code",
   "execution_count": 38,
   "metadata": {},
   "outputs": [
    {
     "data": {
      "application/vnd.plotly.v1+json": {
       "data": [
        {
         "mode": "lines",
         "name": "# of accidents",
         "type": "scatter",
         "x": [
          1998,
          1999,
          2000,
          2001,
          2002,
          2003,
          2004,
          2005,
          2006,
          2007,
          2008,
          2009,
          2010
         ],
         "y": [
          0.08666428505272629,
          0.08575133304224719,
          0.0853080882255653,
          0.08538747535691131,
          0.0870149115495045,
          0.08334987231903042,
          0.0829397054737427,
          0.07949959644874899,
          0.07704521097130156,
          0.07240767938183887,
          0.06390002513925826,
          0.057965837071144104,
          0.05276597996798053
         ]
        },
        {
         "mode": "lines",
         "name": "P died",
         "type": "scatter",
         "x": [
          1998,
          1999,
          2000,
          2001,
          2002,
          2003,
          2004,
          2005,
          2006,
          2007,
          2008,
          2009,
          2010
         ],
         "y": [
          0.017251908396946566,
          0.025844777040580157,
          0.027840248158200853,
          0.0330828232741923,
          0.03580932106743709,
          0.03849511866021113,
          0.047459519821328865,
          0.052425730215528,
          0.055469689163661344,
          0.05902238465052535,
          0.057562894709597266,
          0.0671079662177585,
          0.0664493480441324
         ]
        },
        {
         "mode": "lines",
         "name": "D died",
         "type": "scatter",
         "x": [
          1998,
          1999,
          2000,
          2001,
          2002,
          2003,
          2004,
          2005,
          2006,
          2007,
          2008,
          2009,
          2010
         ],
         "y": [
          0.02435114503816794,
          0.03348248727048295,
          0.035362543621558745,
          0.040598125048423334,
          0.04683342203299627,
          0.04484482895467894,
          0.05487756241525086,
          0.05999833569110427,
          0.0646573930963421,
          0.06322521699406121,
          0.06936535873278807,
          0.06790687057749373,
          0.06381644934804413
         ]
        }
       ],
       "layout": {}
      },
      "text/html": [
       "<div id=\"10f0a86e-e2b0-4366-bfde-2521bd47e547\" style=\"height: 525px; width: 100%;\" class=\"plotly-graph-div\"></div><script type=\"text/javascript\">require([\"plotly\"], function(Plotly) { window.PLOTLYENV=window.PLOTLYENV || {};window.PLOTLYENV.BASE_URL=\"https://plot.ly\";Plotly.newPlot(\"10f0a86e-e2b0-4366-bfde-2521bd47e547\", [{\"y\": [0.08666428505272629, 0.08575133304224719, 0.0853080882255653, 0.08538747535691131, 0.0870149115495045, 0.08334987231903042, 0.0829397054737427, 0.07949959644874899, 0.07704521097130156, 0.07240767938183887, 0.06390002513925826, 0.057965837071144104, 0.05276597996798053], \"x\": [1998, 1999, 2000, 2001, 2002, 2003, 2004, 2005, 2006, 2007, 2008, 2009, 2010], \"type\": \"scatter\", \"name\": \"# of accidents\", \"mode\": \"lines\"}, {\"y\": [0.017251908396946566, 0.025844777040580157, 0.027840248158200853, 0.0330828232741923, 0.03580932106743709, 0.03849511866021113, 0.047459519821328865, 0.052425730215528, 0.055469689163661344, 0.05902238465052535, 0.057562894709597266, 0.0671079662177585, 0.0664493480441324], \"x\": [1998, 1999, 2000, 2001, 2002, 2003, 2004, 2005, 2006, 2007, 2008, 2009, 2010], \"type\": \"scatter\", \"name\": \"P died\", \"mode\": \"lines\"}, {\"y\": [0.02435114503816794, 0.03348248727048295, 0.035362543621558745, 0.040598125048423334, 0.04683342203299627, 0.04484482895467894, 0.05487756241525086, 0.05999833569110427, 0.0646573930963421, 0.06322521699406121, 0.06936535873278807, 0.06790687057749373, 0.06381644934804413], \"x\": [1998, 1999, 2000, 2001, 2002, 2003, 2004, 2005, 2006, 2007, 2008, 2009, 2010], \"type\": \"scatter\", \"name\": \"D died\", \"mode\": \"lines\"}], {}, {\"linkText\": \"Export to plot.ly\", \"showLink\": true})});</script>"
      ],
      "text/vnd.plotly.v1+html": [
       "<div id=\"10f0a86e-e2b0-4366-bfde-2521bd47e547\" style=\"height: 525px; width: 100%;\" class=\"plotly-graph-div\"></div><script type=\"text/javascript\">require([\"plotly\"], function(Plotly) { window.PLOTLYENV=window.PLOTLYENV || {};window.PLOTLYENV.BASE_URL=\"https://plot.ly\";Plotly.newPlot(\"10f0a86e-e2b0-4366-bfde-2521bd47e547\", [{\"y\": [0.08666428505272629, 0.08575133304224719, 0.0853080882255653, 0.08538747535691131, 0.0870149115495045, 0.08334987231903042, 0.0829397054737427, 0.07949959644874899, 0.07704521097130156, 0.07240767938183887, 0.06390002513925826, 0.057965837071144104, 0.05276597996798053], \"x\": [1998, 1999, 2000, 2001, 2002, 2003, 2004, 2005, 2006, 2007, 2008, 2009, 2010], \"type\": \"scatter\", \"name\": \"# of accidents\", \"mode\": \"lines\"}, {\"y\": [0.017251908396946566, 0.025844777040580157, 0.027840248158200853, 0.0330828232741923, 0.03580932106743709, 0.03849511866021113, 0.047459519821328865, 0.052425730215528, 0.055469689163661344, 0.05902238465052535, 0.057562894709597266, 0.0671079662177585, 0.0664493480441324], \"x\": [1998, 1999, 2000, 2001, 2002, 2003, 2004, 2005, 2006, 2007, 2008, 2009, 2010], \"type\": \"scatter\", \"name\": \"P died\", \"mode\": \"lines\"}, {\"y\": [0.02435114503816794, 0.03348248727048295, 0.035362543621558745, 0.040598125048423334, 0.04683342203299627, 0.04484482895467894, 0.05487756241525086, 0.05999833569110427, 0.0646573930963421, 0.06322521699406121, 0.06936535873278807, 0.06790687057749373, 0.06381644934804413], \"x\": [1998, 1999, 2000, 2001, 2002, 2003, 2004, 2005, 2006, 2007, 2008, 2009, 2010], \"type\": \"scatter\", \"name\": \"D died\", \"mode\": \"lines\"}], {}, {\"linkText\": \"Export to plot.ly\", \"showLink\": true})});</script>"
      ]
     },
     "metadata": {},
     "output_type": "display_data"
    }
   ],
   "source": [
    "iplot_data = []\n",
    "\n",
    "plot = Scatter(x=y_count_ratioed.year, y=y_count_ratioed.caseid, \\\n",
    "               mode='lines', name=str('# of accidents'))\n",
    "iplot_data.append(plot)\n",
    "\n",
    "plot = Scatter(x=y_P_death_sf_ad_ratioed.year, y=y_P_death_sf_ad_ratioed.caseid, \\\n",
    "               mode='lines', name=str('P died'))\n",
    "iplot_data.append(plot)\n",
    "\n",
    "plot = Scatter(x=y_D_death_sf_ad_ratioed.year, y=y_D_death_sf_ad_ratioed.caseid, \\\n",
    "               mode='lines', name=str('D died'))\n",
    "iplot_data.append(plot)\n",
    "iplot(iplot_data)"
   ]
  },
  {
   "cell_type": "code",
   "execution_count": null,
   "metadata": {
    "collapsed": true
   },
   "outputs": [],
   "source": []
  },
  {
   "cell_type": "code",
   "execution_count": null,
   "metadata": {
    "collapsed": true
   },
   "outputs": [],
   "source": []
  },
  {
   "cell_type": "code",
   "execution_count": null,
   "metadata": {
    "collapsed": true
   },
   "outputs": [],
   "source": []
  },
  {
   "cell_type": "code",
   "execution_count": null,
   "metadata": {
    "collapsed": true
   },
   "outputs": [],
   "source": []
  },
  {
   "cell_type": "code",
   "execution_count": 39,
   "metadata": {},
   "outputs": [
    {
     "ename": "NameError",
     "evalue": "name 'y_P_death_dcount' is not defined",
     "output_type": "error",
     "traceback": [
      "\u001b[0;31m---------------------------------------------------------------------------\u001b[0m",
      "\u001b[0;31mNameError\u001b[0m                                 Traceback (most recent call last)",
      "\u001b[0;32m<ipython-input-39-fe323e2d7da1>\u001b[0m in \u001b[0;36m<module>\u001b[0;34m()\u001b[0m\n\u001b[1;32m      2\u001b[0m \u001b[0mplot\u001b[0m \u001b[0;34m=\u001b[0m \u001b[0mScatter\u001b[0m\u001b[0;34m(\u001b[0m\u001b[0mx\u001b[0m\u001b[0;34m=\u001b[0m\u001b[0my_count\u001b[0m\u001b[0;34m.\u001b[0m\u001b[0myear\u001b[0m\u001b[0;34m,\u001b[0m \u001b[0my\u001b[0m\u001b[0;34m=\u001b[0m\u001b[0my_count\u001b[0m\u001b[0;34m.\u001b[0m\u001b[0mcaseid\u001b[0m\u001b[0;34m,\u001b[0m                \u001b[0mmode\u001b[0m\u001b[0;34m=\u001b[0m\u001b[0;34m'lines+markers'\u001b[0m\u001b[0;34m,\u001b[0m \u001b[0mname\u001b[0m\u001b[0;34m=\u001b[0m\u001b[0mstr\u001b[0m\u001b[0;34m(\u001b[0m\u001b[0;34m'# of accidents'\u001b[0m\u001b[0;34m)\u001b[0m\u001b[0;34m)\u001b[0m\u001b[0;34m\u001b[0m\u001b[0m\n\u001b[1;32m      3\u001b[0m \u001b[0miplot_data\u001b[0m\u001b[0;34m.\u001b[0m\u001b[0mappend\u001b[0m\u001b[0;34m(\u001b[0m\u001b[0mplot\u001b[0m\u001b[0;34m)\u001b[0m\u001b[0;34m\u001b[0m\u001b[0m\n\u001b[0;32m----> 4\u001b[0;31m \u001b[0mplot\u001b[0m \u001b[0;34m=\u001b[0m \u001b[0mScatter\u001b[0m\u001b[0;34m(\u001b[0m\u001b[0mx\u001b[0m\u001b[0;34m=\u001b[0m\u001b[0my_P_death_dcount\u001b[0m\u001b[0;34m.\u001b[0m\u001b[0myear\u001b[0m\u001b[0;34m,\u001b[0m \u001b[0my\u001b[0m\u001b[0;34m=\u001b[0m\u001b[0my_P_death_dcount\u001b[0m\u001b[0;34m.\u001b[0m\u001b[0mcaseid\u001b[0m\u001b[0;34m,\u001b[0m               \u001b[0mmode\u001b[0m\u001b[0;34m=\u001b[0m\u001b[0;34m'lines+markers'\u001b[0m\u001b[0;34m,\u001b[0m \u001b[0mname\u001b[0m\u001b[0;34m=\u001b[0m\u001b[0mstr\u001b[0m\u001b[0;34m(\u001b[0m\u001b[0;34m'# of passenger\\'s death'\u001b[0m\u001b[0;34m)\u001b[0m\u001b[0;34m)\u001b[0m\u001b[0;34m\u001b[0m\u001b[0m\n\u001b[0m\u001b[1;32m      5\u001b[0m \u001b[0miplot_data\u001b[0m\u001b[0;34m.\u001b[0m\u001b[0mappend\u001b[0m\u001b[0;34m(\u001b[0m\u001b[0mplot\u001b[0m\u001b[0;34m)\u001b[0m\u001b[0;34m\u001b[0m\u001b[0m\n\u001b[1;32m      6\u001b[0m \u001b[0mplot\u001b[0m \u001b[0;34m=\u001b[0m \u001b[0mScatter\u001b[0m\u001b[0;34m(\u001b[0m\u001b[0mx\u001b[0m\u001b[0;34m=\u001b[0m\u001b[0my_D_death_dcount\u001b[0m\u001b[0;34m.\u001b[0m\u001b[0myear\u001b[0m\u001b[0;34m,\u001b[0m \u001b[0my\u001b[0m\u001b[0;34m=\u001b[0m\u001b[0my_D_death_dcount\u001b[0m\u001b[0;34m.\u001b[0m\u001b[0mcaseid\u001b[0m\u001b[0;34m,\u001b[0m               \u001b[0mmode\u001b[0m\u001b[0;34m=\u001b[0m\u001b[0;34m'lines+markers'\u001b[0m\u001b[0;34m,\u001b[0m \u001b[0mname\u001b[0m\u001b[0;34m=\u001b[0m\u001b[0mstr\u001b[0m\u001b[0;34m(\u001b[0m\u001b[0;34m'# of drivers\\'s death'\u001b[0m\u001b[0;34m)\u001b[0m\u001b[0;34m)\u001b[0m\u001b[0;34m\u001b[0m\u001b[0m\n",
      "\u001b[0;31mNameError\u001b[0m: name 'y_P_death_dcount' is not defined"
     ]
    }
   ],
   "source": [
    "iplot_data = []\n",
    "plot = Scatter(x=y_count.year, y=y_count.caseid, \\\n",
    "               mode='lines+markers', name=str('# of accidents'))\n",
    "iplot_data.append(plot)\n",
    "plot = Scatter(x=y_P_death_dcount.year, y=y_P_death_dcount.caseid,\\\n",
    "               mode='lines+markers', name=str('# of passenger\\'s death'))\n",
    "iplot_data.append(plot)\n",
    "plot = Scatter(x=y_D_death_dcount.year, y=y_D_death_dcount.caseid,\\\n",
    "               mode='lines+markers', name=str('# of drivers\\'s death'))\n",
    "iplot_data.append(plot)\n",
    "for airbagDeploy in (airbagDeploy.airbagDeploy.unique()):\n",
    "    \n",
    "    new_data = airbagDeploy[airbagDeploy.airbagDeploy == airbagDeploy].reset_index()\n",
    "    plot = Scatter(x=new_data.year, y=new_data.caseid, mode='lines+markers', name=str(airbagDeploy))\n",
    "    iplot_data.append(plot)\n",
    "iplot(iplot_data)"
   ]
  },
  {
   "cell_type": "code",
   "execution_count": null,
   "metadata": {
    "collapsed": true
   },
   "outputs": [],
   "source": []
  }
 ],
 "metadata": {
  "kernelspec": {
   "display_name": "Python 2",
   "language": "python",
   "name": "python2"
  },
  "language_info": {
   "codemirror_mode": {
    "name": "ipython",
    "version": 2
   },
   "file_extension": ".py",
   "mimetype": "text/x-python",
   "name": "python",
   "nbconvert_exporter": "python",
   "pygments_lexer": "ipython2",
   "version": "2.7.13"
  }
 },
 "nbformat": 4,
 "nbformat_minor": 2
}
