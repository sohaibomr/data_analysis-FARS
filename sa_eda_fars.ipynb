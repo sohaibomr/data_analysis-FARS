{
 "cells": [
  {
   "cell_type": "markdown",
   "metadata": {},
   "source": [
    "# Exploring Data to Get High Level Statistics"
   ]
  },
  {
   "cell_type": "code",
   "execution_count": 141,
   "metadata": {
    "collapsed": true
   },
   "outputs": [],
   "source": [
    "from __future__ import division\n",
    "#import required modules\n",
    "import pandas as pd \n",
    "from IPython.display import display\n",
    "import numpy as np\n",
    "#matplotlib for additional coustomization\n",
    "from matplotlib import pyplot as plt\n",
    "%matplotlib inline\n",
    "\n",
    "#seaborn for plotting and styling\n",
    "import seaborn as sns\n",
    "# to supress printing of exponential notation in pandas\n",
    "pd.options.display.float_format = '{:20,.2f}'.format"
   ]
  },
  {
   "cell_type": "code",
   "execution_count": 142,
   "metadata": {
    "scrolled": true
   },
   "outputs": [],
   "source": [
    "#helper functions\n",
    "def getPecentage(df1, df2):\n",
    "    return df1.shape[0] / df2.shape[0] * 100\n",
    "\n",
    "def bold(text_to_bold):\n",
    "    \"\"\"\n",
    "    Bolds given string.\n",
    "    args:todo\n",
    "    returns:todo\n",
    "    \"\"\"\n",
    "    bold = \"\\033[1m\"\n",
    "    reset = \"\\033[0;0m\"\n",
    "    return bold + text_to_bold + reset\n",
    "\n",
    "def count_plot(column, axis, df, percent, title=''):\n",
    "    total_rows = df.shape[0]\n",
    "    plt.figure(figsize=(16,4))\n",
    "    if axis == 'x':\n",
    "        ax = sns.countplot(x=column, data=df)\n",
    "    elif axis == 'y':\n",
    "        ax = sns.countplot(y=column, data=df)\n",
    "    \n",
    "#     ax.title = title\n",
    "    \n",
    "    if percent == 'show' and axis != 'y':\n",
    "        for p in ax.patches:\n",
    "            height=p.get_height()\n",
    "            percent = (height*100)/total_rows\n",
    "            total_percent = (height*100)/totalrows\n",
    "#             ax.text((p.get_x() + p.get_width()/2), p.get_height()+250, '{:1.1f} %'.format(percent), ha='center')\n",
    "            ax.text((p.get_x() + p.get_width()/2), p.get_height()+250, '{:1.1f} %'.format(percent) + ' / ' + '{:1.1f} %'.format(total_percent), ha='center')\n",
    "            \n",
    "def showAirbagStats(d, data):\n",
    "    filter_ = (d.D_airbagAvail == 'yes') & (d.airbagAvail == 'yes')\n",
    "    airbag_data = d[filter_]\n",
    "    \n",
    "    condition = ['Airbag Avail (Both)', 'Psngr\\'s MF', 'Drvr\\'s MF', 'Both\\'s MF']\n",
    "    percentage = []\n",
    "    \n",
    "#     print 'Both had airbag Avail: ', getPecentage(airbag_data, data), '%'\n",
    "    percentage.append(getPecentage(airbag_data, data))\n",
    "    \n",
    "    filter_ = (airbag_data.D_airbagDeploy == 'yes') & (airbag_data.airbagDeploy == 'no')\n",
    "# print 'ONLY Passenger\\'s airbag malfucntioned ', getPecentage(airbag_data[filter_], data), '%'\n",
    "    percentage.append(getPecentage(airbag_data[filter_], data))\n",
    "    \n",
    "    filter_ = (airbag_data.D_airbagDeploy == 'no') & (airbag_data.airbagDeploy == 'yes')\n",
    "    # print 'ONLY Driver\\'s airbag malfucntioned ', getPecentage(airbag_data[filter_], data), '%'\n",
    "    percentage.append(getPecentage(airbag_data[filter_], data))\n",
    "\n",
    "    filter_ = (data.D_airbagDeploy == 'no') & (data.airbagDeploy == 'no')\n",
    "    # print 'Both\\'s airbag malfucntioned ', getPecentage(airbag_data[filter_], data), '%'\n",
    "    percentage.append(getPecentage(airbag_data[filter_], data))\n",
    "    \n",
    "    df = pd.DataFrame()\n",
    "    df['condition'] = condition\n",
    "    df['percentage'] = percentage\n",
    "    return df"
   ]
  },
  {
   "cell_type": "markdown",
   "metadata": {},
   "source": [
    "### Loading data"
   ]
  },
  {
   "cell_type": "code",
   "execution_count": 143,
   "metadata": {},
   "outputs": [
    {
     "name": "stdout",
     "output_type": "stream",
     "text": [
      "Data shape:\n",
      "151158 Rows x 17 Columns\n"
     ]
    }
   ],
   "source": [
    "data = pd.read_csv('data/FARS.csv')\n",
    "data = data.drop(labels=['Unnamed: 0'], axis=1)\n",
    "print \"Data shape:\"\n",
    "print \"{} Rows x {} Columns\".format(str(data.shape[0]), str(data.shape[1]))\n",
    "data.head(10)\n",
    "\n",
    "totalrows = len(data.index)"
   ]
  },
  {
   "cell_type": "markdown",
   "metadata": {},
   "source": [
    "## Let's see the distribution of inimpact position"
   ]
  },
  {
   "cell_type": "markdown",
   "metadata": {},
   "source": [
    "### inimpact: location code of initial impact\n"
   ]
  },
  {
   "cell_type": "code",
   "execution_count": 144,
   "metadata": {
    "scrolled": false
   },
   "outputs": [
    {
     "name": "stdout",
     "output_type": "stream",
     "text": [
      "total impact points:  24\n"
     ]
    },
    {
     "data": {
      "image/png": "[encoded data removed]",
      "text/plain": [
       "<matplotlib.figure.Figure at 0x7f547a3a9910>"
      ]
     },
     "metadata": {},
     "output_type": "display_data"
    }
   ],
   "source": [
    "print 'total impact points: ', len(data.inimpact.value_counts().keys())\n",
    "count_plot('inimpact', 'x', data, 'show', 'Impact dist in accidents')"
   ]
  },
  {
   "cell_type": "markdown",
   "metadata": {},
   "source": [
    "**44%** of the accidents by the inimpact **12** (front)\n",
    "\n",
    "**20%** by inimpact **3** and **9**"
   ]
  },
  {
   "cell_type": "markdown",
   "metadata": {},
   "source": [
    "### Lets dig down more to see why 44% of the accidents by inimpact 12"
   ]
  },
  {
   "cell_type": "code",
   "execution_count": 145,
   "metadata": {
    "collapsed": true
   },
   "outputs": [],
   "source": [
    "filter_ = (data.inimpact == 12)\n",
    "data_specific_inimpact = data[filter_]"
   ]
  },
  {
   "cell_type": "markdown",
   "metadata": {},
   "source": [
    "### Effect of  airbags"
   ]
  },
  {
   "cell_type": "markdown",
   "metadata": {},
   "source": [
    "#### Lets see the type of airbag that deployed in case of impact 12"
   ]
  },
  {
   "cell_type": "code",
   "execution_count": 146,
   "metadata": {},
   "outputs": [
    {
     "data": {
      "image/png": "[encoded data removed]",
      "text/plain": [
       "<matplotlib.figure.Figure at 0x7f54825b5590>"
      ]
     },
     "metadata": {},
     "output_type": "display_data"
    }
   ],
   "source": [
    "count_plot('airbag', 'x', data_specific_inimpact, 'show')"
   ]
  },
  {
   "cell_type": "markdown",
   "metadata": {},
   "source": [
    "In **37%** cases, there **wasn't** any airbag **installed** in the car for **both** driver and the passenger.\n",
    "\n",
    "In **31%** cases where airbag **1** (front) were the airbags that were **deployed**.\n",
    "\n",
    "In **14%** cases, airbags were installed but **couldn't deployed**"
   ]
  },
  {
   "cell_type": "markdown",
   "metadata": {},
   "source": [
    "### About Seatbelt (todo. need more critical analysis)"
   ]
  },
  {
   "cell_type": "code",
   "execution_count": 148,
   "metadata": {
    "scrolled": false
   },
   "outputs": [
    {
     "data": {
      "image/png": "[encoded data removed]",
      "text/plain": [
       "<matplotlib.figure.Figure at 0x7f547cf18790>"
      ]
     },
     "metadata": {},
     "output_type": "display_data"
    },
    {
     "data": {
      "image/png": "[encoded data removed]",
      "text/plain": [
       "<matplotlib.figure.Figure at 0x7f547c987790>"
      ]
     },
     "metadata": {},
     "output_type": "display_data"
    }
   ],
   "source": [
    "filter_p = (data_specific_inimpact.injury == 4) & (data_specific_inimpact.airbagDeploy == 'no') & (data_specific_inimpact.airbagAvail == 'yes')\n",
    "count_plot('Restraint', 'x', data_specific_inimpact[filter_p], 'show')\n",
    "\n",
    "filter_p = (data_specific_inimpact.injury == 4) & (data_specific_inimpact.airbagDeploy == 'yes') & (data_specific_inimpact.airbagAvail == 'yes')\n",
    "count_plot('Restraint', 'x', data_specific_inimpact[filter_p], 'show')"
   ]
  },
  {
   "cell_type": "markdown",
   "metadata": {},
   "source": [
    "In most of the incidents, when inimpact was 12 and airbag malfunctioned, both passenger and driver were not fastening the seatbelt."
   ]
  },
  {
   "cell_type": "code",
   "execution_count": null,
   "metadata": {},
   "outputs": [],
   "source": [
    "filter_d = (data_specific_inimpact.D_injury == 4) & (data_specific_inimpact.D_airbagDeploy == 'no')\n",
    "count_plot('D_Restraint', 'x', data_specific_inimpact[filter_d], 'show')\n",
    "\n",
    "filter_d = (data_specific_inimpact.D_injury == 4) & (data_specific_inimpact.D_airbagDeploy == 'yes')\n",
    "count_plot('D_Restraint', 'x', data_specific_inimpact[filter_d], 'show')"
   ]
  },
  {
   "cell_type": "markdown",
   "metadata": {},
   "source": [
    "#### Were they deployed? When they were available for both passenger and the driver and they died"
   ]
  },
  {
   "cell_type": "code",
   "execution_count": null,
   "metadata": {
    "scrolled": false
   },
   "outputs": [],
   "source": [
    "filter_ = (data_specific_inimpact.D_airbagAvail == 'yes') & (data_specific_inimpact.airbagAvail == 'yes')\n",
    "data_impact_aibagAvail = data_specific_inimpact[filter_]\n",
    "\n",
    "count_plot('airbagDeploy', 'x', data_impact_aibagAvail[data_impact_aibagAvail.injury == 4], 'show') # passenger's airbag deployement status \n",
    "count_plot('D_airbagDeploy', 'x', data_impact_aibagAvail[data_impact_aibagAvail.D_injury == 4], 'show') # driver's airbag deployement status"
   ]
  },
  {
   "cell_type": "markdown",
   "metadata": {},
   "source": [
    "inimpact: 12\n",
    "\n",
    "**16.6%** cases, where **passenger died** and airbag didn't deploy\n",
    "\n",
    "**15.8%** cases, where **driver died** and airbag didn't work."
   ]
  },
  {
   "cell_type": "markdown",
   "metadata": {},
   "source": [
    "#### Lets see some stats about airbag 1 (front deployed for both or not)"
   ]
  },
  {
   "cell_type": "code",
   "execution_count": null,
   "metadata": {
    "scrolled": false
   },
   "outputs": [],
   "source": [
    "filter_ = (data_specific_inimpact.airbag == 1) & (data_specific_inimpact.airbagAvail == 'yes') & (data_specific_inimpact.D_airbagAvail == 'yes')\n",
    "data_inimpact_airbag1 = data_specific_inimpact[filter_]\n",
    "count_plot('airbagDeploy', 'x', data_inimpact_airbag1, 'show')\n",
    "count_plot('D_airbagDeploy', 'x', data_inimpact_airbag1, 'show')"
   ]
  },
  {
   "cell_type": "markdown",
   "metadata": {},
   "source": [
    "**14%** cases of inimpact 12, airbag 1:\n",
    "\n",
    "Paseenger's airbag always worked but driver's aibag malfuntioned **1.5%** of the cases"
   ]
  },
  {
   "cell_type": "markdown",
   "metadata": {},
   "source": [
    "# WHOLE DATA"
   ]
  },
  {
   "cell_type": "markdown",
   "metadata": {},
   "source": [
    "### Death's stats"
   ]
  },
  {
   "cell_type": "code",
   "execution_count": null,
   "metadata": {
    "collapsed": true
   },
   "outputs": [],
   "source": [
    "def addDeathType(row):\n",
    "    if (row.D_injury != 4) & (row.injury != 4):\n",
    "        return 'None'\n",
    "    elif (row.D_injury == 4) & (row.injury == 4):\n",
    "        return 'Both'\n",
    "    elif (row.D_injury != 4) & (row.injury == 4):\n",
    "        return 'Psngr'\n",
    "    else:\n",
    "        return 'Drvr'\n",
    "data['death_type'] = data.apply(addDeathType, axis=1)"
   ]
  },
  {
   "cell_type": "code",
   "execution_count": null,
   "metadata": {
    "scrolled": true
   },
   "outputs": [],
   "source": [
    "count_plot('death_type', 'x', data, 'show')"
   ]
  },
  {
   "cell_type": "markdown",
   "metadata": {},
   "source": [
    "40% cases where no one died"
   ]
  },
  {
   "cell_type": "code",
   "execution_count": null,
   "metadata": {},
   "outputs": [],
   "source": [
    "death_grp_data = data.groupby(['inimpact', 'death_type']).count().reset_index()\n",
    "death_grp_data.rename(columns={'caseid': 'death_type_count'}, inplace=True)\n",
    "death_grp_data = death_grp_data[['inimpact', 'death_type', 'death_type_count']]"
   ]
  },
  {
   "cell_type": "code",
   "execution_count": null,
   "metadata": {},
   "outputs": [],
   "source": [
    "sns.set_style('darkgrid', {'legend.frameon':True})\n",
    "g = sns.factorplot(x=\"death_type\",\n",
    "                   col=\"inimpact\", \n",
    "                   data=data, col_wrap=6, kind=\"count\", size=4, aspect=0.7,\n",
    "                   sharex=False\n",
    "                  )"
   ]
  },
  {
   "cell_type": "code",
   "execution_count": null,
   "metadata": {
    "collapsed": true
   },
   "outputs": [],
   "source": []
  }
 ],
 "metadata": {
  "kernelspec": {
   "display_name": "Python 2",
   "language": "python",
   "name": "python2"
  },
  "language_info": {
   "codemirror_mode": {
    "name": "ipython",
    "version": 2
   },
   "file_extension": ".py",
   "mimetype": "text/x-python",
   "name": "python",
   "nbconvert_exporter": "python",
   "pygments_lexer": "ipython2",
   "version": "2.7.13"
  }
 },
 "nbformat": 4,
 "nbformat_minor": 2
}
