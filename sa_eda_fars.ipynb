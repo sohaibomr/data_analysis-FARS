{
 "cells": [
  {
   "cell_type": "markdown",
   "metadata": {},
   "source": [
    "# Exploring Data to Get High Level Statistics"
   ]
  },
  {
   "cell_type": "code",
   "execution_count": 95,
   "metadata": {},
   "outputs": [
    {
     "data": {
      "text/html": [
       "<script>requirejs.config({paths: { 'plotly': ['https://cdn.plot.ly/plotly-latest.min']},});if(!window.Plotly) {{require(['plotly'],function(plotly) {window.Plotly=plotly;});}}</script>"
      ],
      "text/vnd.plotly.v1+html": [
       "<script>requirejs.config({paths: { 'plotly': ['https://cdn.plot.ly/plotly-latest.min']},});if(!window.Plotly) {{require(['plotly'],function(plotly) {window.Plotly=plotly;});}}</script>"
      ]
     },
     "metadata": {},
     "output_type": "display_data"
    }
   ],
   "source": [
    "from __future__ import division\n",
    "#import required modules\n",
    "import pandas as pd \n",
    "from IPython.display import display\n",
    "import numpy as np\n",
    "#matplotlib for additional coustomization\n",
    "from matplotlib import pyplot as plt\n",
    "%matplotlib inline\n",
    "\n",
    "#seaborn for plotting and styling\n",
    "import seaborn as sns\n",
    "\n",
    "#todo: need to shift to plotly\n",
    "from plotly.offline import init_notebook_mode, iplot\n",
    "import plotly.figure_factory as ff\n",
    "from plotly.graph_objs import *\n",
    "from plotly import tools\n",
    "\n",
    "sns.color_palette(\"muted\")\n",
    "\n",
    "\n",
    "# to supress printing of exponential notation in pandas\n",
    "pd.options.display.float_format = '{:20,.2f}'.format\n",
    "\n",
    "init_notebook_mode(connected=True)         # initiate notebook for offline plot"
   ]
  },
  {
   "cell_type": "code",
   "execution_count": 96,
   "metadata": {
    "collapsed": true,
    "scrolled": true
   },
   "outputs": [],
   "source": [
    "#helper functions\n",
    "def getPecentage(df1, df2):\n",
    "    return df1.shape[0] / df2.shape[0] * 100\n",
    "\n",
    "def bold(text_to_bold):\n",
    "    \"\"\"\n",
    "    Bolds given string.\n",
    "    args:todo\n",
    "    returns:todo\n",
    "    \"\"\"\n",
    "    bold = \"\\033[1m\"\n",
    "    reset = \"\\033[0;0m\"\n",
    "    return bold + text_to_bold + reset\n",
    "\n",
    "def count_plot(column, axis, df, percent='no', title='', figsize=(16,3)):\n",
    "    total_rows = df.shape[0]\n",
    "    plt.figure(figsize=figsize)\n",
    "    plt.title(title)\n",
    "    if axis == 'x':\n",
    "        ax = sns.countplot(x=column, data=df)\n",
    "    elif axis == 'y':\n",
    "        ax = sns.countplot(y=column, data=df)\n",
    "    \n",
    "#     ax.title = title\n",
    "    \n",
    "    if percent == 'show' and axis != 'y':\n",
    "        for p in ax.patches:\n",
    "            height=p.get_height()\n",
    "            percent = (height*100)/total_rows\n",
    "            total_percent = (height*100)/totalrows\n",
    "#             ax.text((p.get_x() + p.get_width()/2), p.get_height()+250, '{:1.1f} %'.format(percent), ha='center')\n",
    "            ax.text((p.get_x() + p.get_width()/2), p.get_height()+0.2, '{:1.1f} %'.format(percent) + ' / ' + '{:1.1f} %'.format(total_percent), ha='center')\n",
    "\n",
    "def stacked_chart(df, x, legend, title=None, barmode=None, xaxistitle=None, yaxistitle=None, normalize=None, figsize=(16,5)):\n",
    "    \n",
    "    title = \"\" if title is None else title\n",
    "    xaxistitle = \"\" if xaxistitle is None else xaxistitle\n",
    "    yaxistitle = \"\" if yaxistitle is None else yaxistitle\n",
    "    normalize = False if normalize is None else normalize\n",
    "    barmode = 'stack' if barmode is None else barmode\n",
    "    \n",
    "    ct = pd.crosstab(index=df[x], columns=df[legend], normalize=normalize).rename_axis(None, axis=1).reset_index()\n",
    "    legend_list = ct.columns[1:]\n",
    "    \n",
    "    #data for chart\n",
    "    data = [Bar(x=ct[x], y=ct[col], name=str(col)) for col in legend_list]\n",
    "    layout = Layout(title=title, barmode=barmode,\n",
    "                   xaxis=dict(title=xaxistitle,showticklabels=True, type='category'),\n",
    "                yaxis=dict(title=yaxistitle))\n",
    "    \n",
    "    fig = Figure(data=data, layout=layout)\n",
    "    \n",
    "    return fig\n",
    "\n",
    "def factorplot(x_, col_, data_, title_=''):\n",
    "    g = sns.factorplot(x=x_,\n",
    "                   col=col_, \n",
    "                   data=data_, col_wrap=6, kind=\"count\", size=4, aspect=0.7,\n",
    "                   sharex=False\n",
    "                  )\n",
    "    plt.subplots_adjust(top=0.95)\n",
    "    g.fig.suptitle(title_)\n",
    "    # factorplot(x='restraint', cols='year', data=data)\n",
    "    plt.show()"
   ]
  },
  {
   "cell_type": "markdown",
   "metadata": {},
   "source": [
    "### Loading data"
   ]
  },
  {
   "cell_type": "code",
   "execution_count": 97,
   "metadata": {},
   "outputs": [
    {
     "name": "stdout",
     "output_type": "stream",
     "text": [
      "Data shape:\n",
      "151158 Rows x 17 Columns\n"
     ]
    }
   ],
   "source": [
    "data = pd.read_csv('data/FARS.csv')\n",
    "data = data.drop(labels=['Unnamed: 0'], axis=1)\n",
    "print \"Data shape:\"\n",
    "print \"{} Rows x {} Columns\".format(str(data.shape[0]), str(data.shape[1]))\n",
    "data.head(10)\n",
    "\n",
    "totalrows = len(data.index)"
   ]
  },
  {
   "cell_type": "markdown",
   "metadata": {},
   "source": [
    "## Let's see the distribution of inimpact position"
   ]
  },
  {
   "cell_type": "markdown",
   "metadata": {},
   "source": [
    "### inimpact: location code of initial impact\n"
   ]
  },
  {
   "cell_type": "code",
   "execution_count": 98,
   "metadata": {
    "scrolled": false
   },
   "outputs": [
    {
     "name": "stdout",
     "output_type": "stream",
     "text": [
      "total impact points:  24\n"
     ]
    },
    {
     "data": {
      "image/png": "[encoded data removed]",
      "text/plain": [
       "<matplotlib.figure.Figure at 0x7f7264752c90>"
      ]
     },
     "metadata": {},
     "output_type": "display_data"
    }
   ],
   "source": [
    "print 'total impact points: ', len(data.inimpact.value_counts().keys())\n",
    "count_plot('inimpact', 'x', data, 'show', 'Impact Distribution in Accidents', figsize=(16,5))"
   ]
  },
  {
   "cell_type": "markdown",
   "metadata": {},
   "source": [
    "**44%** of the accidents by the inimpact **12** (front)\n",
    "\n",
    "**20%** by inimpact **3** and **9**"
   ]
  },
  {
   "cell_type": "markdown",
   "metadata": {},
   "source": [
    "### Lets dig down more to see about 44% of the accidents by inimpact 12"
   ]
  },
  {
   "cell_type": "code",
   "execution_count": 99,
   "metadata": {
    "collapsed": true
   },
   "outputs": [],
   "source": [
    "filter_ = (data.inimpact == 12)\n",
    "data_specific_inimpact = data[filter_]"
   ]
  },
  {
   "cell_type": "markdown",
   "metadata": {},
   "source": [
    "### About Seatbelt (When inimpact12 hit from front and airbag didn't deploy)\n"
   ]
  },
  {
   "cell_type": "markdown",
   "metadata": {},
   "source": [
    "#### Availability"
   ]
  },
  {
   "cell_type": "code",
   "execution_count": 100,
   "metadata": {
    "scrolled": false
   },
   "outputs": [
    {
     "data": {
      "image/png": "[encoded data removed]",
      "text/plain": [
       "<matplotlib.figure.Figure at 0x7f726a72c290>"
      ]
     },
     "metadata": {},
     "output_type": "display_data"
    }
   ],
   "source": [
    "count_plot('restraint', 'x', data_specific_inimpact, 'show', \\\n",
    "           title='Restraint types  distribution in Accidents')"
   ]
  },
  {
   "cell_type": "markdown",
   "metadata": {},
   "source": [
    "**60%** accidents when there was **Shoulder and Lab seatbelt** was available and **27%** where **none** was available"
   ]
  },
  {
   "cell_type": "markdown",
   "metadata": {},
   "source": [
    "### Lets examine effect of seat belt\n",
    "#### Stats for Passenger "
   ]
  },
  {
   "cell_type": "markdown",
   "metadata": {},
   "source": [
    "When seatbelt was fastened and airbag didn't deploy"
   ]
  },
  {
   "cell_type": "code",
   "execution_count": 101,
   "metadata": {},
   "outputs": [
    {
     "data": {
      "image/png": "[encoded data removed]",
      "text/plain": [
       "<matplotlib.figure.Figure at 0x7f7269414c90>"
      ]
     },
     "metadata": {},
     "output_type": "display_data"
    }
   ],
   "source": [
    "filter_p = (data_specific_inimpact.airbagDeploy == 'no') & (data_specific_inimpact.airbagAvail == 'yes') \\\n",
    "        & (data_specific_inimpact.Restraint == 'yes')\n",
    "count_plot('injury', 'x', data_specific_inimpact[filter_p], \\\n",
    "           title='Passenger\\'s Injury\\'s comparison when Seatbelt was fastened')"
   ]
  },
  {
   "cell_type": "markdown",
   "metadata": {},
   "source": [
    "When seatbelt wasn't fastened and aribag didn't deploy"
   ]
  },
  {
   "cell_type": "code",
   "execution_count": 102,
   "metadata": {
    "scrolled": true
   },
   "outputs": [
    {
     "data": {
      "image/png": "[encoded data removed]",
      "text/plain": [
       "<matplotlib.figure.Figure at 0x7f726a854150>"
      ]
     },
     "metadata": {},
     "output_type": "display_data"
    }
   ],
   "source": [
    "filter_p = (data_specific_inimpact.airbagDeploy == 'no') & (data_specific_inimpact.airbagAvail == 'yes') \\\n",
    "        & (data_specific_inimpact.Restraint == 'no')\n",
    "count_plot('injury', 'x', data_specific_inimpact[filter_p], \\\n",
    "           title='Passenger\\'s Injury\\'s comparison when Seatbelt wasn\\'t fastened')"
   ]
  },
  {
   "cell_type": "markdown",
   "metadata": {},
   "source": [
    "Graphs clearly showed that seatbelt helped in reduction of deaths and injuries when seatbelt was fastened when car hit from front and airbag didn't deploy"
   ]
  },
  {
   "cell_type": "markdown",
   "metadata": {},
   "source": [
    "#### Stats for Driver"
   ]
  },
  {
   "cell_type": "code",
   "execution_count": null,
   "metadata": {
    "scrolled": true
   },
   "outputs": [],
   "source": [
    "\n"
   ]
  },
  {
   "cell_type": "code",
   "execution_count": 103,
   "metadata": {
    "scrolled": true
   },
   "outputs": [
    {
     "data": {
      "image/png": "[encoded data removed]",
      "text/plain": [
       "<matplotlib.figure.Figure at 0x7f726a4cb1d0>"
      ]
     },
     "metadata": {},
     "output_type": "display_data"
    }
   ],
   "source": [
    "filter_p = (data_specific_inimpact.D_airbagDeploy == 'no') & (data_specific_inimpact.D_airbagAvail == 'yes') \\\n",
    "            & (data_specific_inimpact.D_Restraint == 'no')\n",
    "count_plot('D_injury', 'x', data_specific_inimpact[filter_p], \\\n",
    "           title='Driver\\'s Injury\\'s comparison when Seatbelt wasn\\'t fastened')"
   ]
  },
  {
   "cell_type": "markdown",
   "metadata": {},
   "source": [
    "\n"
   ]
  },
  {
   "cell_type": "markdown",
   "metadata": {},
   "source": [
    "### Effects of  Airbag\n",
    "\n",
    "#### Lets see the type of airbag that deployed in case of impact 12"
   ]
  },
  {
   "cell_type": "code",
   "execution_count": 104,
   "metadata": {},
   "outputs": [
    {
     "data": {
      "image/png": "[encoded data removed]",
      "text/plain": [
       "<matplotlib.figure.Figure at 0x7f72645bd490>"
      ]
     },
     "metadata": {},
     "output_type": "display_data"
    }
   ],
   "source": [
    "count_plot('airbag', 'x', data_specific_inimpact, 'show', title='Airbag types distribution in Accidents')"
   ]
  },
  {
   "cell_type": "markdown",
   "metadata": {},
   "source": [
    "In **37%** cases, there **wasn't** any airbag **installed** in the car for **both** driver and the passenger.\n",
    "\n",
    "In **31%** cases where airbag **1** (front) were the airbags that were **deployed**.\n",
    "\n",
    "In **14%** cases, airbags were installed but **couldn't deployed**"
   ]
  },
  {
   "cell_type": "markdown",
   "metadata": {},
   "source": [
    "### Airbags deployed successfully? (Available for both passenger and the driver and they DIED)"
   ]
  },
  {
   "cell_type": "code",
   "execution_count": 105,
   "metadata": {},
   "outputs": [
    {
     "data": {
      "text/html": [
       "<div>\n",
       "<style>\n",
       "    .dataframe thead tr:only-child th {\n",
       "        text-align: right;\n",
       "    }\n",
       "\n",
       "    .dataframe thead th {\n",
       "        text-align: left;\n",
       "    }\n",
       "\n",
       "    .dataframe tbody tr th {\n",
       "        vertical-align: top;\n",
       "    }\n",
       "</style>\n",
       "<table border=\"1\" class=\"dataframe\">\n",
       "  <thead>\n",
       "    <tr style=\"text-align: right;\">\n",
       "      <th></th>\n",
       "      <th>airbagDeploy</th>\n",
       "      <th>injury</th>\n",
       "    </tr>\n",
       "  </thead>\n",
       "  <tbody>\n",
       "    <tr>\n",
       "      <th>0</th>\n",
       "      <td>no</td>\n",
       "      <td>other</td>\n",
       "    </tr>\n",
       "    <tr>\n",
       "      <th>1</th>\n",
       "      <td>no</td>\n",
       "      <td>other</td>\n",
       "    </tr>\n",
       "    <tr>\n",
       "      <th>2</th>\n",
       "      <td>no</td>\n",
       "      <td>other</td>\n",
       "    </tr>\n",
       "    <tr>\n",
       "      <th>3</th>\n",
       "      <td>yes</td>\n",
       "      <td>4</td>\n",
       "    </tr>\n",
       "    <tr>\n",
       "      <th>4</th>\n",
       "      <td>no</td>\n",
       "      <td>other</td>\n",
       "    </tr>\n",
       "  </tbody>\n",
       "</table>\n",
       "</div>"
      ],
      "text/plain": [
       "  airbagDeploy injury\n",
       "0           no  other\n",
       "1           no  other\n",
       "2           no  other\n",
       "3          yes      4\n",
       "4           no  other"
      ]
     },
     "execution_count": 105,
     "metadata": {},
     "output_type": "execute_result"
    }
   ],
   "source": [
    "#injury vs others\n",
    "\n",
    "passenger_injury_death = data[['airbagDeploy', 'injury']]\n",
    "passenger_injury_death.loc[passenger_injury_death.injury != 4, 'injury'] = 'other'\n",
    "passenger_injury_death.head()"
   ]
  },
  {
   "cell_type": "code",
   "execution_count": 106,
   "metadata": {},
   "outputs": [
    {
     "data": {
      "application/vnd.plotly.v1+json": {
       "data": [
        {
         "name": "0",
         "type": "bar",
         "x": [
          "NA-code",
          "no",
          "yes"
         ],
         "y": [
          259,
          1440,
          211
         ]
        },
        {
         "name": "1",
         "type": "bar",
         "x": [
          "NA-code",
          "no",
          "yes"
         ],
         "y": [
          295,
          1274,
          469
         ]
        },
        {
         "name": "2",
         "type": "bar",
         "x": [
          "NA-code",
          "no",
          "yes"
         ],
         "y": [
          858,
          4222,
          1571
         ]
        },
        {
         "name": "3",
         "type": "bar",
         "x": [
          "NA-code",
          "no",
          "yes"
         ],
         "y": [
          1454,
          6739,
          2737
         ]
        },
        {
         "name": "4",
         "type": "bar",
         "x": [
          "NA-code",
          "no",
          "yes"
         ],
         "y": [
          3232,
          15116,
          6494
         ]
        },
        {
         "name": "5",
         "type": "bar",
         "x": [
          "NA-code",
          "no",
          "yes"
         ],
         "y": [
          15,
          43,
          23
         ]
        }
       ],
       "layout": {
        "barmode": "stack",
        "title": "Injury Analysis over Airbag Deployment when Seatbelt was NOT Fastened",
        "xaxis": {
         "showticklabels": true,
         "title": "Injury Type",
         "type": "category"
        },
        "yaxis": {
         "title": "# of Accidents"
        }
       }
      },
      "text/html": [
       "<div id=\"cd36fc36-abcc-4482-b4f2-7e6fa8b2cd93\" style=\"height: 525px; width: 100%;\" class=\"plotly-graph-div\"></div><script type=\"text/javascript\">require([\"plotly\"], function(Plotly) { window.PLOTLYENV=window.PLOTLYENV || {};window.PLOTLYENV.BASE_URL=\"https://plot.ly\";Plotly.newPlot(\"cd36fc36-abcc-4482-b4f2-7e6fa8b2cd93\", [{\"y\": [259, 1440, 211], \"x\": [\"NA-code\", \"no\", \"yes\"], \"type\": \"bar\", \"name\": \"0\"}, {\"y\": [295, 1274, 469], \"x\": [\"NA-code\", \"no\", \"yes\"], \"type\": \"bar\", \"name\": \"1\"}, {\"y\": [858, 4222, 1571], \"x\": [\"NA-code\", \"no\", \"yes\"], \"type\": \"bar\", \"name\": \"2\"}, {\"y\": [1454, 6739, 2737], \"x\": [\"NA-code\", \"no\", \"yes\"], \"type\": \"bar\", \"name\": \"3\"}, {\"y\": [3232, 15116, 6494], \"x\": [\"NA-code\", \"no\", \"yes\"], \"type\": \"bar\", \"name\": \"4\"}, {\"y\": [15, 43, 23], \"x\": [\"NA-code\", \"no\", \"yes\"], \"type\": \"bar\", \"name\": \"5\"}], {\"barmode\": \"stack\", \"title\": \"Injury Analysis over Airbag Deployment when Seatbelt was NOT Fastened\", \"xaxis\": {\"showticklabels\": true, \"type\": \"category\", \"title\": \"Injury Type\"}, \"yaxis\": {\"title\": \"# of Accidents\"}}, {\"linkText\": \"Export to plot.ly\", \"showLink\": true})});</script>"
      ],
      "text/vnd.plotly.v1+html": [
       "<div id=\"cd36fc36-abcc-4482-b4f2-7e6fa8b2cd93\" style=\"height: 525px; width: 100%;\" class=\"plotly-graph-div\"></div><script type=\"text/javascript\">require([\"plotly\"], function(Plotly) { window.PLOTLYENV=window.PLOTLYENV || {};window.PLOTLYENV.BASE_URL=\"https://plot.ly\";Plotly.newPlot(\"cd36fc36-abcc-4482-b4f2-7e6fa8b2cd93\", [{\"y\": [259, 1440, 211], \"x\": [\"NA-code\", \"no\", \"yes\"], \"type\": \"bar\", \"name\": \"0\"}, {\"y\": [295, 1274, 469], \"x\": [\"NA-code\", \"no\", \"yes\"], \"type\": \"bar\", \"name\": \"1\"}, {\"y\": [858, 4222, 1571], \"x\": [\"NA-code\", \"no\", \"yes\"], \"type\": \"bar\", \"name\": \"2\"}, {\"y\": [1454, 6739, 2737], \"x\": [\"NA-code\", \"no\", \"yes\"], \"type\": \"bar\", \"name\": \"3\"}, {\"y\": [3232, 15116, 6494], \"x\": [\"NA-code\", \"no\", \"yes\"], \"type\": \"bar\", \"name\": \"4\"}, {\"y\": [15, 43, 23], \"x\": [\"NA-code\", \"no\", \"yes\"], \"type\": \"bar\", \"name\": \"5\"}], {\"barmode\": \"stack\", \"title\": \"Injury Analysis over Airbag Deployment when Seatbelt was NOT Fastened\", \"xaxis\": {\"showticklabels\": true, \"type\": \"category\", \"title\": \"Injury Type\"}, \"yaxis\": {\"title\": \"# of Accidents\"}}, {\"linkText\": \"Export to plot.ly\", \"showLink\": true})});</script>"
      ]
     },
     "metadata": {},
     "output_type": "display_data"
    },
    {
     "data": {
      "application/vnd.plotly.v1+json": {
       "data": [
        {
         "name": "0",
         "type": "bar",
         "x": [
          "NA-code",
          "no",
          "yes"
         ],
         "y": [
          3274,
          15074,
          2342
         ]
        },
        {
         "name": "1",
         "type": "bar",
         "x": [
          "NA-code",
          "no",
          "yes"
         ],
         "y": [
          1459,
          5750,
          3567
         ]
        },
        {
         "name": "2",
         "type": "bar",
         "x": [
          "NA-code",
          "no",
          "yes"
         ],
         "y": [
          2402,
          9062,
          7002
         ]
        },
        {
         "name": "3",
         "type": "bar",
         "x": [
          "NA-code",
          "no",
          "yes"
         ],
         "y": [
          2126,
          8249,
          7047
         ]
        },
        {
         "name": "4",
         "type": "bar",
         "x": [
          "NA-code",
          "no",
          "yes"
         ],
         "y": [
          3357,
          13885,
          9407
         ]
        },
        {
         "name": "5",
         "type": "bar",
         "x": [
          "NA-code",
          "no",
          "yes"
         ],
         "y": [
          25,
          61,
          82
         ]
        }
       ],
       "layout": {
        "barmode": "stack",
        "title": "Injury Analysis over Airbag Deployment when seatbelt was Fastened",
        "xaxis": {
         "showticklabels": true,
         "title": "Injury Type",
         "type": "category"
        },
        "yaxis": {
         "title": "# of Accidents"
        }
       }
      },
      "text/html": [
       "<div id=\"935f5c0c-b65c-4334-a2d4-67a2cd8c2804\" style=\"height: 525px; width: 100%;\" class=\"plotly-graph-div\"></div><script type=\"text/javascript\">require([\"plotly\"], function(Plotly) { window.PLOTLYENV=window.PLOTLYENV || {};window.PLOTLYENV.BASE_URL=\"https://plot.ly\";Plotly.newPlot(\"935f5c0c-b65c-4334-a2d4-67a2cd8c2804\", [{\"y\": [3274, 15074, 2342], \"x\": [\"NA-code\", \"no\", \"yes\"], \"type\": \"bar\", \"name\": \"0\"}, {\"y\": [1459, 5750, 3567], \"x\": [\"NA-code\", \"no\", \"yes\"], \"type\": \"bar\", \"name\": \"1\"}, {\"y\": [2402, 9062, 7002], \"x\": [\"NA-code\", \"no\", \"yes\"], \"type\": \"bar\", \"name\": \"2\"}, {\"y\": [2126, 8249, 7047], \"x\": [\"NA-code\", \"no\", \"yes\"], \"type\": \"bar\", \"name\": \"3\"}, {\"y\": [3357, 13885, 9407], \"x\": [\"NA-code\", \"no\", \"yes\"], \"type\": \"bar\", \"name\": \"4\"}, {\"y\": [25, 61, 82], \"x\": [\"NA-code\", \"no\", \"yes\"], \"type\": \"bar\", \"name\": \"5\"}], {\"barmode\": \"stack\", \"title\": \"Injury Analysis over Airbag Deployment when seatbelt was Fastened\", \"xaxis\": {\"showticklabels\": true, \"type\": \"category\", \"title\": \"Injury Type\"}, \"yaxis\": {\"title\": \"# of Accidents\"}}, {\"linkText\": \"Export to plot.ly\", \"showLink\": true})});</script>"
      ],
      "text/vnd.plotly.v1+html": [
       "<div id=\"935f5c0c-b65c-4334-a2d4-67a2cd8c2804\" style=\"height: 525px; width: 100%;\" class=\"plotly-graph-div\"></div><script type=\"text/javascript\">require([\"plotly\"], function(Plotly) { window.PLOTLYENV=window.PLOTLYENV || {};window.PLOTLYENV.BASE_URL=\"https://plot.ly\";Plotly.newPlot(\"935f5c0c-b65c-4334-a2d4-67a2cd8c2804\", [{\"y\": [3274, 15074, 2342], \"x\": [\"NA-code\", \"no\", \"yes\"], \"type\": \"bar\", \"name\": \"0\"}, {\"y\": [1459, 5750, 3567], \"x\": [\"NA-code\", \"no\", \"yes\"], \"type\": \"bar\", \"name\": \"1\"}, {\"y\": [2402, 9062, 7002], \"x\": [\"NA-code\", \"no\", \"yes\"], \"type\": \"bar\", \"name\": \"2\"}, {\"y\": [2126, 8249, 7047], \"x\": [\"NA-code\", \"no\", \"yes\"], \"type\": \"bar\", \"name\": \"3\"}, {\"y\": [3357, 13885, 9407], \"x\": [\"NA-code\", \"no\", \"yes\"], \"type\": \"bar\", \"name\": \"4\"}, {\"y\": [25, 61, 82], \"x\": [\"NA-code\", \"no\", \"yes\"], \"type\": \"bar\", \"name\": \"5\"}], {\"barmode\": \"stack\", \"title\": \"Injury Analysis over Airbag Deployment when seatbelt was Fastened\", \"xaxis\": {\"showticklabels\": true, \"type\": \"category\", \"title\": \"Injury Type\"}, \"yaxis\": {\"title\": \"# of Accidents\"}}, {\"linkText\": \"Export to plot.ly\", \"showLink\": true})});</script>"
      ]
     },
     "metadata": {},
     "output_type": "display_data"
    },
    {
     "data": {
      "text/plain": [
       "<matplotlib.figure.Figure at 0x7f7264d110d0>"
      ]
     },
     "metadata": {},
     "output_type": "display_data"
    }
   ],
   "source": [
    "plt.figure(figsize=(16,3))\n",
    "filter_ = (data.Restraint == 'no')\n",
    "iplot(stacked_chart(df=data[filter_], x='airbagDeploy', legend='injury', xaxistitle='Airbag Deployment', yaxistitle='# of Accidents', \\\n",
    "                    title='Injury Analysis over Airbag Deployment when Seatbelt was NOT Fastened'))\n",
    "filter_ = (data.Restraint == 'yes')\n",
    "iplot(stacked_chart(df=data[filter_], x='airbagDeploy', legend='injury', xaxistitle='IAirbag Deployment', yaxistitle='# of Accidents', \\\n",
    "                    title='Injury Analysis over Airbag Deployment when seatbelt was Fastened'))\n"
   ]
  },
  {
   "cell_type": "markdown",
   "metadata": {},
   "source": [
    "Graph shows **decrease in Death and increase in no injury** when seatbelt was **fastened**"
   ]
  },
  {
   "cell_type": "code",
   "execution_count": 199,
   "metadata": {},
   "outputs": [
    {
     "data": {
      "application/vnd.plotly.v1+json": {
       "data": [
        {
         "name": "0",
         "type": "bar",
         "x": [
          "NA-code",
          "no",
          "yes"
         ],
         "y": [
          0.04236872239489612,
          0.04994104182562253,
          0.018339852238157324
         ]
        },
        {
         "name": "1",
         "type": "bar",
         "x": [
          "NA-code",
          "no",
          "yes"
         ],
         "y": [
          0.048257811221985934,
          0.04418394950405771,
          0.040764884832681446
         ]
        },
        {
         "name": "2",
         "type": "bar",
         "x": [
          "NA-code",
          "no",
          "yes"
         ],
         "y": [
          0.14035661704564042,
          0.1464243601304016,
          0.13654932637983486
         ]
        },
        {
         "name": "3",
         "type": "bar",
         "x": [
          "NA-code",
          "no",
          "yes"
         ],
         "y": [
          0.23785375429412728,
          0.23371713948810433,
          0.23789656671012605
         ]
        },
        {
         "name": "4",
         "type": "bar",
         "x": [
          "NA-code",
          "no",
          "yes"
         ],
         "y": [
          0.5287093080320628,
          0.5242422140528543,
          0.5644502390265103
         ]
        },
        {
         "name": "5",
         "type": "bar",
         "x": [
          "NA-code",
          "no",
          "yes"
         ],
         "y": [
          0.0024537870112874205,
          0.0014912949989595616,
          0.001999130812690135
         ]
        }
       ],
       "layout": {
        "barmode": "stack",
        "title": "Injury Analysis over Airbag Deployment when seatbelt was NOT Fastened",
        "xaxis": {
         "showticklabels": true,
         "title": "Airbag Deployment",
         "type": "category"
        },
        "yaxis": {
         "title": "Ratio"
        }
       }
      },
      "text/html": [
       "<div id=\"fc8cdd3e-5a68-4359-a916-e76c09ecec49\" style=\"height: 525px; width: 100%;\" class=\"plotly-graph-div\"></div><script type=\"text/javascript\">require([\"plotly\"], function(Plotly) { window.PLOTLYENV=window.PLOTLYENV || {};window.PLOTLYENV.BASE_URL=\"https://plot.ly\";Plotly.newPlot(\"fc8cdd3e-5a68-4359-a916-e76c09ecec49\", [{\"y\": [0.04236872239489612, 0.04994104182562253, 0.018339852238157324], \"x\": [\"NA-code\", \"no\", \"yes\"], \"type\": \"bar\", \"name\": \"0\"}, {\"y\": [0.048257811221985934, 0.04418394950405771, 0.040764884832681446], \"x\": [\"NA-code\", \"no\", \"yes\"], \"type\": \"bar\", \"name\": \"1\"}, {\"y\": [0.14035661704564042, 0.1464243601304016, 0.13654932637983486], \"x\": [\"NA-code\", \"no\", \"yes\"], \"type\": \"bar\", \"name\": \"2\"}, {\"y\": [0.23785375429412728, 0.23371713948810433, 0.23789656671012605], \"x\": [\"NA-code\", \"no\", \"yes\"], \"type\": \"bar\", \"name\": \"3\"}, {\"y\": [0.5287093080320628, 0.5242422140528543, 0.5644502390265103], \"x\": [\"NA-code\", \"no\", \"yes\"], \"type\": \"bar\", \"name\": \"4\"}, {\"y\": [0.0024537870112874205, 0.0014912949989595616, 0.001999130812690135], \"x\": [\"NA-code\", \"no\", \"yes\"], \"type\": \"bar\", \"name\": \"5\"}], {\"barmode\": \"stack\", \"title\": \"Injury Analysis over Airbag Deployment when seatbelt was NOT Fastened\", \"xaxis\": {\"showticklabels\": true, \"type\": \"category\", \"title\": \"Airbag Deployment\"}, \"yaxis\": {\"title\": \"Ratio\"}}, {\"linkText\": \"Export to plot.ly\", \"showLink\": true})});</script>"
      ],
      "text/vnd.plotly.v1+html": [
       "<div id=\"fc8cdd3e-5a68-4359-a916-e76c09ecec49\" style=\"height: 525px; width: 100%;\" class=\"plotly-graph-div\"></div><script type=\"text/javascript\">require([\"plotly\"], function(Plotly) { window.PLOTLYENV=window.PLOTLYENV || {};window.PLOTLYENV.BASE_URL=\"https://plot.ly\";Plotly.newPlot(\"fc8cdd3e-5a68-4359-a916-e76c09ecec49\", [{\"y\": [0.04236872239489612, 0.04994104182562253, 0.018339852238157324], \"x\": [\"NA-code\", \"no\", \"yes\"], \"type\": \"bar\", \"name\": \"0\"}, {\"y\": [0.048257811221985934, 0.04418394950405771, 0.040764884832681446], \"x\": [\"NA-code\", \"no\", \"yes\"], \"type\": \"bar\", \"name\": \"1\"}, {\"y\": [0.14035661704564042, 0.1464243601304016, 0.13654932637983486], \"x\": [\"NA-code\", \"no\", \"yes\"], \"type\": \"bar\", \"name\": \"2\"}, {\"y\": [0.23785375429412728, 0.23371713948810433, 0.23789656671012605], \"x\": [\"NA-code\", \"no\", \"yes\"], \"type\": \"bar\", \"name\": \"3\"}, {\"y\": [0.5287093080320628, 0.5242422140528543, 0.5644502390265103], \"x\": [\"NA-code\", \"no\", \"yes\"], \"type\": \"bar\", \"name\": \"4\"}, {\"y\": [0.0024537870112874205, 0.0014912949989595616, 0.001999130812690135], \"x\": [\"NA-code\", \"no\", \"yes\"], \"type\": \"bar\", \"name\": \"5\"}], {\"barmode\": \"stack\", \"title\": \"Injury Analysis over Airbag Deployment when seatbelt was NOT Fastened\", \"xaxis\": {\"showticklabels\": true, \"type\": \"category\", \"title\": \"Airbag Deployment\"}, \"yaxis\": {\"title\": \"Ratio\"}}, {\"linkText\": \"Export to plot.ly\", \"showLink\": true})});</script>"
      ]
     },
     "metadata": {},
     "output_type": "display_data"
    },
    {
     "data": {
      "application/vnd.plotly.v1+json": {
       "data": [
        {
         "name": "0",
         "type": "bar",
         "x": [
          "NA-code",
          "no",
          "yes"
         ],
         "y": [
          0.2589575259036621,
          0.28943376663274517,
          0.07953271980167759
         ]
        },
        {
         "name": "1",
         "type": "bar",
         "x": [
          "NA-code",
          "no",
          "yes"
         ],
         "y": [
          0.11539982599066677,
          0.11040494614158715,
          0.12113288280639793
         ]
        },
        {
         "name": "2",
         "type": "bar",
         "x": [
          "NA-code",
          "no",
          "yes"
         ],
         "y": [
          0.1899865538242506,
          0.17399819511914133,
          0.23778313580330765
         ]
        },
        {
         "name": "3",
         "type": "bar",
         "x": [
          "NA-code",
          "no",
          "yes"
         ],
         "y": [
          0.16815629201929921,
          0.15838789577773085,
          0.23931130505654227
         ]
        },
        {
         "name": "4",
         "type": "bar",
         "x": [
          "NA-code",
          "no",
          "yes"
         ],
         "y": [
          0.26552242347544097,
          0.2666039438566848,
          0.3194552925595137
         ]
        },
        {
         "name": "5",
         "type": "bar",
         "x": [
          "NA-code",
          "no",
          "yes"
         ],
         "y": [
          0.0019773787866803763,
          0.0011712524721107505,
          0.0027846639725608723
         ]
        }
       ],
       "layout": {
        "barmode": "stack",
        "title": "Injury Analysis over Airbag Deployment when seatbelt was Fastened",
        "xaxis": {
         "showticklabels": true,
         "title": "Airbag Deployment",
         "type": "category"
        },
        "yaxis": {
         "title": "Ratio"
        }
       }
      },
      "text/html": [
       "<div id=\"72b9d5b2-a656-446f-80ae-2d4d53e0b868\" style=\"height: 525px; width: 100%;\" class=\"plotly-graph-div\"></div><script type=\"text/javascript\">require([\"plotly\"], function(Plotly) { window.PLOTLYENV=window.PLOTLYENV || {};window.PLOTLYENV.BASE_URL=\"https://plot.ly\";Plotly.newPlot(\"72b9d5b2-a656-446f-80ae-2d4d53e0b868\", [{\"y\": [0.2589575259036621, 0.28943376663274517, 0.07953271980167759], \"x\": [\"NA-code\", \"no\", \"yes\"], \"type\": \"bar\", \"name\": \"0\"}, {\"y\": [0.11539982599066677, 0.11040494614158715, 0.12113288280639793], \"x\": [\"NA-code\", \"no\", \"yes\"], \"type\": \"bar\", \"name\": \"1\"}, {\"y\": [0.1899865538242506, 0.17399819511914133, 0.23778313580330765], \"x\": [\"NA-code\", \"no\", \"yes\"], \"type\": \"bar\", \"name\": \"2\"}, {\"y\": [0.16815629201929921, 0.15838789577773085, 0.23931130505654227], \"x\": [\"NA-code\", \"no\", \"yes\"], \"type\": \"bar\", \"name\": \"3\"}, {\"y\": [0.26552242347544097, 0.2666039438566848, 0.3194552925595137], \"x\": [\"NA-code\", \"no\", \"yes\"], \"type\": \"bar\", \"name\": \"4\"}, {\"y\": [0.0019773787866803763, 0.0011712524721107505, 0.0027846639725608723], \"x\": [\"NA-code\", \"no\", \"yes\"], \"type\": \"bar\", \"name\": \"5\"}], {\"barmode\": \"stack\", \"title\": \"Injury Analysis over Airbag Deployment when seatbelt was Fastened\", \"xaxis\": {\"showticklabels\": true, \"type\": \"category\", \"title\": \"Airbag Deployment\"}, \"yaxis\": {\"title\": \"Ratio\"}}, {\"linkText\": \"Export to plot.ly\", \"showLink\": true})});</script>"
      ],
      "text/vnd.plotly.v1+html": [
       "<div id=\"72b9d5b2-a656-446f-80ae-2d4d53e0b868\" style=\"height: 525px; width: 100%;\" class=\"plotly-graph-div\"></div><script type=\"text/javascript\">require([\"plotly\"], function(Plotly) { window.PLOTLYENV=window.PLOTLYENV || {};window.PLOTLYENV.BASE_URL=\"https://plot.ly\";Plotly.newPlot(\"72b9d5b2-a656-446f-80ae-2d4d53e0b868\", [{\"y\": [0.2589575259036621, 0.28943376663274517, 0.07953271980167759], \"x\": [\"NA-code\", \"no\", \"yes\"], \"type\": \"bar\", \"name\": \"0\"}, {\"y\": [0.11539982599066677, 0.11040494614158715, 0.12113288280639793], \"x\": [\"NA-code\", \"no\", \"yes\"], \"type\": \"bar\", \"name\": \"1\"}, {\"y\": [0.1899865538242506, 0.17399819511914133, 0.23778313580330765], \"x\": [\"NA-code\", \"no\", \"yes\"], \"type\": \"bar\", \"name\": \"2\"}, {\"y\": [0.16815629201929921, 0.15838789577773085, 0.23931130505654227], \"x\": [\"NA-code\", \"no\", \"yes\"], \"type\": \"bar\", \"name\": \"3\"}, {\"y\": [0.26552242347544097, 0.2666039438566848, 0.3194552925595137], \"x\": [\"NA-code\", \"no\", \"yes\"], \"type\": \"bar\", \"name\": \"4\"}, {\"y\": [0.0019773787866803763, 0.0011712524721107505, 0.0027846639725608723], \"x\": [\"NA-code\", \"no\", \"yes\"], \"type\": \"bar\", \"name\": \"5\"}], {\"barmode\": \"stack\", \"title\": \"Injury Analysis over Airbag Deployment when seatbelt was Fastened\", \"xaxis\": {\"showticklabels\": true, \"type\": \"category\", \"title\": \"Airbag Deployment\"}, \"yaxis\": {\"title\": \"Ratio\"}}, {\"linkText\": \"Export to plot.ly\", \"showLink\": true})});</script>"
      ]
     },
     "metadata": {},
     "output_type": "display_data"
    }
   ],
   "source": [
    "filter_ = (data.Restraint == 'no')\n",
    "iplot(stacked_chart(df=data[filter_], x='airbagDeploy', legend='injury', xaxistitle='Airbag Deployment', yaxistitle='Ratio', \\\n",
    "                    title='Injury Analysis over Airbag Deployment when seatbelt was NOT Fastened', normalize='index'))\n",
    "filter_ = (data.Restraint == 'yes')\n",
    "iplot(stacked_chart(df=data[filter_], x='airbagDeploy', legend='injury', xaxistitle='Airbag Deployment', yaxistitle='Ratio', \\\n",
    "                    title='Injury Analysis over Airbag Deployment when seatbelt was Fastened', normalize='index'))"
   ]
  },
  {
   "cell_type": "markdown",
   "metadata": {},
   "source": [
    "On terms of ratio, we can clearly see the **decrease in death** and **increase in no injury** when seatbelt was **fastened**"
   ]
  },
  {
   "cell_type": "markdown",
   "metadata": {},
   "source": [
    "# WHOLE DATA"
   ]
  },
  {
   "cell_type": "markdown",
   "metadata": {},
   "source": [
    "### Death's stats"
   ]
  },
  {
   "cell_type": "code",
   "execution_count": 108,
   "metadata": {
    "collapsed": true
   },
   "outputs": [],
   "source": [
    "def addDeathType(row):\n",
    "    if (row.D_injury != 4) & (row.injury != 4):\n",
    "        return 'None'\n",
    "    elif (row.D_injury == 4) & (row.injury == 4):\n",
    "        return 'Both'\n",
    "    elif (row.D_injury != 4) & (row.injury == 4):\n",
    "        return 'Psngr'\n",
    "    else:\n",
    "        return 'Drvr'\n",
    "data['death_type'] = data.apply(addDeathType, axis=1)"
   ]
  },
  {
   "cell_type": "code",
   "execution_count": 109,
   "metadata": {
    "scrolled": true
   },
   "outputs": [
    {
     "data": {
      "image/png": "[encoded data removed]",
      "text/plain": [
       "<matplotlib.figure.Figure at 0x7f7264d11fd0>"
      ]
     },
     "metadata": {},
     "output_type": "display_data"
    }
   ],
   "source": [
    "count_plot('death_type', 'x', data, 'show', title='Death Types Distribution in Accidents')"
   ]
  },
  {
   "cell_type": "markdown",
   "metadata": {},
   "source": [
    "40% cases where no one died\n",
    "Passengers' death ratios are more than drivers'"
   ]
  },
  {
   "cell_type": "markdown",
   "metadata": {
    "collapsed": true
   },
   "source": [
    "### Seat belts Yes/No in each state\n",
    "<img src='img/state number.png' width='300px' height='100px' />"
   ]
  },
  {
   "cell_type": "code",
   "execution_count": 110,
   "metadata": {
    "scrolled": false
   },
   "outputs": [],
   "source": [
    "# factorplot(x_='Restraint', col_='state', data_=data, title_='Passenger\\'s Seatbelt Usage Ratio in States')"
   ]
  },
  {
   "cell_type": "code",
   "execution_count": 111,
   "metadata": {
    "scrolled": false
   },
   "outputs": [],
   "source": [
    "# factorplot(x_='D_Restraint', col_='state', data_=data, title_='Driver\\'s Seatbelt Usage Ratio in States')"
   ]
  },
  {
   "cell_type": "markdown",
   "metadata": {},
   "source": [
    "Graph shows that passengers and drivers **don't wear belts** more often in **state 28**\n",
    "\n",
    "Moreover, drivers and passengers wear seatbelts more often in states where the accidents' chances are high.\n",
    "e.g California \n",
    "\n",
    "** We can spread awareness of seatbelts in the areas where ratio of persons is high who don't wear seatbelts by showing them how seatbelt effects the reduction of injuries and deaths **"
   ]
  },
  {
   "cell_type": "markdown",
   "metadata": {},
   "source": [
    "### Seatbelt Types used over the years"
   ]
  },
  {
   "cell_type": "code",
   "execution_count": 112,
   "metadata": {},
   "outputs": [],
   "source": [
    "# factorplot(x_='restraint', col_='year', data_=data, title_='Seatbelts\\' type Ratio over the Years')"
   ]
  },
  {
   "cell_type": "markdown",
   "metadata": {},
   "source": [
    "Use of shoulder and lab seatbelts are common and not other measure has been taken to install other type of belts"
   ]
  },
  {
   "cell_type": "markdown",
   "metadata": {},
   "source": [
    "In 2010, there was no accident reported where vehicle didn't have seatbelt, But type 07 was installed in many vehicles to prevent deaths"
   ]
  },
  {
   "cell_type": "markdown",
   "metadata": {},
   "source": [
    "### Lets see death and acidents ratio"
   ]
  },
  {
   "cell_type": "code",
   "execution_count": 275,
   "metadata": {},
   "outputs": [
    {
     "data": {
      "text/plain": [
       "year      int64\n",
       "caseid    int64\n",
       "dtype: object"
      ]
     },
     "execution_count": 275,
     "metadata": {},
     "output_type": "execute_result"
    }
   ],
   "source": [
    "data_grp_year_count = data.groupby(['year']).count().reset_index()[['year', 'caseid']]\n",
    "data_grp_year_count.dtypes"
   ]
  },
  {
   "cell_type": "code",
   "execution_count": 287,
   "metadata": {},
   "outputs": [
    {
     "data": {
      "text/plain": [
       "year           int64\n",
       "death_type    object\n",
       "caseid         int64\n",
       "dtype: object"
      ]
     },
     "execution_count": 287,
     "metadata": {},
     "output_type": "execute_result"
    }
   ],
   "source": [
    "data_grp_y_death_type = data.groupby(['year', 'death_type']).count().reset_index()[['year', 'death_type', 'caseid']]\n",
    "data_grp_y_death_type.dtypes"
   ]
  },
  {
   "cell_type": "code",
   "execution_count": 288,
   "metadata": {},
   "outputs": [],
   "source": [
    "\n",
    "def getRatio(df, count, df_yr_count, yr_count):\n",
    "    \n",
    "    for yr in df_yr_count.year:\n",
    "        df.set_value(df.year == yr, count, df[df.year == yr][count]/df_yr_count[df_yr_count.year == yr][yr_count].item())\n",
    "       \n",
    "    return df"
   ]
  },
  {
   "cell_type": "code",
   "execution_count": 289,
   "metadata": {},
   "outputs": [],
   "source": [
    "data_grp_y_death_type_ratioed = getRatio(data_grp_y_death_type, 'caseid', data_grp_year_count, 'caseid')"
   ]
  },
  {
   "cell_type": "code",
   "execution_count": 290,
   "metadata": {},
   "outputs": [
    {
     "data": {
      "text/html": [
       "<div>\n",
       "<style>\n",
       "    .dataframe thead tr:only-child th {\n",
       "        text-align: right;\n",
       "    }\n",
       "\n",
       "    .dataframe thead th {\n",
       "        text-align: left;\n",
       "    }\n",
       "\n",
       "    .dataframe tbody tr th {\n",
       "        vertical-align: top;\n",
       "    }\n",
       "</style>\n",
       "<table border=\"1\" class=\"dataframe\">\n",
       "  <thead>\n",
       "    <tr style=\"text-align: right;\">\n",
       "      <th></th>\n",
       "      <th>year</th>\n",
       "      <th>death_type</th>\n",
       "      <th>caseid</th>\n",
       "    </tr>\n",
       "  </thead>\n",
       "  <tbody>\n",
       "    <tr>\n",
       "      <th>0</th>\n",
       "      <td>1998</td>\n",
       "      <td>Both</td>\n",
       "      <td>0.10</td>\n",
       "    </tr>\n",
       "    <tr>\n",
       "      <th>1</th>\n",
       "      <td>1998</td>\n",
       "      <td>Drvr</td>\n",
       "      <td>0.25</td>\n",
       "    </tr>\n",
       "    <tr>\n",
       "      <th>2</th>\n",
       "      <td>1998</td>\n",
       "      <td>None</td>\n",
       "      <td>0.38</td>\n",
       "    </tr>\n",
       "    <tr>\n",
       "      <th>3</th>\n",
       "      <td>1998</td>\n",
       "      <td>Psngr</td>\n",
       "      <td>0.27</td>\n",
       "    </tr>\n",
       "    <tr>\n",
       "      <th>4</th>\n",
       "      <td>1999</td>\n",
       "      <td>Both</td>\n",
       "      <td>0.11</td>\n",
       "    </tr>\n",
       "    <tr>\n",
       "      <th>5</th>\n",
       "      <td>1999</td>\n",
       "      <td>Drvr</td>\n",
       "      <td>0.25</td>\n",
       "    </tr>\n",
       "    <tr>\n",
       "      <th>6</th>\n",
       "      <td>1999</td>\n",
       "      <td>None</td>\n",
       "      <td>0.38</td>\n",
       "    </tr>\n",
       "    <tr>\n",
       "      <th>7</th>\n",
       "      <td>1999</td>\n",
       "      <td>Psngr</td>\n",
       "      <td>0.26</td>\n",
       "    </tr>\n",
       "    <tr>\n",
       "      <th>8</th>\n",
       "      <td>2000</td>\n",
       "      <td>Both</td>\n",
       "      <td>0.10</td>\n",
       "    </tr>\n",
       "    <tr>\n",
       "      <th>9</th>\n",
       "      <td>2000</td>\n",
       "      <td>Drvr</td>\n",
       "      <td>0.24</td>\n",
       "    </tr>\n",
       "    <tr>\n",
       "      <th>10</th>\n",
       "      <td>2000</td>\n",
       "      <td>None</td>\n",
       "      <td>0.38</td>\n",
       "    </tr>\n",
       "    <tr>\n",
       "      <th>11</th>\n",
       "      <td>2000</td>\n",
       "      <td>Psngr</td>\n",
       "      <td>0.28</td>\n",
       "    </tr>\n",
       "    <tr>\n",
       "      <th>12</th>\n",
       "      <td>2001</td>\n",
       "      <td>Both</td>\n",
       "      <td>0.10</td>\n",
       "    </tr>\n",
       "    <tr>\n",
       "      <th>13</th>\n",
       "      <td>2001</td>\n",
       "      <td>Drvr</td>\n",
       "      <td>0.24</td>\n",
       "    </tr>\n",
       "    <tr>\n",
       "      <th>14</th>\n",
       "      <td>2001</td>\n",
       "      <td>None</td>\n",
       "      <td>0.38</td>\n",
       "    </tr>\n",
       "    <tr>\n",
       "      <th>15</th>\n",
       "      <td>2001</td>\n",
       "      <td>Psngr</td>\n",
       "      <td>0.27</td>\n",
       "    </tr>\n",
       "    <tr>\n",
       "      <th>16</th>\n",
       "      <td>2002</td>\n",
       "      <td>Both</td>\n",
       "      <td>0.11</td>\n",
       "    </tr>\n",
       "    <tr>\n",
       "      <th>17</th>\n",
       "      <td>2002</td>\n",
       "      <td>Drvr</td>\n",
       "      <td>0.25</td>\n",
       "    </tr>\n",
       "    <tr>\n",
       "      <th>18</th>\n",
       "      <td>2002</td>\n",
       "      <td>None</td>\n",
       "      <td>0.38</td>\n",
       "    </tr>\n",
       "    <tr>\n",
       "      <th>19</th>\n",
       "      <td>2002</td>\n",
       "      <td>Psngr</td>\n",
       "      <td>0.26</td>\n",
       "    </tr>\n",
       "    <tr>\n",
       "      <th>20</th>\n",
       "      <td>2003</td>\n",
       "      <td>Both</td>\n",
       "      <td>0.11</td>\n",
       "    </tr>\n",
       "    <tr>\n",
       "      <th>21</th>\n",
       "      <td>2003</td>\n",
       "      <td>Drvr</td>\n",
       "      <td>0.24</td>\n",
       "    </tr>\n",
       "    <tr>\n",
       "      <th>22</th>\n",
       "      <td>2003</td>\n",
       "      <td>None</td>\n",
       "      <td>0.39</td>\n",
       "    </tr>\n",
       "    <tr>\n",
       "      <th>23</th>\n",
       "      <td>2003</td>\n",
       "      <td>Psngr</td>\n",
       "      <td>0.27</td>\n",
       "    </tr>\n",
       "    <tr>\n",
       "      <th>24</th>\n",
       "      <td>2004</td>\n",
       "      <td>Both</td>\n",
       "      <td>0.11</td>\n",
       "    </tr>\n",
       "    <tr>\n",
       "      <th>25</th>\n",
       "      <td>2004</td>\n",
       "      <td>Drvr</td>\n",
       "      <td>0.25</td>\n",
       "    </tr>\n",
       "    <tr>\n",
       "      <th>26</th>\n",
       "      <td>2004</td>\n",
       "      <td>None</td>\n",
       "      <td>0.39</td>\n",
       "    </tr>\n",
       "    <tr>\n",
       "      <th>27</th>\n",
       "      <td>2004</td>\n",
       "      <td>Psngr</td>\n",
       "      <td>0.26</td>\n",
       "    </tr>\n",
       "    <tr>\n",
       "      <th>28</th>\n",
       "      <td>2005</td>\n",
       "      <td>Both</td>\n",
       "      <td>0.10</td>\n",
       "    </tr>\n",
       "    <tr>\n",
       "      <th>29</th>\n",
       "      <td>2005</td>\n",
       "      <td>Drvr</td>\n",
       "      <td>0.24</td>\n",
       "    </tr>\n",
       "    <tr>\n",
       "      <th>30</th>\n",
       "      <td>2005</td>\n",
       "      <td>None</td>\n",
       "      <td>0.40</td>\n",
       "    </tr>\n",
       "    <tr>\n",
       "      <th>31</th>\n",
       "      <td>2005</td>\n",
       "      <td>Psngr</td>\n",
       "      <td>0.26</td>\n",
       "    </tr>\n",
       "    <tr>\n",
       "      <th>32</th>\n",
       "      <td>2006</td>\n",
       "      <td>Both</td>\n",
       "      <td>0.11</td>\n",
       "    </tr>\n",
       "    <tr>\n",
       "      <th>33</th>\n",
       "      <td>2006</td>\n",
       "      <td>Drvr</td>\n",
       "      <td>0.25</td>\n",
       "    </tr>\n",
       "    <tr>\n",
       "      <th>34</th>\n",
       "      <td>2006</td>\n",
       "      <td>None</td>\n",
       "      <td>0.39</td>\n",
       "    </tr>\n",
       "    <tr>\n",
       "      <th>35</th>\n",
       "      <td>2006</td>\n",
       "      <td>Psngr</td>\n",
       "      <td>0.25</td>\n",
       "    </tr>\n",
       "    <tr>\n",
       "      <th>36</th>\n",
       "      <td>2007</td>\n",
       "      <td>Both</td>\n",
       "      <td>0.10</td>\n",
       "    </tr>\n",
       "    <tr>\n",
       "      <th>37</th>\n",
       "      <td>2007</td>\n",
       "      <td>Drvr</td>\n",
       "      <td>0.24</td>\n",
       "    </tr>\n",
       "    <tr>\n",
       "      <th>38</th>\n",
       "      <td>2007</td>\n",
       "      <td>None</td>\n",
       "      <td>0.40</td>\n",
       "    </tr>\n",
       "    <tr>\n",
       "      <th>39</th>\n",
       "      <td>2007</td>\n",
       "      <td>Psngr</td>\n",
       "      <td>0.26</td>\n",
       "    </tr>\n",
       "    <tr>\n",
       "      <th>40</th>\n",
       "      <td>2008</td>\n",
       "      <td>Both</td>\n",
       "      <td>0.10</td>\n",
       "    </tr>\n",
       "    <tr>\n",
       "      <th>41</th>\n",
       "      <td>2008</td>\n",
       "      <td>Drvr</td>\n",
       "      <td>0.24</td>\n",
       "    </tr>\n",
       "    <tr>\n",
       "      <th>42</th>\n",
       "      <td>2008</td>\n",
       "      <td>None</td>\n",
       "      <td>0.41</td>\n",
       "    </tr>\n",
       "    <tr>\n",
       "      <th>43</th>\n",
       "      <td>2008</td>\n",
       "      <td>Psngr</td>\n",
       "      <td>0.25</td>\n",
       "    </tr>\n",
       "    <tr>\n",
       "      <th>44</th>\n",
       "      <td>2009</td>\n",
       "      <td>Both</td>\n",
       "      <td>0.10</td>\n",
       "    </tr>\n",
       "    <tr>\n",
       "      <th>45</th>\n",
       "      <td>2009</td>\n",
       "      <td>Drvr</td>\n",
       "      <td>0.24</td>\n",
       "    </tr>\n",
       "    <tr>\n",
       "      <th>46</th>\n",
       "      <td>2009</td>\n",
       "      <td>None</td>\n",
       "      <td>0.42</td>\n",
       "    </tr>\n",
       "    <tr>\n",
       "      <th>47</th>\n",
       "      <td>2009</td>\n",
       "      <td>Psngr</td>\n",
       "      <td>0.25</td>\n",
       "    </tr>\n",
       "    <tr>\n",
       "      <th>48</th>\n",
       "      <td>2010</td>\n",
       "      <td>Both</td>\n",
       "      <td>0.10</td>\n",
       "    </tr>\n",
       "    <tr>\n",
       "      <th>49</th>\n",
       "      <td>2010</td>\n",
       "      <td>Drvr</td>\n",
       "      <td>0.23</td>\n",
       "    </tr>\n",
       "    <tr>\n",
       "      <th>50</th>\n",
       "      <td>2010</td>\n",
       "      <td>None</td>\n",
       "      <td>0.42</td>\n",
       "    </tr>\n",
       "    <tr>\n",
       "      <th>51</th>\n",
       "      <td>2010</td>\n",
       "      <td>Psngr</td>\n",
       "      <td>0.25</td>\n",
       "    </tr>\n",
       "  </tbody>\n",
       "</table>\n",
       "</div>"
      ],
      "text/plain": [
       "    year death_type               caseid\n",
       "0   1998       Both                 0.10\n",
       "1   1998       Drvr                 0.25\n",
       "2   1998       None                 0.38\n",
       "3   1998      Psngr                 0.27\n",
       "4   1999       Both                 0.11\n",
       "5   1999       Drvr                 0.25\n",
       "6   1999       None                 0.38\n",
       "7   1999      Psngr                 0.26\n",
       "8   2000       Both                 0.10\n",
       "9   2000       Drvr                 0.24\n",
       "10  2000       None                 0.38\n",
       "11  2000      Psngr                 0.28\n",
       "12  2001       Both                 0.10\n",
       "13  2001       Drvr                 0.24\n",
       "14  2001       None                 0.38\n",
       "15  2001      Psngr                 0.27\n",
       "16  2002       Both                 0.11\n",
       "17  2002       Drvr                 0.25\n",
       "18  2002       None                 0.38\n",
       "19  2002      Psngr                 0.26\n",
       "20  2003       Both                 0.11\n",
       "21  2003       Drvr                 0.24\n",
       "22  2003       None                 0.39\n",
       "23  2003      Psngr                 0.27\n",
       "24  2004       Both                 0.11\n",
       "25  2004       Drvr                 0.25\n",
       "26  2004       None                 0.39\n",
       "27  2004      Psngr                 0.26\n",
       "28  2005       Both                 0.10\n",
       "29  2005       Drvr                 0.24\n",
       "30  2005       None                 0.40\n",
       "31  2005      Psngr                 0.26\n",
       "32  2006       Both                 0.11\n",
       "33  2006       Drvr                 0.25\n",
       "34  2006       None                 0.39\n",
       "35  2006      Psngr                 0.25\n",
       "36  2007       Both                 0.10\n",
       "37  2007       Drvr                 0.24\n",
       "38  2007       None                 0.40\n",
       "39  2007      Psngr                 0.26\n",
       "40  2008       Both                 0.10\n",
       "41  2008       Drvr                 0.24\n",
       "42  2008       None                 0.41\n",
       "43  2008      Psngr                 0.25\n",
       "44  2009       Both                 0.10\n",
       "45  2009       Drvr                 0.24\n",
       "46  2009       None                 0.42\n",
       "47  2009      Psngr                 0.25\n",
       "48  2010       Both                 0.10\n",
       "49  2010       Drvr                 0.23\n",
       "50  2010       None                 0.42\n",
       "51  2010      Psngr                 0.25"
      ]
     },
     "execution_count": 290,
     "metadata": {},
     "output_type": "execute_result"
    }
   ],
   "source": [
    "data_grp_y_death_type_ratioed"
   ]
  },
  {
   "cell_type": "code",
   "execution_count": 292,
   "metadata": {},
   "outputs": [
    {
     "data": {
      "application/vnd.plotly.v1+json": {
       "data": [
        {
         "mode": "lines",
         "name": "# of accidents",
         "type": "scatter",
         "x": [
          1998,
          1999,
          2000,
          2001,
          2002,
          2003,
          2004,
          2005,
          2006,
          2007,
          2008,
          2009,
          2010
         ],
         "y": [
          0.08666428505272629,
          0.08575133304224719,
          0.0853080882255653,
          0.08538747535691131,
          0.0870149115495045,
          0.08334987231903042,
          0.0829397054737427,
          0.07949959644874899,
          0.07704521097130156,
          0.07240767938183887,
          0.06390002513925826,
          0.057965837071144104,
          0.05276597996798053
         ]
        },
        {
         "mode": "lines+markers",
         "name": "Both",
         "type": "scatter",
         "x": [
          1998,
          1999,
          2000,
          2001,
          2002,
          2003,
          2004,
          2005,
          2006,
          2007,
          2008,
          2009,
          2010
         ],
         "y": [
          0.10022900763358779,
          0.10854806357043666,
          0.10244280728964715,
          0.1021151313240877,
          0.10735193491979016,
          0.107865703627272,
          0.10584669378639228,
          0.10268785886660564,
          0.10793405461102525,
          0.09986295111923253,
          0.10063153535562688,
          0.09929239899566308,
          0.10042627883650952
         ]
        },
        {
         "mode": "lines+markers",
         "name": "Drvr",
         "type": "scatter",
         "x": [
          1998,
          1999,
          2000,
          2001,
          2002,
          2003,
          2004,
          2005,
          2006,
          2007,
          2008,
          2009,
          2010
         ],
         "y": [
          0.24572519083969466,
          0.24502391606233606,
          0.24063590538968593,
          0.24211668087084529,
          0.24952482323424313,
          0.2363679657115644,
          0.24519422509372257,
          0.23857868020304568,
          0.24557788081744805,
          0.23654636820465966,
          0.24360699865410498,
          0.23601917370463366,
          0.2316950852557673
         ]
        },
        {
         "mode": "lines+markers",
         "name": "None",
         "type": "scatter",
         "x": [
          1998,
          1999,
          2000,
          2001,
          2002,
          2003,
          2004,
          2005,
          2006,
          2007,
          2008,
          2009,
          2010
         ],
         "y": [
          0.383969465648855,
          0.3829655917296714,
          0.37727801473439315,
          0.3842875958782056,
          0.3781646772599407,
          0.3876498134772601,
          0.3870942011645529,
          0.4030123991012732,
          0.3923235445646574,
          0.4045682960255825,
          0.40853090382027124,
          0.4161150422278019,
          0.4157472417251755
         ]
        },
        {
         "mode": "lines+markers",
         "name": "Psngr",
         "type": "scatter",
         "x": [
          1998,
          1999,
          2000,
          2001,
          2002,
          2003,
          2004,
          2005,
          2006,
          2007,
          2008,
          2009,
          2010
         ],
         "y": [
          0.2700763358778626,
          0.2634624286375559,
          0.27964327258627375,
          0.2714805919268614,
          0.264958564586026,
          0.2681165171839035,
          0.2618648799553322,
          0.2557210618290755,
          0.2541645200068693,
          0.25902238465052535,
          0.2472305621699969,
          0.24857338507190138,
          0.25213139418254765
         ]
        }
       ],
       "layout": {}
      },
      "text/html": [
       "<div id=\"2278aae0-ab58-4371-8b24-ae70ccbea408\" style=\"height: 525px; width: 100%;\" class=\"plotly-graph-div\"></div><script type=\"text/javascript\">require([\"plotly\"], function(Plotly) { window.PLOTLYENV=window.PLOTLYENV || {};window.PLOTLYENV.BASE_URL=\"https://plot.ly\";Plotly.newPlot(\"2278aae0-ab58-4371-8b24-ae70ccbea408\", [{\"y\": [0.08666428505272629, 0.08575133304224719, 0.0853080882255653, 0.08538747535691131, 0.0870149115495045, 0.08334987231903042, 0.0829397054737427, 0.07949959644874899, 0.07704521097130156, 0.07240767938183887, 0.06390002513925826, 0.057965837071144104, 0.05276597996798053], \"x\": [1998, 1999, 2000, 2001, 2002, 2003, 2004, 2005, 2006, 2007, 2008, 2009, 2010], \"type\": \"scatter\", \"name\": \"# of accidents\", \"mode\": \"lines\"}, {\"y\": [0.10022900763358779, 0.10854806357043666, 0.10244280728964715, 0.1021151313240877, 0.10735193491979016, 0.107865703627272, 0.10584669378639228, 0.10268785886660564, 0.10793405461102525, 0.09986295111923253, 0.10063153535562688, 0.09929239899566308, 0.10042627883650952], \"x\": [1998, 1999, 2000, 2001, 2002, 2003, 2004, 2005, 2006, 2007, 2008, 2009, 2010], \"type\": \"scatter\", \"name\": \"Both\", \"mode\": \"lines+markers\"}, {\"y\": [0.24572519083969466, 0.24502391606233606, 0.24063590538968593, 0.24211668087084529, 0.24952482323424313, 0.2363679657115644, 0.24519422509372257, 0.23857868020304568, 0.24557788081744805, 0.23654636820465966, 0.24360699865410498, 0.23601917370463366, 0.2316950852557673], \"x\": [1998, 1999, 2000, 2001, 2002, 2003, 2004, 2005, 2006, 2007, 2008, 2009, 2010], \"type\": \"scatter\", \"name\": \"Drvr\", \"mode\": \"lines+markers\"}, {\"y\": [0.383969465648855, 0.3829655917296714, 0.37727801473439315, 0.3842875958782056, 0.3781646772599407, 0.3876498134772601, 0.3870942011645529, 0.4030123991012732, 0.3923235445646574, 0.4045682960255825, 0.40853090382027124, 0.4161150422278019, 0.4157472417251755], \"x\": [1998, 1999, 2000, 2001, 2002, 2003, 2004, 2005, 2006, 2007, 2008, 2009, 2010], \"type\": \"scatter\", \"name\": \"None\", \"mode\": \"lines+markers\"}, {\"y\": [0.2700763358778626, 0.2634624286375559, 0.27964327258627375, 0.2714805919268614, 0.264958564586026, 0.2681165171839035, 0.2618648799553322, 0.2557210618290755, 0.2541645200068693, 0.25902238465052535, 0.2472305621699969, 0.24857338507190138, 0.25213139418254765], \"x\": [1998, 1999, 2000, 2001, 2002, 2003, 2004, 2005, 2006, 2007, 2008, 2009, 2010], \"type\": \"scatter\", \"name\": \"Psngr\", \"mode\": \"lines+markers\"}], {}, {\"linkText\": \"Export to plot.ly\", \"showLink\": true})});</script>"
      ],
      "text/vnd.plotly.v1+html": [
       "<div id=\"2278aae0-ab58-4371-8b24-ae70ccbea408\" style=\"height: 525px; width: 100%;\" class=\"plotly-graph-div\"></div><script type=\"text/javascript\">require([\"plotly\"], function(Plotly) { window.PLOTLYENV=window.PLOTLYENV || {};window.PLOTLYENV.BASE_URL=\"https://plot.ly\";Plotly.newPlot(\"2278aae0-ab58-4371-8b24-ae70ccbea408\", [{\"y\": [0.08666428505272629, 0.08575133304224719, 0.0853080882255653, 0.08538747535691131, 0.0870149115495045, 0.08334987231903042, 0.0829397054737427, 0.07949959644874899, 0.07704521097130156, 0.07240767938183887, 0.06390002513925826, 0.057965837071144104, 0.05276597996798053], \"x\": [1998, 1999, 2000, 2001, 2002, 2003, 2004, 2005, 2006, 2007, 2008, 2009, 2010], \"type\": \"scatter\", \"name\": \"# of accidents\", \"mode\": \"lines\"}, {\"y\": [0.10022900763358779, 0.10854806357043666, 0.10244280728964715, 0.1021151313240877, 0.10735193491979016, 0.107865703627272, 0.10584669378639228, 0.10268785886660564, 0.10793405461102525, 0.09986295111923253, 0.10063153535562688, 0.09929239899566308, 0.10042627883650952], \"x\": [1998, 1999, 2000, 2001, 2002, 2003, 2004, 2005, 2006, 2007, 2008, 2009, 2010], \"type\": \"scatter\", \"name\": \"Both\", \"mode\": \"lines+markers\"}, {\"y\": [0.24572519083969466, 0.24502391606233606, 0.24063590538968593, 0.24211668087084529, 0.24952482323424313, 0.2363679657115644, 0.24519422509372257, 0.23857868020304568, 0.24557788081744805, 0.23654636820465966, 0.24360699865410498, 0.23601917370463366, 0.2316950852557673], \"x\": [1998, 1999, 2000, 2001, 2002, 2003, 2004, 2005, 2006, 2007, 2008, 2009, 2010], \"type\": \"scatter\", \"name\": \"Drvr\", \"mode\": \"lines+markers\"}, {\"y\": [0.383969465648855, 0.3829655917296714, 0.37727801473439315, 0.3842875958782056, 0.3781646772599407, 0.3876498134772601, 0.3870942011645529, 0.4030123991012732, 0.3923235445646574, 0.4045682960255825, 0.40853090382027124, 0.4161150422278019, 0.4157472417251755], \"x\": [1998, 1999, 2000, 2001, 2002, 2003, 2004, 2005, 2006, 2007, 2008, 2009, 2010], \"type\": \"scatter\", \"name\": \"None\", \"mode\": \"lines+markers\"}, {\"y\": [0.2700763358778626, 0.2634624286375559, 0.27964327258627375, 0.2714805919268614, 0.264958564586026, 0.2681165171839035, 0.2618648799553322, 0.2557210618290755, 0.2541645200068693, 0.25902238465052535, 0.2472305621699969, 0.24857338507190138, 0.25213139418254765], \"x\": [1998, 1999, 2000, 2001, 2002, 2003, 2004, 2005, 2006, 2007, 2008, 2009, 2010], \"type\": \"scatter\", \"name\": \"Psngr\", \"mode\": \"lines+markers\"}], {}, {\"linkText\": \"Export to plot.ly\", \"showLink\": true})});</script>"
      ]
     },
     "metadata": {},
     "output_type": "display_data"
    }
   ],
   "source": [
    "iplot_data = []\n",
    "\n",
    "plot = Scatter(x=data_grp_year_count.year, y=data_grp_year_count.caseid/len(data.index), \\\n",
    "               mode='lines', name=str('# of accidents'))\n",
    "iplot_data.append(plot)\n",
    "\n",
    "for death_type in (data_grp_y_death_type_ratioed.death_type.unique()):\n",
    "    new_data = data_grp_y_death_type_ratioed[data_grp_y_death_type_ratioed.death_type == death_type].reset_index()\n",
    "    plot = Scatter(x=new_data.year, y=new_data.caseid, mode='lines+markers', name=str(death_type))\n",
    "    iplot_data.append(plot)\n",
    "iplot(iplot_data)\n"
   ]
  },
  {
   "cell_type": "markdown",
   "metadata": {},
   "source": [
    "### Lets plot seatbelts usage trend amd number of accidents\n"
   ]
  },
  {
   "cell_type": "code",
   "execution_count": 113,
   "metadata": {},
   "outputs": [
    {
     "data": {
      "text/html": [
       "<div>\n",
       "<style>\n",
       "    .dataframe thead tr:only-child th {\n",
       "        text-align: right;\n",
       "    }\n",
       "\n",
       "    .dataframe thead th {\n",
       "        text-align: left;\n",
       "    }\n",
       "\n",
       "    .dataframe tbody tr th {\n",
       "        vertical-align: top;\n",
       "    }\n",
       "</style>\n",
       "<table border=\"1\" class=\"dataframe\">\n",
       "  <thead>\n",
       "    <tr style=\"text-align: right;\">\n",
       "      <th></th>\n",
       "      <th>caseid</th>\n",
       "      <th>state</th>\n",
       "      <th>age</th>\n",
       "      <th>airbag</th>\n",
       "      <th>injury</th>\n",
       "      <th>restraint</th>\n",
       "      <th>sex</th>\n",
       "      <th>inimpact</th>\n",
       "      <th>modelyr</th>\n",
       "      <th>airbagAvail</th>\n",
       "      <th>airbagDeploy</th>\n",
       "      <th>Restraint</th>\n",
       "      <th>D_injury</th>\n",
       "      <th>D_airbagAvail</th>\n",
       "      <th>D_airbagDeploy</th>\n",
       "      <th>D_Restraint</th>\n",
       "      <th>year</th>\n",
       "      <th>death_type</th>\n",
       "    </tr>\n",
       "  </thead>\n",
       "  <tbody>\n",
       "    <tr>\n",
       "      <th>0</th>\n",
       "      <td>1:1:2</td>\n",
       "      <td>1</td>\n",
       "      <td>20</td>\n",
       "      <td>30</td>\n",
       "      <td>3</td>\n",
       "      <td>1</td>\n",
       "      <td>2</td>\n",
       "      <td>12</td>\n",
       "      <td>1991</td>\n",
       "      <td>no</td>\n",
       "      <td>no</td>\n",
       "      <td>yes</td>\n",
       "      <td>3</td>\n",
       "      <td>no</td>\n",
       "      <td>no</td>\n",
       "      <td>yes</td>\n",
       "      <td>1998</td>\n",
       "      <td>None</td>\n",
       "    </tr>\n",
       "    <tr>\n",
       "      <th>1</th>\n",
       "      <td>1:2:1</td>\n",
       "      <td>1</td>\n",
       "      <td>41</td>\n",
       "      <td>30</td>\n",
       "      <td>2</td>\n",
       "      <td>0</td>\n",
       "      <td>1</td>\n",
       "      <td>2</td>\n",
       "      <td>1987</td>\n",
       "      <td>no</td>\n",
       "      <td>no</td>\n",
       "      <td>no</td>\n",
       "      <td>2</td>\n",
       "      <td>no</td>\n",
       "      <td>no</td>\n",
       "      <td>no</td>\n",
       "      <td>1998</td>\n",
       "      <td>None</td>\n",
       "    </tr>\n",
       "    <tr>\n",
       "      <th>2</th>\n",
       "      <td>1:3:1</td>\n",
       "      <td>1</td>\n",
       "      <td>26</td>\n",
       "      <td>30</td>\n",
       "      <td>3</td>\n",
       "      <td>0</td>\n",
       "      <td>1</td>\n",
       "      <td>4</td>\n",
       "      <td>1983</td>\n",
       "      <td>no</td>\n",
       "      <td>no</td>\n",
       "      <td>no</td>\n",
       "      <td>4</td>\n",
       "      <td>no</td>\n",
       "      <td>no</td>\n",
       "      <td>no</td>\n",
       "      <td>1998</td>\n",
       "      <td>Drvr</td>\n",
       "    </tr>\n",
       "    <tr>\n",
       "      <th>3</th>\n",
       "      <td>1:8:1</td>\n",
       "      <td>1</td>\n",
       "      <td>17</td>\n",
       "      <td>1</td>\n",
       "      <td>4</td>\n",
       "      <td>0</td>\n",
       "      <td>1</td>\n",
       "      <td>11</td>\n",
       "      <td>1997</td>\n",
       "      <td>yes</td>\n",
       "      <td>yes</td>\n",
       "      <td>no</td>\n",
       "      <td>4</td>\n",
       "      <td>yes</td>\n",
       "      <td>yes</td>\n",
       "      <td>no</td>\n",
       "      <td>1998</td>\n",
       "      <td>Both</td>\n",
       "    </tr>\n",
       "    <tr>\n",
       "      <th>4</th>\n",
       "      <td>1:10:1</td>\n",
       "      <td>1</td>\n",
       "      <td>19</td>\n",
       "      <td>30</td>\n",
       "      <td>3</td>\n",
       "      <td>0</td>\n",
       "      <td>1</td>\n",
       "      <td>12</td>\n",
       "      <td>1998</td>\n",
       "      <td>no</td>\n",
       "      <td>no</td>\n",
       "      <td>no</td>\n",
       "      <td>4</td>\n",
       "      <td>yes</td>\n",
       "      <td>yes</td>\n",
       "      <td>no</td>\n",
       "      <td>1998</td>\n",
       "      <td>Drvr</td>\n",
       "    </tr>\n",
       "  </tbody>\n",
       "</table>\n",
       "</div>"
      ],
      "text/plain": [
       "   caseid  state  age  airbag  injury  restraint  sex  inimpact  modelyr  \\\n",
       "0   1:1:2      1   20      30       3          1    2        12     1991   \n",
       "1   1:2:1      1   41      30       2          0    1         2     1987   \n",
       "2   1:3:1      1   26      30       3          0    1         4     1983   \n",
       "3   1:8:1      1   17       1       4          0    1        11     1997   \n",
       "4  1:10:1      1   19      30       3          0    1        12     1998   \n",
       "\n",
       "  airbagAvail airbagDeploy Restraint  D_injury D_airbagAvail D_airbagDeploy  \\\n",
       "0          no           no       yes         3            no             no   \n",
       "1          no           no        no         2            no             no   \n",
       "2          no           no        no         4            no             no   \n",
       "3         yes          yes        no         4           yes            yes   \n",
       "4          no           no        no         4           yes            yes   \n",
       "\n",
       "  D_Restraint  year death_type  \n",
       "0         yes  1998       None  \n",
       "1          no  1998       None  \n",
       "2          no  1998       Drvr  \n",
       "3          no  1998       Both  \n",
       "4          no  1998       Drvr  "
      ]
     },
     "execution_count": 113,
     "metadata": {},
     "output_type": "execute_result"
    }
   ],
   "source": [
    "data.head()"
   ]
  },
  {
   "cell_type": "code",
   "execution_count": 177,
   "metadata": {},
   "outputs": [],
   "source": [
    "data_grp_restraint = data.groupby(['year', 'restraint']).count().reset_index()[['year', 'restraint', 'caseid']]\n",
    "data_grp_year_count = data.groupby(['year']).count().reset_index()[['year', 'caseid']]\n",
    "data_grp_year_p_death_dcount = data[data.injury == 4].groupby(['year']).count().reset_index()[['year', 'caseid']]\n",
    "data_grp_year_d_death_dcount = data[data.D_injury == 4].groupby(['year']).count().reset_index()[['year', 'caseid']]"
   ]
  },
  {
   "cell_type": "code",
   "execution_count": 293,
   "metadata": {
    "collapsed": true
   },
   "outputs": [],
   "source": [
    "data_grp_restraint = getRatio(data_grp_restraint, 'caseid', data_grp_year_count, 'caseid')"
   ]
  },
  {
   "cell_type": "code",
   "execution_count": 295,
   "metadata": {
    "scrolled": false
   },
   "outputs": [
    {
     "data": {
      "application/vnd.plotly.v1+json": {
       "data": [
        {
         "mode": "lines+markers",
         "name": "0",
         "type": "scatter",
         "x": [
          1998,
          1999,
          2000,
          2001,
          2002,
          2003,
          2004,
          2005,
          2006,
          2007,
          2008,
          2009,
          2010
         ],
         "y": [
          0.3583969465648855,
          0.3574294090418145,
          0.3381930981000388,
          0.3285039126055629,
          0.3237284269748346,
          0.2972458131597746,
          0.29879556512722344,
          0.2846800366147957,
          0.28164176541301733,
          0.26925536774783004,
          0.2708354902163785,
          0.25713307464049306,
          0.00037612838515546637
         ]
        },
        {
         "mode": "lines+markers",
         "name": "1",
         "type": "scatter",
         "x": [
          1998,
          1999,
          2000,
          2001,
          2002,
          2003,
          2004,
          2005,
          2006,
          2007,
          2008,
          2009,
          2010
         ],
         "y": [
          0.012290076335877862,
          0.01103224810985959,
          0.010469174098487785,
          0.009684667234833811,
          0.010035733292784916,
          0.010873878879276133,
          0.007976389885937624,
          0.006574020138137638,
          0.007384509702902284,
          0.005756052992233897,
          0.006108292783932084,
          0.006505364072129651,
          0.00664493480441324
         ]
        },
        {
         "mode": "lines+markers",
         "name": "2",
         "type": "scatter",
         "x": [
          1998,
          1999,
          2000,
          2001,
          2002,
          2003,
          2004,
          2005,
          2006,
          2007,
          2008,
          2009,
          2010
         ],
         "y": [
          0.011755725190839695,
          0.01288381422619966,
          0.011787514540519581,
          0.010846827303013869,
          0.011100129248080286,
          0.008333994761489006,
          0.007816862088218872,
          0.007905467254722477,
          0.005838914648806457,
          0.005664687071722248,
          0.005901232011595404,
          0.008103172791600092,
          0.007146439317953861
         ]
        },
        {
         "mode": "lines+markers",
         "name": "3",
         "type": "scatter",
         "x": [
          1998,
          1999,
          2000,
          2001,
          2002,
          2003,
          2004,
          2005,
          2006,
          2007,
          2008,
          2009,
          2010
         ],
         "y": [
          0.48374045801526716,
          0.49521678753278814,
          0.5233811554866227,
          0.5334314712946463,
          0.5468714361742568,
          0.5786173505833796,
          0.6141022573183377,
          0.6331863193808771,
          0.626395328868281,
          0.6409319323892189,
          0.6484108085723159,
          0.659780871947044,
          0.6700100300902708
         ]
        },
        {
         "mode": "lines+markers",
         "name": "4",
         "type": "scatter",
         "x": [
          1998,
          1999,
          2000,
          2001,
          2002,
          2003,
          2004,
          2005,
          2006,
          2007,
          2008,
          2009,
          2010
         ],
         "y": [
          0.007709923664122137,
          0.00540040117265854,
          0.00550601008142691,
          0.00480359494847757,
          0.0038014141260548926,
          0.004206683070084928,
          0.0034298476509531787,
          0.0027461096779562285,
          0.0020607934054611026,
          0.003563270899954317,
          0.0021741381095351487,
          0.0018260671079662178,
          0.0017552657973921766
         ]
        },
        {
         "mode": "lines+markers",
         "name": "8",
         "type": "scatter",
         "x": [
          1998,
          1999,
          2000,
          2001,
          2002,
          2003,
          2004,
          2005,
          2006,
          2007,
          2008,
          2009,
          2010
         ],
         "y": [
          0.052290076335877865,
          0.039808671501311524,
          0.03621558743699108,
          0.03687921283024715,
          0.0317798220938189,
          0.024208270497658543,
          0.004546542234984446,
          0.0015810934509444953,
          0.000858663918942126,
          0.00045682960255824577,
          0.001035303861683404,
          0.0006847751654873316,
          0.0005015045135406219
         ]
        },
        {
         "mode": "lines+markers",
         "name": "13",
         "type": "scatter",
         "x": [
          1998,
          1999,
          2000,
          2001,
          2002,
          2003,
          2004,
          2005,
          2006,
          2007,
          2008,
          2009
         ],
         "y": [
          0.00183206106870229,
          0.0022373090572442526,
          0.0013183404420317954,
          0.0015495467575734098,
          0.0023568767581540334,
          0.001269942058893563,
          0.0011964584828906438,
          0.001081800782225181,
          0.0012021294865189765,
          0.0021927820922795797,
          0.0012423646340200848,
          0.001483679525222552
         ]
        },
        {
         "mode": "lines+markers",
         "name": "14",
         "type": "scatter",
         "x": [
          1998,
          1999,
          2000,
          2001,
          2002,
          2003,
          2004,
          2005,
          2006,
          2007,
          2008,
          2009
         ],
         "y": [
          0.000534351145038168,
          0.000540040117265854,
          0.00046529662659945713,
          0.000309909351514682,
          0.00022808484756329354,
          0.0006349710294467815,
          0.0004785833931562575,
          0.0004992926687193143,
          0.0006869311351537008,
          0.00045682960255824577,
          0.00020706077233668082,
          0.00022825838849577722
         ]
        },
        {
         "mode": "lines+markers",
         "name": "99",
         "type": "scatter",
         "x": [
          1998,
          1999,
          2000,
          2001,
          2002,
          2003,
          2004,
          2005,
          2006,
          2007,
          2008,
          2009,
          2010
         ],
         "y": [
          0.07145038167938932,
          0.07545131924085789,
          0.07266382318728189,
          0.07399085767413031,
          0.07009807648445221,
          0.07460909595999682,
          0.06165749381829784,
          0.06174586003162187,
          0.07393096342091705,
          0.07172224760164458,
          0.06367118749352935,
          0.06379821958456973,
          0.06344032096288867
         ]
        },
        {
         "mode": "lines+markers",
         "name": "10",
         "type": "scatter",
         "x": [
          2008,
          2009,
          2010
         ],
         "y": [
          0.00020706077233668082,
          0.00022825838849577722,
          0.0005015045135406219
         ]
        },
        {
         "mode": "lines+markers",
         "name": "11",
         "type": "scatter",
         "x": [
          2008,
          2009
         ],
         "y": [
          0.00010353038616834041,
          0.00011412919424788861
         ]
        },
        {
         "mode": "lines+markers",
         "name": "12",
         "type": "scatter",
         "x": [
          2008,
          2009,
          2010
         ],
         "y": [
          0.00010353038616834041,
          0.00011412919424788861,
          0.00025075225677031093
         ]
        },
        {
         "mode": "lines+markers",
         "name": "7",
         "type": "scatter",
         "x": [
          2010
         ],
         "y": [
          0.24598796389167502
         ]
        },
        {
         "mode": "lines+markers",
         "name": "97",
         "type": "scatter",
         "x": [
          2010
         ],
         "y": [
          0.00012537612838515547
         ]
        },
        {
         "mode": "lines+markers",
         "name": "98",
         "type": "scatter",
         "x": [
          2010
         ],
         "y": [
          0.003259779338014042
         ]
        }
       ],
       "layout": {}
      },
      "text/html": [
       "<div id=\"80fed750-7acd-4153-bd1f-e29c7f192c1c\" style=\"height: 525px; width: 100%;\" class=\"plotly-graph-div\"></div><script type=\"text/javascript\">require([\"plotly\"], function(Plotly) { window.PLOTLYENV=window.PLOTLYENV || {};window.PLOTLYENV.BASE_URL=\"https://plot.ly\";Plotly.newPlot(\"80fed750-7acd-4153-bd1f-e29c7f192c1c\", [{\"y\": [0.3583969465648855, 0.3574294090418145, 0.3381930981000388, 0.3285039126055629, 0.3237284269748346, 0.2972458131597746, 0.29879556512722344, 0.2846800366147957, 0.28164176541301733, 0.26925536774783004, 0.2708354902163785, 0.25713307464049306, 0.00037612838515546637], \"x\": [1998, 1999, 2000, 2001, 2002, 2003, 2004, 2005, 2006, 2007, 2008, 2009, 2010], \"type\": \"scatter\", \"name\": \"0\", \"mode\": \"lines+markers\"}, {\"y\": [0.012290076335877862, 0.01103224810985959, 0.010469174098487785, 0.009684667234833811, 0.010035733292784916, 0.010873878879276133, 0.007976389885937624, 0.006574020138137638, 0.007384509702902284, 0.005756052992233897, 0.006108292783932084, 0.006505364072129651, 0.00664493480441324], \"x\": [1998, 1999, 2000, 2001, 2002, 2003, 2004, 2005, 2006, 2007, 2008, 2009, 2010], \"type\": \"scatter\", \"name\": \"1\", \"mode\": \"lines+markers\"}, {\"y\": [0.011755725190839695, 0.01288381422619966, 0.011787514540519581, 0.010846827303013869, 0.011100129248080286, 0.008333994761489006, 0.007816862088218872, 0.007905467254722477, 0.005838914648806457, 0.005664687071722248, 0.005901232011595404, 0.008103172791600092, 0.007146439317953861], \"x\": [1998, 1999, 2000, 2001, 2002, 2003, 2004, 2005, 2006, 2007, 2008, 2009, 2010], \"type\": \"scatter\", \"name\": \"2\", \"mode\": \"lines+markers\"}, {\"y\": [0.48374045801526716, 0.49521678753278814, 0.5233811554866227, 0.5334314712946463, 0.5468714361742568, 0.5786173505833796, 0.6141022573183377, 0.6331863193808771, 0.626395328868281, 0.6409319323892189, 0.6484108085723159, 0.659780871947044, 0.6700100300902708], \"x\": [1998, 1999, 2000, 2001, 2002, 2003, 2004, 2005, 2006, 2007, 2008, 2009, 2010], \"type\": \"scatter\", \"name\": \"3\", \"mode\": \"lines+markers\"}, {\"y\": [0.007709923664122137, 0.00540040117265854, 0.00550601008142691, 0.00480359494847757, 0.0038014141260548926, 0.004206683070084928, 0.0034298476509531787, 0.0027461096779562285, 0.0020607934054611026, 0.003563270899954317, 0.0021741381095351487, 0.0018260671079662178, 0.0017552657973921766], \"x\": [1998, 1999, 2000, 2001, 2002, 2003, 2004, 2005, 2006, 2007, 2008, 2009, 2010], \"type\": \"scatter\", \"name\": \"4\", \"mode\": \"lines+markers\"}, {\"y\": [0.052290076335877865, 0.039808671501311524, 0.03621558743699108, 0.03687921283024715, 0.0317798220938189, 0.024208270497658543, 0.004546542234984446, 0.0015810934509444953, 0.000858663918942126, 0.00045682960255824577, 0.001035303861683404, 0.0006847751654873316, 0.0005015045135406219], \"x\": [1998, 1999, 2000, 2001, 2002, 2003, 2004, 2005, 2006, 2007, 2008, 2009, 2010], \"type\": \"scatter\", \"name\": \"8\", \"mode\": \"lines+markers\"}, {\"y\": [0.00183206106870229, 0.0022373090572442526, 0.0013183404420317954, 0.0015495467575734098, 0.0023568767581540334, 0.001269942058893563, 0.0011964584828906438, 0.001081800782225181, 0.0012021294865189765, 0.0021927820922795797, 0.0012423646340200848, 0.001483679525222552], \"x\": [1998, 1999, 2000, 2001, 2002, 2003, 2004, 2005, 2006, 2007, 2008, 2009], \"type\": \"scatter\", \"name\": \"13\", \"mode\": \"lines+markers\"}, {\"y\": [0.000534351145038168, 0.000540040117265854, 0.00046529662659945713, 0.000309909351514682, 0.00022808484756329354, 0.0006349710294467815, 0.0004785833931562575, 0.0004992926687193143, 0.0006869311351537008, 0.00045682960255824577, 0.00020706077233668082, 0.00022825838849577722], \"x\": [1998, 1999, 2000, 2001, 2002, 2003, 2004, 2005, 2006, 2007, 2008, 2009], \"type\": \"scatter\", \"name\": \"14\", \"mode\": \"lines+markers\"}, {\"y\": [0.07145038167938932, 0.07545131924085789, 0.07266382318728189, 0.07399085767413031, 0.07009807648445221, 0.07460909595999682, 0.06165749381829784, 0.06174586003162187, 0.07393096342091705, 0.07172224760164458, 0.06367118749352935, 0.06379821958456973, 0.06344032096288867], \"x\": [1998, 1999, 2000, 2001, 2002, 2003, 2004, 2005, 2006, 2007, 2008, 2009, 2010], \"type\": \"scatter\", \"name\": \"99\", \"mode\": \"lines+markers\"}, {\"y\": [0.00020706077233668082, 0.00022825838849577722, 0.0005015045135406219], \"x\": [2008, 2009, 2010], \"type\": \"scatter\", \"name\": \"10\", \"mode\": \"lines+markers\"}, {\"y\": [0.00010353038616834041, 0.00011412919424788861], \"x\": [2008, 2009], \"type\": \"scatter\", \"name\": \"11\", \"mode\": \"lines+markers\"}, {\"y\": [0.00010353038616834041, 0.00011412919424788861, 0.00025075225677031093], \"x\": [2008, 2009, 2010], \"type\": \"scatter\", \"name\": \"12\", \"mode\": \"lines+markers\"}, {\"y\": [0.24598796389167502], \"x\": [2010], \"type\": \"scatter\", \"name\": \"7\", \"mode\": \"lines+markers\"}, {\"y\": [0.00012537612838515547], \"x\": [2010], \"type\": \"scatter\", \"name\": \"97\", \"mode\": \"lines+markers\"}, {\"y\": [0.003259779338014042], \"x\": [2010], \"type\": \"scatter\", \"name\": \"98\", \"mode\": \"lines+markers\"}], {}, {\"linkText\": \"Export to plot.ly\", \"showLink\": true})});</script>"
      ],
      "text/vnd.plotly.v1+html": [
       "<div id=\"80fed750-7acd-4153-bd1f-e29c7f192c1c\" style=\"height: 525px; width: 100%;\" class=\"plotly-graph-div\"></div><script type=\"text/javascript\">require([\"plotly\"], function(Plotly) { window.PLOTLYENV=window.PLOTLYENV || {};window.PLOTLYENV.BASE_URL=\"https://plot.ly\";Plotly.newPlot(\"80fed750-7acd-4153-bd1f-e29c7f192c1c\", [{\"y\": [0.3583969465648855, 0.3574294090418145, 0.3381930981000388, 0.3285039126055629, 0.3237284269748346, 0.2972458131597746, 0.29879556512722344, 0.2846800366147957, 0.28164176541301733, 0.26925536774783004, 0.2708354902163785, 0.25713307464049306, 0.00037612838515546637], \"x\": [1998, 1999, 2000, 2001, 2002, 2003, 2004, 2005, 2006, 2007, 2008, 2009, 2010], \"type\": \"scatter\", \"name\": \"0\", \"mode\": \"lines+markers\"}, {\"y\": [0.012290076335877862, 0.01103224810985959, 0.010469174098487785, 0.009684667234833811, 0.010035733292784916, 0.010873878879276133, 0.007976389885937624, 0.006574020138137638, 0.007384509702902284, 0.005756052992233897, 0.006108292783932084, 0.006505364072129651, 0.00664493480441324], \"x\": [1998, 1999, 2000, 2001, 2002, 2003, 2004, 2005, 2006, 2007, 2008, 2009, 2010], \"type\": \"scatter\", \"name\": \"1\", \"mode\": \"lines+markers\"}, {\"y\": [0.011755725190839695, 0.01288381422619966, 0.011787514540519581, 0.010846827303013869, 0.011100129248080286, 0.008333994761489006, 0.007816862088218872, 0.007905467254722477, 0.005838914648806457, 0.005664687071722248, 0.005901232011595404, 0.008103172791600092, 0.007146439317953861], \"x\": [1998, 1999, 2000, 2001, 2002, 2003, 2004, 2005, 2006, 2007, 2008, 2009, 2010], \"type\": \"scatter\", \"name\": \"2\", \"mode\": \"lines+markers\"}, {\"y\": [0.48374045801526716, 0.49521678753278814, 0.5233811554866227, 0.5334314712946463, 0.5468714361742568, 0.5786173505833796, 0.6141022573183377, 0.6331863193808771, 0.626395328868281, 0.6409319323892189, 0.6484108085723159, 0.659780871947044, 0.6700100300902708], \"x\": [1998, 1999, 2000, 2001, 2002, 2003, 2004, 2005, 2006, 2007, 2008, 2009, 2010], \"type\": \"scatter\", \"name\": \"3\", \"mode\": \"lines+markers\"}, {\"y\": [0.007709923664122137, 0.00540040117265854, 0.00550601008142691, 0.00480359494847757, 0.0038014141260548926, 0.004206683070084928, 0.0034298476509531787, 0.0027461096779562285, 0.0020607934054611026, 0.003563270899954317, 0.0021741381095351487, 0.0018260671079662178, 0.0017552657973921766], \"x\": [1998, 1999, 2000, 2001, 2002, 2003, 2004, 2005, 2006, 2007, 2008, 2009, 2010], \"type\": \"scatter\", \"name\": \"4\", \"mode\": \"lines+markers\"}, {\"y\": [0.052290076335877865, 0.039808671501311524, 0.03621558743699108, 0.03687921283024715, 0.0317798220938189, 0.024208270497658543, 0.004546542234984446, 0.0015810934509444953, 0.000858663918942126, 0.00045682960255824577, 0.001035303861683404, 0.0006847751654873316, 0.0005015045135406219], \"x\": [1998, 1999, 2000, 2001, 2002, 2003, 2004, 2005, 2006, 2007, 2008, 2009, 2010], \"type\": \"scatter\", \"name\": \"8\", \"mode\": \"lines+markers\"}, {\"y\": [0.00183206106870229, 0.0022373090572442526, 0.0013183404420317954, 0.0015495467575734098, 0.0023568767581540334, 0.001269942058893563, 0.0011964584828906438, 0.001081800782225181, 0.0012021294865189765, 0.0021927820922795797, 0.0012423646340200848, 0.001483679525222552], \"x\": [1998, 1999, 2000, 2001, 2002, 2003, 2004, 2005, 2006, 2007, 2008, 2009], \"type\": \"scatter\", \"name\": \"13\", \"mode\": \"lines+markers\"}, {\"y\": [0.000534351145038168, 0.000540040117265854, 0.00046529662659945713, 0.000309909351514682, 0.00022808484756329354, 0.0006349710294467815, 0.0004785833931562575, 0.0004992926687193143, 0.0006869311351537008, 0.00045682960255824577, 0.00020706077233668082, 0.00022825838849577722], \"x\": [1998, 1999, 2000, 2001, 2002, 2003, 2004, 2005, 2006, 2007, 2008, 2009], \"type\": \"scatter\", \"name\": \"14\", \"mode\": \"lines+markers\"}, {\"y\": [0.07145038167938932, 0.07545131924085789, 0.07266382318728189, 0.07399085767413031, 0.07009807648445221, 0.07460909595999682, 0.06165749381829784, 0.06174586003162187, 0.07393096342091705, 0.07172224760164458, 0.06367118749352935, 0.06379821958456973, 0.06344032096288867], \"x\": [1998, 1999, 2000, 2001, 2002, 2003, 2004, 2005, 2006, 2007, 2008, 2009, 2010], \"type\": \"scatter\", \"name\": \"99\", \"mode\": \"lines+markers\"}, {\"y\": [0.00020706077233668082, 0.00022825838849577722, 0.0005015045135406219], \"x\": [2008, 2009, 2010], \"type\": \"scatter\", \"name\": \"10\", \"mode\": \"lines+markers\"}, {\"y\": [0.00010353038616834041, 0.00011412919424788861], \"x\": [2008, 2009], \"type\": \"scatter\", \"name\": \"11\", \"mode\": \"lines+markers\"}, {\"y\": [0.00010353038616834041, 0.00011412919424788861, 0.00025075225677031093], \"x\": [2008, 2009, 2010], \"type\": \"scatter\", \"name\": \"12\", \"mode\": \"lines+markers\"}, {\"y\": [0.24598796389167502], \"x\": [2010], \"type\": \"scatter\", \"name\": \"7\", \"mode\": \"lines+markers\"}, {\"y\": [0.00012537612838515547], \"x\": [2010], \"type\": \"scatter\", \"name\": \"97\", \"mode\": \"lines+markers\"}, {\"y\": [0.003259779338014042], \"x\": [2010], \"type\": \"scatter\", \"name\": \"98\", \"mode\": \"lines+markers\"}], {}, {\"linkText\": \"Export to plot.ly\", \"showLink\": true})});</script>"
      ]
     },
     "metadata": {},
     "output_type": "display_data"
    }
   ],
   "source": [
    "iplot_data = []\n",
    "\n",
    "# plot = Scatter(x=data_grp_year_count.year, y=data_grp_year_count.caseid, \\\n",
    "#                mode='lines', name=str('# of accidents'))\n",
    "# iplot_data.append(plot)\n",
    "\n",
    "for restraint_type in (data_grp_restraint.restraint.unique()):\n",
    "    new_data = data_grp_restraint[data_grp_restraint.restraint == restraint_type].reset_index() \n",
    "    plot = Scatter(x=new_data.year, y=new_data.caseid, mode='lines+markers', name=str(restraint_type))\n",
    "    iplot_data.append(plot)\n",
    "iplot(iplot_data)\n"
   ]
  },
  {
   "cell_type": "markdown",
   "metadata": {},
   "source": [
    "### What about airbag deployment and death?"
   ]
  },
  {
   "cell_type": "code",
   "execution_count": 148,
   "metadata": {
    "collapsed": true
   },
   "outputs": [],
   "source": [
    "data_grp_airbagDeploy = data.groupby(['year', 'airbagDeploy']).count().reset_index()[['year', 'airbagDeploy', 'caseid']]\n",
    "data_grp_D_airbagDeploy = data.groupby(['year', 'D_airbagDeploy']).count().reset_index()[['year', 'D_airbagDeploy', 'caseid']]"
   ]
  },
  {
   "cell_type": "code",
   "execution_count": 149,
   "metadata": {},
   "outputs": [
    {
     "data": {
      "text/html": [
       "<div>\n",
       "<style>\n",
       "    .dataframe thead tr:only-child th {\n",
       "        text-align: right;\n",
       "    }\n",
       "\n",
       "    .dataframe thead th {\n",
       "        text-align: left;\n",
       "    }\n",
       "\n",
       "    .dataframe tbody tr th {\n",
       "        vertical-align: top;\n",
       "    }\n",
       "</style>\n",
       "<table border=\"1\" class=\"dataframe\">\n",
       "  <thead>\n",
       "    <tr style=\"text-align: right;\">\n",
       "      <th></th>\n",
       "      <th>year</th>\n",
       "      <th>D_airbagDeploy</th>\n",
       "      <th>caseid</th>\n",
       "    </tr>\n",
       "  </thead>\n",
       "  <tbody>\n",
       "    <tr>\n",
       "      <th>0</th>\n",
       "      <td>1998</td>\n",
       "      <td>NA-code</td>\n",
       "      <td>3628</td>\n",
       "    </tr>\n",
       "    <tr>\n",
       "      <th>1</th>\n",
       "      <td>1998</td>\n",
       "      <td>no</td>\n",
       "      <td>7170</td>\n",
       "    </tr>\n",
       "    <tr>\n",
       "      <th>2</th>\n",
       "      <td>1998</td>\n",
       "      <td>yes</td>\n",
       "      <td>2302</td>\n",
       "    </tr>\n",
       "    <tr>\n",
       "      <th>3</th>\n",
       "      <td>1999</td>\n",
       "      <td>NA-code</td>\n",
       "      <td>1992</td>\n",
       "    </tr>\n",
       "    <tr>\n",
       "      <th>4</th>\n",
       "      <td>1999</td>\n",
       "      <td>no</td>\n",
       "      <td>8106</td>\n",
       "    </tr>\n",
       "  </tbody>\n",
       "</table>\n",
       "</div>"
      ],
      "text/plain": [
       "   year D_airbagDeploy  caseid\n",
       "0  1998        NA-code    3628\n",
       "1  1998             no    7170\n",
       "2  1998            yes    2302\n",
       "3  1999        NA-code    1992\n",
       "4  1999             no    8106"
      ]
     },
     "execution_count": 149,
     "metadata": {},
     "output_type": "execute_result"
    }
   ],
   "source": [
    "data_grp_D_airbagDeploy.head()"
   ]
  },
  {
   "cell_type": "code",
   "execution_count": 150,
   "metadata": {},
   "outputs": [
    {
     "data": {
      "application/vnd.plotly.v1+json": {
       "data": [
        {
         "mode": "lines+markers",
         "name": "# of accidents",
         "type": "scatter",
         "x": [
          1998,
          1999,
          2000,
          2001,
          2002,
          2003,
          2004,
          2005,
          2006,
          2007,
          2008,
          2009,
          2010
         ],
         "y": [
          13100,
          12962,
          12895,
          12907,
          13153,
          12599,
          12537,
          12017,
          11646,
          10945,
          9659,
          8762,
          7976
         ]
        },
        {
         "mode": "lines+markers",
         "name": "# of passenger's death",
         "type": "scatter",
         "x": [
          1998,
          1999,
          2000,
          2001,
          2002,
          2003,
          2004,
          2005,
          2006,
          2007,
          2008,
          2009,
          2010
         ],
         "y": [
          4851,
          4822,
          4927,
          4822,
          4897,
          4737,
          4610,
          4307,
          4217,
          3928,
          3360,
          3048,
          2812
         ]
        },
        {
         "mode": "lines+markers",
         "name": "# of drivers's death",
         "type": "scatter",
         "x": [
          1998,
          1999,
          2000,
          2001,
          2002,
          2003,
          2004,
          2005,
          2006,
          2007,
          2008,
          2009,
          2010
         ],
         "y": [
          4532,
          4583,
          4424,
          4443,
          4694,
          4337,
          4401,
          4101,
          4117,
          3682,
          3325,
          2938,
          2649
         ]
        },
        {
         "mode": "lines+markers",
         "name": "NA-code",
         "type": "scatter",
         "x": [
          1998,
          1999,
          2000,
          2001,
          2002,
          2003,
          2004,
          2005,
          2006,
          2007,
          2008,
          2009,
          2010
         ],
         "y": [
          3512,
          1824,
          1557,
          1712,
          1769,
          1745,
          1485,
          1468,
          1528,
          1175,
          961,
          1405,
          1164
         ]
        },
        {
         "mode": "lines+markers",
         "name": "no",
         "type": "scatter",
         "x": [
          1998,
          1999,
          2000,
          2001,
          2002,
          2003,
          2004,
          2005,
          2006,
          2007,
          2008,
          2009,
          2010
         ],
         "y": [
          8032,
          8991,
          8866,
          8397,
          8170,
          7436,
          7104,
          6478,
          5922,
          5405,
          4747,
          3455,
          3225
         ]
        },
        {
         "mode": "lines+markers",
         "name": "yes",
         "type": "scatter",
         "x": [
          1998,
          1999,
          2000,
          2001,
          2002,
          2003,
          2004,
          2005,
          2006,
          2007,
          2008,
          2009,
          2010
         ],
         "y": [
          1556,
          2147,
          2472,
          2798,
          3214,
          3418,
          3948,
          4071,
          4196,
          4365,
          3951,
          3902,
          3587
         ]
        }
       ],
       "layout": {}
      },
      "text/html": [
       "<div id=\"8dfeaece-e2de-4498-b218-1c15ce2b1171\" style=\"height: 525px; width: 100%;\" class=\"plotly-graph-div\"></div><script type=\"text/javascript\">require([\"plotly\"], function(Plotly) { window.PLOTLYENV=window.PLOTLYENV || {};window.PLOTLYENV.BASE_URL=\"https://plot.ly\";Plotly.newPlot(\"8dfeaece-e2de-4498-b218-1c15ce2b1171\", [{\"y\": [13100, 12962, 12895, 12907, 13153, 12599, 12537, 12017, 11646, 10945, 9659, 8762, 7976], \"x\": [1998, 1999, 2000, 2001, 2002, 2003, 2004, 2005, 2006, 2007, 2008, 2009, 2010], \"type\": \"scatter\", \"name\": \"# of accidents\", \"mode\": \"lines+markers\"}, {\"y\": [4851, 4822, 4927, 4822, 4897, 4737, 4610, 4307, 4217, 3928, 3360, 3048, 2812], \"x\": [1998, 1999, 2000, 2001, 2002, 2003, 2004, 2005, 2006, 2007, 2008, 2009, 2010], \"type\": \"scatter\", \"name\": \"# of passenger's death\", \"mode\": \"lines+markers\"}, {\"y\": [4532, 4583, 4424, 4443, 4694, 4337, 4401, 4101, 4117, 3682, 3325, 2938, 2649], \"x\": [1998, 1999, 2000, 2001, 2002, 2003, 2004, 2005, 2006, 2007, 2008, 2009, 2010], \"type\": \"scatter\", \"name\": \"# of drivers's death\", \"mode\": \"lines+markers\"}, {\"y\": [3512, 1824, 1557, 1712, 1769, 1745, 1485, 1468, 1528, 1175, 961, 1405, 1164], \"x\": [1998, 1999, 2000, 2001, 2002, 2003, 2004, 2005, 2006, 2007, 2008, 2009, 2010], \"type\": \"scatter\", \"name\": \"NA-code\", \"mode\": \"lines+markers\"}, {\"y\": [8032, 8991, 8866, 8397, 8170, 7436, 7104, 6478, 5922, 5405, 4747, 3455, 3225], \"x\": [1998, 1999, 2000, 2001, 2002, 2003, 2004, 2005, 2006, 2007, 2008, 2009, 2010], \"type\": \"scatter\", \"name\": \"no\", \"mode\": \"lines+markers\"}, {\"y\": [1556, 2147, 2472, 2798, 3214, 3418, 3948, 4071, 4196, 4365, 3951, 3902, 3587], \"x\": [1998, 1999, 2000, 2001, 2002, 2003, 2004, 2005, 2006, 2007, 2008, 2009, 2010], \"type\": \"scatter\", \"name\": \"yes\", \"mode\": \"lines+markers\"}], {}, {\"linkText\": \"Export to plot.ly\", \"showLink\": true})});</script>"
      ],
      "text/vnd.plotly.v1+html": [
       "<div id=\"8dfeaece-e2de-4498-b218-1c15ce2b1171\" style=\"height: 525px; width: 100%;\" class=\"plotly-graph-div\"></div><script type=\"text/javascript\">require([\"plotly\"], function(Plotly) { window.PLOTLYENV=window.PLOTLYENV || {};window.PLOTLYENV.BASE_URL=\"https://plot.ly\";Plotly.newPlot(\"8dfeaece-e2de-4498-b218-1c15ce2b1171\", [{\"y\": [13100, 12962, 12895, 12907, 13153, 12599, 12537, 12017, 11646, 10945, 9659, 8762, 7976], \"x\": [1998, 1999, 2000, 2001, 2002, 2003, 2004, 2005, 2006, 2007, 2008, 2009, 2010], \"type\": \"scatter\", \"name\": \"# of accidents\", \"mode\": \"lines+markers\"}, {\"y\": [4851, 4822, 4927, 4822, 4897, 4737, 4610, 4307, 4217, 3928, 3360, 3048, 2812], \"x\": [1998, 1999, 2000, 2001, 2002, 2003, 2004, 2005, 2006, 2007, 2008, 2009, 2010], \"type\": \"scatter\", \"name\": \"# of passenger's death\", \"mode\": \"lines+markers\"}, {\"y\": [4532, 4583, 4424, 4443, 4694, 4337, 4401, 4101, 4117, 3682, 3325, 2938, 2649], \"x\": [1998, 1999, 2000, 2001, 2002, 2003, 2004, 2005, 2006, 2007, 2008, 2009, 2010], \"type\": \"scatter\", \"name\": \"# of drivers's death\", \"mode\": \"lines+markers\"}, {\"y\": [3512, 1824, 1557, 1712, 1769, 1745, 1485, 1468, 1528, 1175, 961, 1405, 1164], \"x\": [1998, 1999, 2000, 2001, 2002, 2003, 2004, 2005, 2006, 2007, 2008, 2009, 2010], \"type\": \"scatter\", \"name\": \"NA-code\", \"mode\": \"lines+markers\"}, {\"y\": [8032, 8991, 8866, 8397, 8170, 7436, 7104, 6478, 5922, 5405, 4747, 3455, 3225], \"x\": [1998, 1999, 2000, 2001, 2002, 2003, 2004, 2005, 2006, 2007, 2008, 2009, 2010], \"type\": \"scatter\", \"name\": \"no\", \"mode\": \"lines+markers\"}, {\"y\": [1556, 2147, 2472, 2798, 3214, 3418, 3948, 4071, 4196, 4365, 3951, 3902, 3587], \"x\": [1998, 1999, 2000, 2001, 2002, 2003, 2004, 2005, 2006, 2007, 2008, 2009, 2010], \"type\": \"scatter\", \"name\": \"yes\", \"mode\": \"lines+markers\"}], {}, {\"linkText\": \"Export to plot.ly\", \"showLink\": true})});</script>"
      ]
     },
     "metadata": {},
     "output_type": "display_data"
    }
   ],
   "source": [
    "\n",
    "iplot_data = []\n",
    "plot = Scatter(x=data_grp_year_count.year, y=data_grp_year_count.caseid, \\\n",
    "               mode='lines+markers', name=str('# of accidents'))\n",
    "iplot_data.append(plot)\n",
    "plot = Scatter(x=data_grp_year_p_death_dcount.year, y=data_grp_year_p_death_dcount.caseid,\\\n",
    "               mode='lines+markers', name=str('# of passenger\\'s death'))\n",
    "iplot_data.append(plot)\n",
    "plot = Scatter(x=data_grp_year_d_death_dcount.year, y=data_grp_year_d_death_dcount.caseid,\\\n",
    "               mode='lines+markers', name=str('# of drivers\\'s death'))\n",
    "iplot_data.append(plot)\n",
    "\n",
    "for airbagDeploy in (data_grp_airbagDeploy.airbagDeploy.unique()):\n",
    "    \n",
    "    new_data = data_grp_airbagDeploy[data_grp_airbagDeploy.airbagDeploy == airbagDeploy].reset_index()\n",
    "    plot = Scatter(x=new_data.year, y=new_data.caseid, mode='lines+markers', name=str(airbagDeploy))\n",
    "    iplot_data.append(plot)\n",
    "\n",
    "    \n",
    "# for D_airbagDeploy in (data_grp_D_airbagDeploy.D_airbagDeploy.unique()):\n",
    "    \n",
    "#     new_data = data_grp_D_airbagDeploy[data_grp_D_airbagDeploy.D_airbagDeploy == D_airbagDeploy].reset_index()\n",
    "#     plot = Scatter(x=new_data.year, y=new_data.caseid, mode='lines+markers', name=str('D_' + D_airbagDeploy))\n",
    "#     iplot_data.append(plot)\n",
    "    \n",
    "iplot(iplot_data)\n"
   ]
  },
  {
   "cell_type": "code",
   "execution_count": 152,
   "metadata": {},
   "outputs": [
    {
     "data": {
      "application/vnd.plotly.v1+json": {
       "data": [
        {
         "mode": "lines+markers",
         "name": "# of accidents",
         "type": "scatter",
         "x": [
          1998,
          1999,
          2000,
          2001,
          2002,
          2003,
          2004,
          2005,
          2006,
          2007,
          2008,
          2009,
          2010
         ],
         "y": [
          13100,
          12962,
          12895,
          12907,
          13153,
          12599,
          12537,
          12017,
          11646,
          10945,
          9659,
          8762,
          7976
         ]
        },
        {
         "mode": "lines+markers",
         "name": "# of passenger's death",
         "type": "scatter",
         "x": [
          1998,
          1999,
          2000,
          2001,
          2002,
          2003,
          2004,
          2005,
          2006,
          2007,
          2008,
          2009,
          2010
         ],
         "y": [
          4851,
          4822,
          4927,
          4822,
          4897,
          4737,
          4610,
          4307,
          4217,
          3928,
          3360,
          3048,
          2812
         ]
        },
        {
         "mode": "lines+markers",
         "name": "# of drivers's death",
         "type": "scatter",
         "x": [
          1998,
          1999,
          2000,
          2001,
          2002,
          2003,
          2004,
          2005,
          2006,
          2007,
          2008,
          2009,
          2010
         ],
         "y": [
          4532,
          4583,
          4424,
          4443,
          4694,
          4337,
          4401,
          4101,
          4117,
          3682,
          3325,
          2938,
          2649
         ]
        },
        {
         "mode": "lines+markers",
         "name": "NA-code",
         "type": "scatter",
         "x": [
          1998,
          1999,
          2000,
          2001,
          2002,
          2003,
          2004,
          2005,
          2006,
          2007,
          2008,
          2009,
          2010
         ],
         "y": [
          3512,
          1824,
          1557,
          1712,
          1769,
          1745,
          1485,
          1468,
          1528,
          1175,
          961,
          1405,
          1164
         ]
        },
        {
         "mode": "lines+markers",
         "name": "no",
         "type": "scatter",
         "x": [
          1998,
          1999,
          2000,
          2001,
          2002,
          2003,
          2004,
          2005,
          2006,
          2007,
          2008,
          2009,
          2010
         ],
         "y": [
          8032,
          8991,
          8866,
          8397,
          8170,
          7436,
          7104,
          6478,
          5922,
          5405,
          4747,
          3455,
          3225
         ]
        },
        {
         "mode": "lines+markers",
         "name": "yes",
         "type": "scatter",
         "x": [
          1998,
          1999,
          2000,
          2001,
          2002,
          2003,
          2004,
          2005,
          2006,
          2007,
          2008,
          2009,
          2010
         ],
         "y": [
          1556,
          2147,
          2472,
          2798,
          3214,
          3418,
          3948,
          4071,
          4196,
          4365,
          3951,
          3902,
          3587
         ]
        }
       ],
       "layout": {}
      },
      "text/html": [
       "<div id=\"999e8b55-9df7-4999-8852-f75ae9d38159\" style=\"height: 525px; width: 100%;\" class=\"plotly-graph-div\"></div><script type=\"text/javascript\">require([\"plotly\"], function(Plotly) { window.PLOTLYENV=window.PLOTLYENV || {};window.PLOTLYENV.BASE_URL=\"https://plot.ly\";Plotly.newPlot(\"999e8b55-9df7-4999-8852-f75ae9d38159\", [{\"y\": [13100, 12962, 12895, 12907, 13153, 12599, 12537, 12017, 11646, 10945, 9659, 8762, 7976], \"x\": [1998, 1999, 2000, 2001, 2002, 2003, 2004, 2005, 2006, 2007, 2008, 2009, 2010], \"type\": \"scatter\", \"name\": \"# of accidents\", \"mode\": \"lines+markers\"}, {\"y\": [4851, 4822, 4927, 4822, 4897, 4737, 4610, 4307, 4217, 3928, 3360, 3048, 2812], \"x\": [1998, 1999, 2000, 2001, 2002, 2003, 2004, 2005, 2006, 2007, 2008, 2009, 2010], \"type\": \"scatter\", \"name\": \"# of passenger's death\", \"mode\": \"lines+markers\"}, {\"y\": [4532, 4583, 4424, 4443, 4694, 4337, 4401, 4101, 4117, 3682, 3325, 2938, 2649], \"x\": [1998, 1999, 2000, 2001, 2002, 2003, 2004, 2005, 2006, 2007, 2008, 2009, 2010], \"type\": \"scatter\", \"name\": \"# of drivers's death\", \"mode\": \"lines+markers\"}, {\"y\": [3512, 1824, 1557, 1712, 1769, 1745, 1485, 1468, 1528, 1175, 961, 1405, 1164], \"x\": [1998, 1999, 2000, 2001, 2002, 2003, 2004, 2005, 2006, 2007, 2008, 2009, 2010], \"type\": \"scatter\", \"name\": \"NA-code\", \"mode\": \"lines+markers\"}, {\"y\": [8032, 8991, 8866, 8397, 8170, 7436, 7104, 6478, 5922, 5405, 4747, 3455, 3225], \"x\": [1998, 1999, 2000, 2001, 2002, 2003, 2004, 2005, 2006, 2007, 2008, 2009, 2010], \"type\": \"scatter\", \"name\": \"no\", \"mode\": \"lines+markers\"}, {\"y\": [1556, 2147, 2472, 2798, 3214, 3418, 3948, 4071, 4196, 4365, 3951, 3902, 3587], \"x\": [1998, 1999, 2000, 2001, 2002, 2003, 2004, 2005, 2006, 2007, 2008, 2009, 2010], \"type\": \"scatter\", \"name\": \"yes\", \"mode\": \"lines+markers\"}], {}, {\"linkText\": \"Export to plot.ly\", \"showLink\": true})});</script>"
      ],
      "text/vnd.plotly.v1+html": [
       "<div id=\"999e8b55-9df7-4999-8852-f75ae9d38159\" style=\"height: 525px; width: 100%;\" class=\"plotly-graph-div\"></div><script type=\"text/javascript\">require([\"plotly\"], function(Plotly) { window.PLOTLYENV=window.PLOTLYENV || {};window.PLOTLYENV.BASE_URL=\"https://plot.ly\";Plotly.newPlot(\"999e8b55-9df7-4999-8852-f75ae9d38159\", [{\"y\": [13100, 12962, 12895, 12907, 13153, 12599, 12537, 12017, 11646, 10945, 9659, 8762, 7976], \"x\": [1998, 1999, 2000, 2001, 2002, 2003, 2004, 2005, 2006, 2007, 2008, 2009, 2010], \"type\": \"scatter\", \"name\": \"# of accidents\", \"mode\": \"lines+markers\"}, {\"y\": [4851, 4822, 4927, 4822, 4897, 4737, 4610, 4307, 4217, 3928, 3360, 3048, 2812], \"x\": [1998, 1999, 2000, 2001, 2002, 2003, 2004, 2005, 2006, 2007, 2008, 2009, 2010], \"type\": \"scatter\", \"name\": \"# of passenger's death\", \"mode\": \"lines+markers\"}, {\"y\": [4532, 4583, 4424, 4443, 4694, 4337, 4401, 4101, 4117, 3682, 3325, 2938, 2649], \"x\": [1998, 1999, 2000, 2001, 2002, 2003, 2004, 2005, 2006, 2007, 2008, 2009, 2010], \"type\": \"scatter\", \"name\": \"# of drivers's death\", \"mode\": \"lines+markers\"}, {\"y\": [3512, 1824, 1557, 1712, 1769, 1745, 1485, 1468, 1528, 1175, 961, 1405, 1164], \"x\": [1998, 1999, 2000, 2001, 2002, 2003, 2004, 2005, 2006, 2007, 2008, 2009, 2010], \"type\": \"scatter\", \"name\": \"NA-code\", \"mode\": \"lines+markers\"}, {\"y\": [8032, 8991, 8866, 8397, 8170, 7436, 7104, 6478, 5922, 5405, 4747, 3455, 3225], \"x\": [1998, 1999, 2000, 2001, 2002, 2003, 2004, 2005, 2006, 2007, 2008, 2009, 2010], \"type\": \"scatter\", \"name\": \"no\", \"mode\": \"lines+markers\"}, {\"y\": [1556, 2147, 2472, 2798, 3214, 3418, 3948, 4071, 4196, 4365, 3951, 3902, 3587], \"x\": [1998, 1999, 2000, 2001, 2002, 2003, 2004, 2005, 2006, 2007, 2008, 2009, 2010], \"type\": \"scatter\", \"name\": \"yes\", \"mode\": \"lines+markers\"}], {}, {\"linkText\": \"Export to plot.ly\", \"showLink\": true})});</script>"
      ]
     },
     "metadata": {},
     "output_type": "display_data"
    }
   ],
   "source": [
    "iplot_data = []\n",
    "plot = Scatter(x=data_grp_year_count.year, y=data_grp_year_count.caseid, \\\n",
    "               mode='lines+markers', name=str('# of accidents'))\n",
    "iplot_data.append(plot)\n",
    "plot = Scatter(x=data_grp_year_p_death_dcount.year, y=data_grp_year_p_death_dcount.caseid,\\\n",
    "               mode='lines+markers', name=str('# of passenger\\'s death'))\n",
    "iplot_data.append(plot)\n",
    "plot = Scatter(x=data_grp_year_d_death_dcount.year, y=data_grp_year_d_death_dcount.caseid,\\\n",
    "               mode='lines+markers', name=str('# of drivers\\'s death'))\n",
    "iplot_data.append(plot)\n",
    "for airbagDeploy in (data_grp_airbagDeploy.airbagDeploy.unique()):\n",
    "    \n",
    "    new_data = data_grp_airbagDeploy[data_grp_airbagDeploy.airbagDeploy == airbagDeploy].reset_index()\n",
    "    plot = Scatter(x=new_data.year, y=new_data.caseid, mode='lines+markers', name=str(airbagDeploy))\n",
    "    iplot_data.append(plot)\n",
    "iplot(iplot_data)"
   ]
  },
  {
   "cell_type": "code",
   "execution_count": null,
   "metadata": {
    "collapsed": true
   },
   "outputs": [],
   "source": []
  }
 ],
 "metadata": {
  "kernelspec": {
   "display_name": "Python 2",
   "language": "python",
   "name": "python2"
  },
  "language_info": {
   "codemirror_mode": {
    "name": "ipython",
    "version": 2
   },
   "file_extension": ".py",
   "mimetype": "text/x-python",
   "name": "python",
   "nbconvert_exporter": "python",
   "pygments_lexer": "ipython2",
   "version": "2.7.13"
  }
 },
 "nbformat": 4,
 "nbformat_minor": 2
}
